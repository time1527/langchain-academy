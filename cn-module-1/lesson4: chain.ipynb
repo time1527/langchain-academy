{
 "cells": [
  {
   "cell_type": "markdown",
   "id": "4cbf2458",
   "metadata": {},
   "source": [
    "[![Open in Colab](https://colab.research.google.com/assets/colab-badge.svg)](https://colab.research.google.com/github/langchain-ai/langchain-academy/blob/main/module-1/chain.ipynb) [![Open in LangChain Academy](https://cdn.prod.website-files.com/65b8cd72835ceeacd4449a53/66e9eba12c7b7688aa3dbb5e_LCA-badge-green.svg)](https://academy.langchain.com/courses/take/intro-to-langgraph/lessons/58238466-lesson-4-chain)\n"
   ]
  },
  {
   "attachments": {},
   "cell_type": "markdown",
   "id": "ee55d3da-c53a-4c76-b46f-8e0d602e072e",
   "metadata": {},
   "source": [
    "# 链（Chain）\n",
    "\n",
    "## 回顾\n",
    "\n",
    "我们之前构建了一个包含节点、普通边和条件边的简单图。\n",
    "\n",
    "## 目标\n",
    "\n",
    "现在，让我们构建一个简单的链，结合 4 个[概念](https://python.langchain.com/v0.2/docs/concepts/)：\n",
    "\n",
    "* 使用[聊天消息](https://python.langchain.com/v0.2/docs/concepts/#messages)作为图状态\n",
    "* 在图节点中使用[聊天模型](https://python.langchain.com/v0.2/docs/concepts/#chat-models)\n",
    "* 为聊天模型[绑定工具](https://python.langchain.com/v0.2/docs/concepts/#tools)\n",
    "* 在图节点中[执行工具调用](https://python.langchain.com/v0.2/docs/concepts/#functiontool-calling)\n",
    "\n",
    "![Screenshot 2024-08-21 at 9.24.03 AM.png](https://cdn.prod.website-files.com/65b8cd72835ceeacd4449a53/66dbab08dd607b08df5e1101_chain1.png)\n"
   ]
  },
  {
   "cell_type": "code",
   "execution_count": 1,
   "id": "a55e2e80-a718-4aaf-99b9-371157b34a4b",
   "metadata": {},
   "outputs": [],
   "source": [
    "%%capture --no-stderr\n",
    "%pip install --quiet -U langchain_openai langchain_core langgraph"
   ]
  },
  {
   "cell_type": "markdown",
   "id": "ae5ac2d0-c7b0-4a20-86e5-4b6ed15ec20e",
   "metadata": {},
   "source": [
    "## 消息（Messages）\n",
    "\n",
    "聊天模型可以使用[`messages`](https://python.langchain.com/v0.2/docs/concepts/#messages)，用于表达对话中的不同角色。\n",
    "\n",
    "LangChain 支持多种消息类型，包括 `HumanMessage`、`AIMessage`、`SystemMessage` 和 `ToolMessage`。\n",
    "\n",
    "它们分别表示：来自用户的消息、来自聊天模型的消息、用于指导模型行为的系统消息，以及来自工具调用的消息。\n",
    "\n",
    "我们先创建一组消息列表。\n",
    "\n",
    "每条消息可以包含以下内容：\n",
    "\n",
    "* `content` —— 消息内容\n",
    "* `name` —— 可选，消息作者\n",
    "* `response_metadata` —— 可选，元数据字典（例如，常由模型提供商为 `AIMessage` 填充）\n"
   ]
  },
  {
   "cell_type": "code",
   "execution_count": null,
   "id": "866b5321-a238-4a9e-af9e-f11a131b5f11",
   "metadata": {},
   "outputs": [
    {
     "name": "stdout",
     "output_type": "stream",
     "text": [
      "==================================\u001b[1m Ai Message \u001b[0m==================================\n",
      "Name: Model\n",
      "\n",
      "So you said you were researching ocean mammals?\n",
      "================================\u001b[1m Human Message \u001b[0m=================================\n",
      "Name: Lance\n",
      "\n",
      "Yes, that's right.\n",
      "==================================\u001b[1m Ai Message \u001b[0m==================================\n",
      "Name: Model\n",
      "\n",
      "Great, what would you like to learn about.\n",
      "================================\u001b[1m Human Message \u001b[0m=================================\n",
      "Name: Lance\n",
      "\n",
      "I want to learn about the best place to see Orcas in the US.\n"
     ]
    }
   ],
   "source": [
    "from pprint import pprint\n",
    "from langchain_core.messages import AIMessage, HumanMessage\n",
    "\n",
    "messages = [\n",
    "    AIMessage(content=f\"So you said you were researching ocean mammals?\", name=\"Model\")\n",
    "]\n",
    "messages.append(HumanMessage(content=f\"Yes, that's right.\", name=\"Lance\"))\n",
    "messages.append(\n",
    "    AIMessage(content=f\"Great, what would you like to learn about.\", name=\"Model\")\n",
    ")\n",
    "messages.append(\n",
    "    HumanMessage(\n",
    "        content=f\"I want to learn about the best place to see Orcas in the US.\",\n",
    "        name=\"Lance\",\n",
    "    )\n",
    ")\n",
    "\n",
    "for m in messages:\n",
    "    m.pretty_print()"
   ]
  },
  {
   "cell_type": "markdown",
   "id": "0ca48df0-b639-4ff1-a777-ffe2185d991e",
   "metadata": {},
   "source": [
    "## 聊天模型（Chat Models）\n",
    "\n",
    "[聊天模型](https://python.langchain.com/v0.2/docs/concepts/#chat-models) 可以接收一系列消息作为输入，并支持上述消息类型。\n",
    "\n",
    "可选的[模型很多](https://python.langchain.com/v0.2/docs/concepts/#chat-models)！这里我们使用 OpenAI。\n",
    "\n",
    "先检查你的 `OPENAI_API_KEY` 是否已设置；如果没有，代码会提示你输入。\n"
   ]
  },
  {
   "cell_type": "code",
   "execution_count": null,
   "id": "2652d5ec-7602-4220-bc6e-b90783ab287b",
   "metadata": {},
   "outputs": [],
   "source": [
    "import os, getpass\n",
    "\n",
    "\n",
    "def _set_env(var: str):\n",
    "    if not os.environ.get(var):\n",
    "        os.environ[var] = getpass.getpass(f\"{var}: \")\n",
    "\n",
    "\n",
    "# _set_env(\"OPENAI_API_KEY\")\n",
    "_set_env(\"DASHSCOPE_API_KEY\")"
   ]
  },
  {
   "cell_type": "markdown",
   "id": "ceae53d4-14f5-4bf3-a953-cc465240f5b5",
   "metadata": {},
   "source": [
    "我们可以加载一个聊天模型，并用我们的消息列表调用它。\n",
    "\n",
    "可以看到结果是一个带有特定 `response_metadata` 的 `AIMessage`。\n"
   ]
  },
  {
   "cell_type": "code",
   "execution_count": 4,
   "id": "95b99ad4-5753-49d3-a916-a9e949722c01",
   "metadata": {},
   "outputs": [
    {
     "data": {
      "text/plain": [
       "langchain_core.messages.ai.AIMessage"
      ]
     },
     "execution_count": 4,
     "metadata": {},
     "output_type": "execute_result"
    }
   ],
   "source": [
    "# from langchain_openai import ChatOpenAI\n",
    "# llm = ChatOpenAI(model=\"gpt-4o\")\n",
    "\n",
    "from langchain_community.chat_models import ChatTongyi\n",
    "\n",
    "llm = ChatTongyi(model=\"qwen-plus\")\n",
    "\n",
    "result = llm.invoke(messages)\n",
    "type(result)"
   ]
  },
  {
   "cell_type": "code",
   "execution_count": 5,
   "id": "88d60338-c892-4d04-a83f-878de4a76a6a",
   "metadata": {},
   "outputs": [
    {
     "data": {
      "text/plain": [
       "AIMessage(content='One of the best places in the U.S. to see orcas (also known as killer whales) in the wild is **Puget Sound in Washington State**, particularly around the **San Juan Islands**.\\n\\nThe waters near **Friday Harbor, Lime Kiln Point State Park**, and **Orcas Island** are especially famous for orca sightings. This area is home to the **southern resident orca population**, which consists of three pods—J, K, and L—that frequently travel through these inland waterways in search of salmon, especially Chinook salmon, their primary food source.\\n\\n**Best time to visit:**  \\nThe peak season for orca viewing is typically from **spring through fall (May to October)**, when salmon runs attract the whales closer to shore.\\n\\nIn addition to boat tours, you can sometimes spot orcas from land at **Lime Kiln Point**, known as one of the best whale-watching sites in the world for viewing orcas from the shoreline.\\n\\nOther notable places in the U.S. where orcas are occasionally seen include:\\n- **Monterey Bay, California** – Known for transient (mammal-eating) orcas.\\n- **Alaska’s Kenai Fjords and Prince William Sound** – Great for both resident and transient orcas, especially in summer.\\n\\nWould you like tips on responsible whale-watching practices or recommendations for tour operators?', additional_kwargs={}, response_metadata={'model_name': 'qwen-plus', 'finish_reason': 'stop', 'request_id': '77642f69-8c48-4f4c-9e24-44bd4ecd6d4e', 'token_usage': {'input_tokens': 69, 'output_tokens': 285, 'total_tokens': 354, 'prompt_tokens_details': {'cached_tokens': 0}}}, id='run--e0eddbc4-c3a8-4b1b-b226-b19c766cac43-0')"
      ]
     },
     "execution_count": 5,
     "metadata": {},
     "output_type": "execute_result"
    }
   ],
   "source": [
    "result"
   ]
  },
  {
   "cell_type": "code",
   "execution_count": 6,
   "id": "c3a29654-6b8e-4eda-9cec-22fabb9b8620",
   "metadata": {},
   "outputs": [
    {
     "data": {
      "text/plain": [
       "{'model_name': 'qwen-plus',\n",
       " 'finish_reason': 'stop',\n",
       " 'request_id': '77642f69-8c48-4f4c-9e24-44bd4ecd6d4e',\n",
       " 'token_usage': {'input_tokens': 69,\n",
       "  'output_tokens': 285,\n",
       "  'total_tokens': 354,\n",
       "  'prompt_tokens_details': {'cached_tokens': 0}}}"
      ]
     },
     "execution_count": 6,
     "metadata": {},
     "output_type": "execute_result"
    }
   ],
   "source": [
    "result.response_metadata"
   ]
  },
  {
   "attachments": {},
   "cell_type": "markdown",
   "id": "4718bd5c-5314-4405-a164-f1fe912ae306",
   "metadata": {},
   "source": [
    "## 工具（Tools）\n",
    "\n",
    "当你希望模型与外部系统交互时，工具就很有用。\n",
    "\n",
    "外部系统（例如 API）通常需要特定的输入模式或载荷，而非自然语言。\n",
    "\n",
    "当我们将某个 API 绑定为工具时，就让模型了解了其所需的输入模式。\n",
    "\n",
    "模型会基于用户的自然语言输入来决定是否调用某个工具。\n",
    "\n",
    "同时，工具的输出会遵循该工具的模式。\n",
    "\n",
    "[许多 LLM 提供商支持工具调用](https://python.langchain.com/v0.1/docs/integrations/chat/)，而 LangChain 的[工具调用接口](https://blog.langchain.dev/improving-core-tool-interfaces-and-docs-in-langchain/)也很简单。\n",
    "\n",
    "你可以把任意 Python `function` 传给 `ChatModel.bind_tools(function)`。\n"
   ]
  },
  {
   "cell_type": "markdown",
   "id": "17a942b1",
   "metadata": {},
   "source": [
    "下面展示一个简单的工具调用示例！\n",
    "\n",
    "`multiply` 函数就是我们的工具。\n"
   ]
  },
  {
   "cell_type": "code",
   "execution_count": 7,
   "id": "928faf56-1a1a-4c5f-b97d-bd64d8e166d1",
   "metadata": {},
   "outputs": [],
   "source": [
    "def multiply(a: int, b: int) -> int:\n",
    "    \"\"\"Multiply a and b.\n",
    "\n",
    "    Args:\n",
    "        a: first int\n",
    "        b: second int\n",
    "    \"\"\"\n",
    "    return a * b\n",
    "\n",
    "\n",
    "llm_with_tools = llm.bind_tools([multiply])"
   ]
  },
  {
   "cell_type": "markdown",
   "id": "8a3f9dba",
   "metadata": {},
   "source": [
    "如果我们传入一个输入，比如 `\"What is 2 multiplied by 3\"`，就会看到返回了一个工具调用。\n",
    "\n",
    "工具调用包含与函数输入模式相匹配的具体参数，以及要调用的函数名。\n",
    "\n",
    "```\n",
    "{'arguments': '{\"a\":2,\"b\":3}', 'name': 'multiply'}\n",
    "```\n"
   ]
  },
  {
   "cell_type": "code",
   "execution_count": 8,
   "id": "9edbe13e-cc72-4685-ac97-2ebb4ceb2544",
   "metadata": {},
   "outputs": [],
   "source": [
    "tool_call = llm_with_tools.invoke(\n",
    "    [HumanMessage(content=f\"What is 2 multiplied by 3\", name=\"Lance\")]\n",
    ")"
   ]
  },
  {
   "cell_type": "code",
   "execution_count": 9,
   "id": "a78178cb-fa43-45b5-be5e-5a22bda5a5e7",
   "metadata": {},
   "outputs": [
    {
     "data": {
      "text/plain": [
       "[{'name': 'multiply',\n",
       "  'args': {'a': 2, 'b': 3},\n",
       "  'id': 'call_cb7182aca05645a5949921',\n",
       "  'type': 'tool_call'}]"
      ]
     },
     "execution_count": 9,
     "metadata": {},
     "output_type": "execute_result"
    }
   ],
   "source": [
    "tool_call.tool_calls"
   ]
  },
  {
   "cell_type": "markdown",
   "id": "21c10f9a-2372-486b-9305-55b7c41ecd6e",
   "metadata": {},
   "source": [
    "## 将消息作为状态使用\n",
    "\n",
    "在这些基础之上，我们可以在图状态中使用[`messages`](https://python.langchain.com/v0.2/docs/concepts/#messages)。\n",
    "\n",
    "我们把状态 `MessagesState` 定义为一个只包含单个键 `messages` 的 `TypedDict`。\n",
    "\n",
    "`messages` 就是我们上面定义的消息列表（例如 `HumanMessage` 等）。\n"
   ]
  },
  {
   "cell_type": "code",
   "execution_count": 10,
   "id": "3699dd5c-398c-43c7-b496-fd87e55e11ca",
   "metadata": {},
   "outputs": [],
   "source": [
    "from typing_extensions import TypedDict\n",
    "from langchain_core.messages import AnyMessage\n",
    "\n",
    "\n",
    "class MessagesState(TypedDict):\n",
    "    messages: list[AnyMessage]"
   ]
  },
  {
   "cell_type": "markdown",
   "id": "211cba3e-ebba-4b91-a539-1cbc28b4a40e",
   "metadata": {},
   "source": [
    "## 归约器（Reducers）\n",
    "\n",
    "我们遇到了一个小问题！\n",
    "\n",
    "如前所述，每个节点都会为状态键 `messages` 返回一个新值。\n",
    "\n",
    "但这个新值会[覆盖](https://langchain-ai.github.io/langgraph/concepts/low_level/#reducers)之前的 `messages` 值。\n",
    "\n",
    "而在图的执行过程中，我们希望把新消息**追加**到 `messages` 中。\n",
    "\n",
    "我们可以使用[归约器函数](https://langchain-ai.github.io/langgraph/concepts/low_level/#reducers)来解决这一点。\n",
    "\n",
    "归约器允许我们指定状态更新的方式。\n",
    "\n",
    "如果没有指定归约器函数，就会像之前看到的那样，默认认为对该键的更新应当是覆盖。\n",
    "\n",
    "但如果要追加消息，我们可以使用预置的 `add_messages` 归约器。\n",
    "\n",
    "这样就可以确保任何消息都会被追加到现有的消息列表中。\n",
    "\n",
    "我们只需要在 `messages` 键的元数据中标注 `add_messages` 这个归约器函数即可。\n"
   ]
  },
  {
   "cell_type": "code",
   "execution_count": 11,
   "id": "6b33eb72-3197-4870-b9a3-0da8056c40c5",
   "metadata": {},
   "outputs": [],
   "source": [
    "from typing import Annotated\n",
    "from langgraph.graph.message import add_messages\n",
    "\n",
    "\n",
    "class MessagesState(TypedDict):\n",
    "    messages: Annotated[list[AnyMessage], add_messages]"
   ]
  },
  {
   "cell_type": "markdown",
   "id": "3663e574-ba15-46be-a37c-48c8052d693b",
   "metadata": {},
   "source": [
    "由于在图状态中维护消息列表非常常见，LangGraph 提供了一个预构建的 [`MessagesState`](https://langchain-ai.github.io/langgraph/concepts/low_level/#messagesstate)！\n",
    "\n",
    "`MessagesState` 的定义：\n",
    "\n",
    "* 预置了一个 `messages` 键\n",
    "* 它是 `AnyMessage` 对象的列表\n",
    "* 使用了 `add_messages` 归约器\n",
    "\n",
    "通常我们会使用 `MessagesState`，因为它比自己定义 `TypedDict` 更简洁。\n"
   ]
  },
  {
   "cell_type": "code",
   "execution_count": 12,
   "id": "9ab516ee-eab1-4856-8210-99f1fe499672",
   "metadata": {},
   "outputs": [],
   "source": [
    "from langgraph.graph import MessagesState\n",
    "\n",
    "\n",
    "class MessagesState(MessagesState):\n",
    "    # Add any keys needed beyond messages, which is pre-built\n",
    "    pass"
   ]
  },
  {
   "cell_type": "markdown",
   "id": "36b0fff7-60a2-4582-8f12-3a3ab6633d6c",
   "metadata": {},
   "source": [
    "更进一步，我们可以单独看看 `add_messages` 归约器是如何工作的。\n"
   ]
  },
  {
   "cell_type": "code",
   "execution_count": 13,
   "id": "23ffea76-16a5-4053-a1bc-91e0101d91dc",
   "metadata": {},
   "outputs": [
    {
     "data": {
      "text/plain": [
       "[AIMessage(content='Hello! How can I assist you?', additional_kwargs={}, response_metadata={}, name='Model', id='cd9f963b-6fca-49eb-b355-222e23d63dfa'),\n",
       " HumanMessage(content=\"I'm looking for information on marine biology.\", additional_kwargs={}, response_metadata={}, name='Lance', id='8b46575f-fb8c-4cb0-b23f-1877ac0285f4'),\n",
       " AIMessage(content='Sure, I can help with that. What specifically are you interested in?', additional_kwargs={}, response_metadata={}, name='Model', id='d66c88f1-b07d-42ce-9ce7-265b46357f65')]"
      ]
     },
     "execution_count": 13,
     "metadata": {},
     "output_type": "execute_result"
    }
   ],
   "source": [
    "# Initial state\n",
    "initial_messages = [\n",
    "    AIMessage(content=\"Hello! How can I assist you?\", name=\"Model\"),\n",
    "    HumanMessage(\n",
    "        content=\"I'm looking for information on marine biology.\", name=\"Lance\"\n",
    "    ),\n",
    "]\n",
    "\n",
    "# New message to add\n",
    "new_message = AIMessage(\n",
    "    content=\"Sure, I can help with that. What specifically are you interested in?\",\n",
    "    name=\"Model\",\n",
    ")\n",
    "\n",
    "# Test\n",
    "add_messages(initial_messages, new_message)"
   ]
  },
  {
   "cell_type": "markdown",
   "id": "485adccc-f262-49dd-af4f-a30e9b6a48e2",
   "metadata": {},
   "source": [
    "## 我们的图\n",
    "\n",
    "现在，让我们在图中使用 `MessagesState`。\n"
   ]
  },
  {
   "cell_type": "code",
   "execution_count": 16,
   "id": "b5306639-7e6a-44be-8471-8d2631701cfb",
   "metadata": {},
   "outputs": [
    {
     "data": {
      "image/png": "[encoded data removed]",
      "text/plain": [
       "<IPython.core.display.Image object>"
      ]
     },
     "metadata": {},
     "output_type": "display_data"
    }
   ],
   "source": [
    "from IPython.display import Image, display\n",
    "from langgraph.graph import StateGraph, START, END\n",
    "\n",
    "\n",
    "# Node\n",
    "def tool_calling_llm(state: MessagesState):\n",
    "    return {\"messages\": [llm_with_tools.invoke(state[\"messages\"])]}\n",
    "\n",
    "\n",
    "# Build graph\n",
    "builder = StateGraph(MessagesState)\n",
    "builder.add_node(\"tool_calling_llm\", tool_calling_llm)\n",
    "builder.add_edge(START, \"tool_calling_llm\")\n",
    "builder.add_edge(\"tool_calling_llm\", END)\n",
    "graph = builder.compile()\n",
    "\n",
    "# View\n",
    "display(Image(graph.get_graph().draw_mermaid_png(max_retries=5, retry_delay=2.0)))"
   ]
  },
  {
   "cell_type": "markdown",
   "id": "e8909771-7786-47d6-a53d-6bbc3b365737",
   "metadata": {},
   "source": [
    "如果传入 `Hello!`，LLM 会在不调用任何工具的情况下直接回复。\n"
   ]
  },
  {
   "cell_type": "code",
   "execution_count": 17,
   "id": "983e2487-c0a5-40a2-afbc-aa53ff49fefc",
   "metadata": {},
   "outputs": [
    {
     "name": "stdout",
     "output_type": "stream",
     "text": [
      "================================\u001b[1m Human Message \u001b[0m=================================\n",
      "\n",
      "Hello!\n",
      "==================================\u001b[1m Ai Message \u001b[0m==================================\n",
      "\n",
      "Hello! How can I assist you today?\n"
     ]
    }
   ],
   "source": [
    "messages = graph.invoke({\"messages\": HumanMessage(content=\"Hello!\")})\n",
    "for m in messages[\"messages\"]:\n",
    "    m.pretty_print()"
   ]
  },
  {
   "cell_type": "markdown",
   "id": "3588688b-efd9-4dbc-abf2-7903e3ef89ba",
   "metadata": {},
   "source": [
    "当输入或任务需要某个工具提供的功能时，LLM 会选择使用该工具。\n"
   ]
  },
  {
   "cell_type": "code",
   "execution_count": 18,
   "id": "7fe8b042-ecc8-426f-995e-cc1bbaf7cacc",
   "metadata": {},
   "outputs": [
    {
     "name": "stdout",
     "output_type": "stream",
     "text": [
      "================================\u001b[1m Human Message \u001b[0m=================================\n",
      "\n",
      "Multiply 2 and 3\n",
      "==================================\u001b[1m Ai Message \u001b[0m==================================\n",
      "Tool Calls:\n",
      "  multiply (call_e2ef983e738848ed869d63)\n",
      " Call ID: call_e2ef983e738848ed869d63\n",
      "  Args:\n",
      "    a: 2\n",
      "    b: 3\n"
     ]
    }
   ],
   "source": [
    "messages = graph.invoke({\"messages\": HumanMessage(content=\"Multiply 2 and 3\")})\n",
    "for m in messages[\"messages\"]:\n",
    "    m.pretty_print()"
   ]
  }
 ],
 "metadata": {
  "kernelspec": {
   "display_name": "py311",
   "language": "python",
   "name": "python3"
  },
  "language_info": {
   "codemirror_mode": {
    "name": "ipython",
    "version": 3
   },
   "file_extension": ".py",
   "mimetype": "text/x-python",
   "name": "python",
   "nbconvert_exporter": "python",
   "pygments_lexer": "ipython3",
   "version": "3.11.13"
  }
 },
 "nbformat": 4,
 "nbformat_minor": 5
}
