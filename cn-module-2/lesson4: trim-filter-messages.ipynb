{
 "cells": [
  {
   "cell_type": "markdown",
   "id": "fb0ebaf1",
   "metadata": {},
   "source": [
    "[![在 Colab 中打开](https://colab.research.google.com/assets/colab-badge.svg)](https://colab.research.google.com/github/langchain-ai/langchain-academy/blob/main/module-2/trim-filter-messages.ipynb) [![在 LangChain Academy 中打开](https://cdn.prod.website-files.com/65b8cd72835ceeacd4449a53/66e9eba12c7b7688aa3dbb5e_LCA-badge-green.svg)](https://academy.langchain.com/courses/take/intro-to-langgraph/lessons/58239435-lesson-4-trim-and-filter-messages)\n"
   ]
  },
  {
   "cell_type": "markdown",
   "id": "c52ea2f9-03ff-4647-b782-46867ebed04e",
   "metadata": {},
   "source": [
    "# 过滤与裁剪消息\n",
    "\n",
    "## 回顾\n",
    "\n",
    "现在我们已经进一步理解了下面这些内容：\n",
    "\n",
    "* 如何自定义图状态 schema\n",
    "* 如何定义自定义状态 reducer\n",
    "* 如何使用多种图状态 schema\n",
    "\n",
    "## 目标\n",
    "\n",
    "接下来我们把这些概念与 LangGraph 中的模型结合起来！\n",
    "\n",
    "在接下来的几节课里，我们会构建一个拥有长期记忆的聊天机器人。\n",
    "\n",
    "既然聊天机器人会处理消息，我们先来聊聊在图状态中操作消息的一些进阶方法。\n"
   ]
  },
  {
   "cell_type": "code",
   "execution_count": 1,
   "id": "d5197aba-5d46-421b-ae3b-4e3034edcfda",
   "metadata": {},
   "outputs": [],
   "source": [
    "%%capture --no-stderr\n",
    "%pip install --quiet -U langchain_core langgraph langchain_openai"
   ]
  },
  {
   "cell_type": "code",
   "execution_count": 2,
   "id": "768dc606-d5f2-468d-96ea-910b264e0f8a",
   "metadata": {},
   "outputs": [],
   "source": [
    "import os, getpass\n",
    "\n",
    "\n",
    "def _set_env(var: str):\n",
    "    if not os.environ.get(var):\n",
    "        os.environ[var] = getpass.getpass(f\"{var}: \")\n",
    "\n",
    "\n",
    "_set_env(\"DASHSCOPE_API_KEY\")"
   ]
  },
  {
   "cell_type": "markdown",
   "id": "8b64d8d3-e4ac-4961-bdc0-688825eb5864",
   "metadata": {},
   "source": [
    "我们将使用 [LangSmith](https://docs.smith.langchain.com/) 进行[追踪](https://docs.smith.langchain.com/concepts/tracing)。\n",
    "\n",
    "我们会把日志记录到项目 `langchain-academy`。\n"
   ]
  },
  {
   "cell_type": "code",
   "execution_count": 3,
   "id": "dd020c79",
   "metadata": {},
   "outputs": [],
   "source": [
    "_set_env(\"LANGSMITH_API_KEY\")\n",
    "os.environ[\"LANGSMITH_TRACING\"] = \"true\"\n",
    "os.environ[\"LANGSMITH_PROJECT\"] = \"langchain-academy\""
   ]
  },
  {
   "cell_type": "markdown",
   "id": "72f3fc90-58b6-4f7f-897e-dddf6ae532c7",
   "metadata": {},
   "source": [
    "## 消息即状态\n",
    "\n",
    "首先先定义几条消息。\n"
   ]
  },
  {
   "cell_type": "code",
   "execution_count": 4,
   "id": "cf11a463-e27a-4a05-b41d-64882e38edca",
   "metadata": {},
   "outputs": [
    {
     "name": "stdout",
     "output_type": "stream",
     "text": [
      "==================================\u001b[1m Ai Message \u001b[0m==================================\n",
      "Name: Bot\n",
      "\n",
      "So you said you were researching ocean mammals?\n",
      "================================\u001b[1m Human Message \u001b[0m=================================\n",
      "Name: Lance\n",
      "\n",
      "Yes, I know about whales. But what others should I learn about?\n"
     ]
    }
   ],
   "source": [
    "from pprint import pprint\n",
    "from langchain_core.messages import AIMessage, HumanMessage\n",
    "\n",
    "messages = [AIMessage(f\"So you said you were researching ocean mammals?\", name=\"Bot\")]\n",
    "messages.append(\n",
    "    HumanMessage(\n",
    "        f\"Yes, I know about whales. But what others should I learn about?\", name=\"Lance\"\n",
    "    )\n",
    ")\n",
    "\n",
    "for m in messages:\n",
    "    m.pretty_print()"
   ]
  },
  {
   "cell_type": "markdown",
   "id": "b814adcb-6bf9-4b75-be11-e59f933fbd0c",
   "metadata": {},
   "source": [
    "回顾一下，我们可以把它们传给聊天模型。\n"
   ]
  },
  {
   "cell_type": "code",
   "execution_count": 5,
   "id": "93c3e560",
   "metadata": {},
   "outputs": [],
   "source": [
    "# !pip install ipywidgets jupyter --quiet"
   ]
  },
  {
   "cell_type": "code",
   "execution_count": 6,
   "id": "4712e288-e622-48a2-ad3f-a52f65f3ab08",
   "metadata": {},
   "outputs": [
    {
     "name": "stderr",
     "output_type": "stream",
     "text": [
      "None of PyTorch, TensorFlow >= 2.0, or Flax have been found. Models won't be available and only tokenizers, configuration and file/data utilities can be used.\n"
     ]
    },
    {
     "data": {
      "text/plain": [
       "AIMessage(content='Great! Whales are fascinating, but there are several other amazing ocean mammals worth learning about. Here are some key groups of marine mammals beyond whales:\\n\\n1. **Dolphins**  \\n   - Part of the *cetacean* family (like whales and porpoises).  \\n   - Highly intelligent and social animals—some species use echolocation and complex communication.  \\n   - The bottlenose dolphin is one of the most well-known, but there are over 90 species, including orcas (killer whales), which are actually the largest dolphins!\\n\\n2. **Porpoises**  \\n   - Similar to dolphins but generally smaller with more rounded bodies and shorter beaks.  \\n   - Less vocal and less acrobatic than dolphins.  \\n   - Examples: harbor porpoise, Dall’s porpoise.\\n\\n3. **Seals, Sea Lions, and Walruses (Pinnipeds)**  \\n   - These are semi-aquatic mammals that spend time both in water and on land/ice.  \\n   - **Seals**: Move awkwardly on land; no external ears.  \\n   - **Sea lions**: More agile on land; have visible ear flaps and can walk on their flippers.  \\n   - **Walruses**: Known for their long tusks and whiskers; use them to forage on the seafloor.\\n\\n4. **Manatees and Dugongs (Sirenians)**  \\n   - Gentle, slow-moving herbivores often called \"sea cows.\"  \\n   - Found in warm coastal waters and rivers.  \\n   - Manatees live in the Atlantic (e.g., Florida), while dugongs are found in the Indo-Pacific.  \\n   - Both are endangered due to habitat loss and boat collisions.\\n\\n5. **Sea Otters**  \\n   - Not as large as other marine mammals, but incredibly important for kelp forest ecosystems.  \\n   - Use tools (like rocks) to crack open shellfish.  \\n   - Have the densest fur of any mammal—no blubber!  \\n\\n6. **Polar Bears**  \\n   - Often considered marine mammals because they depend heavily on the ocean and sea ice for hunting seals.  \\n   - Excellent swimmers and can travel long distances in cold waters.  \\n   - Classified as a marine mammal by some agencies (like the U.S. Marine Mammal Protection Act).\\n\\nEach of these plays a vital role in marine ecosystems. If you\\'re doing research, you might explore their adaptations to aquatic life, communication methods, conservation status, or how climate change affects them.\\n\\nWant to dive deeper into one group in particular?', additional_kwargs={}, response_metadata={'model_name': 'qwen-plus', 'finish_reason': 'stop', 'request_id': 'e97312a3-6d31-4c65-a789-aebb9523dcc8', 'token_usage': {'input_tokens': 42, 'output_tokens': 541, 'total_tokens': 583, 'prompt_tokens_details': {'cached_tokens': 0}}}, id='run--31fa6e6c-9914-4e94-81aa-27534919a9f9-0')"
      ]
     },
     "execution_count": 6,
     "metadata": {},
     "output_type": "execute_result"
    }
   ],
   "source": [
    "# from langchain_openai import ChatOpenAI\n",
    "\n",
    "# llm = ChatOpenAI(model=\"gpt-4o\")\n",
    "\n",
    "from langchain_community.chat_models import ChatTongyi\n",
    "\n",
    "llm = ChatTongyi(model=\"qwen-plus\")\n",
    "llm.invoke(messages)"
   ]
  },
  {
   "cell_type": "markdown",
   "id": "fbd1dab8-0af8-4621-8264-ce65065f76ec",
   "metadata": {},
   "source": [
    "我们可以在一个使用 `MessagesState` 的简单图中运行聊天模型。\n"
   ]
  },
  {
   "cell_type": "code",
   "execution_count": 7,
   "id": "bbd8c39c-633b-4176-9cc6-8318e42bb5dd",
   "metadata": {},
   "outputs": [
    {
     "data": {
      "image/png": "[encoded data removed]",
      "text/plain": [
       "<IPython.core.display.Image object>"
      ]
     },
     "metadata": {},
     "output_type": "display_data"
    }
   ],
   "source": [
    "from IPython.display import Image, display\n",
    "from langgraph.graph import MessagesState\n",
    "from langgraph.graph import StateGraph, START, END\n",
    "\n",
    "\n",
    "# Node\n",
    "def chat_model_node(state: MessagesState):\n",
    "    return {\"messages\": llm.invoke(state[\"messages\"])}\n",
    "\n",
    "\n",
    "# Build graph\n",
    "builder = StateGraph(MessagesState)\n",
    "builder.add_node(\"chat_model\", chat_model_node)\n",
    "builder.add_edge(START, \"chat_model\")\n",
    "builder.add_edge(\"chat_model\", END)\n",
    "graph = builder.compile()\n",
    "\n",
    "# View\n",
    "display(Image(graph.get_graph().draw_mermaid_png()))"
   ]
  },
  {
   "cell_type": "code",
   "execution_count": 8,
   "id": "3a5a3e4a-ccfd-4d14-81f1-f0de6e11a1e4",
   "metadata": {},
   "outputs": [
    {
     "name": "stdout",
     "output_type": "stream",
     "text": [
      "==================================\u001b[1m Ai Message \u001b[0m==================================\n",
      "Name: Bot\n",
      "\n",
      "So you said you were researching ocean mammals?\n",
      "================================\u001b[1m Human Message \u001b[0m=================================\n",
      "Name: Lance\n",
      "\n",
      "Yes, I know about whales. But what others should I learn about?\n",
      "==================================\u001b[1m Ai Message \u001b[0m==================================\n",
      "\n",
      "That's great! Whales are fascinating, but there are many other amazing ocean mammals worth learning about. Here are some key groups of marine mammals beyond whales:\n",
      "\n",
      "1. **Dolphins**  \n",
      "   - Part of the cetacean family (like whales and porpoises).  \n",
      "   - Highly intelligent and social—often seen in pods.  \n",
      "   - The bottlenose dolphin is one of the most well-known species.  \n",
      "   - Some dolphins, like the orca (killer whale), are actually the largest members of the dolphin family!\n",
      "\n",
      "2. **Porpoises**  \n",
      "   - Similar to dolphins but generally smaller with more rounded bodies and shorter beaks.  \n",
      "   - Less vocal and less acrobatic than dolphins.  \n",
      "   - The harbor porpoise is a common example.\n",
      "\n",
      "3. **Pinnipeds (Seals, Sea Lions, and Walruses)**  \n",
      "   - Semi-aquatic mammals that spend time both in water and on land/ice.  \n",
      "   - **Seals**: Have no external ears and move awkwardly on land using their bellies.  \n",
      "   - **Sea lions**: Have visible ear flaps and can \"walk\" on land using their flippers. Very vocal and agile.  \n",
      "   - **Walruses**: Known for their long tusks and whiskers; live in Arctic regions.\n",
      "\n",
      "4. **Sirenians (Manatees and Dugongs)**  \n",
      "   - Gentle, slow-moving herbivores often called \"sea cows.\"  \n",
      "   - Manatees live in warm coastal waters and rivers (especially around Florida and the Caribbean).  \n",
      "   - Dugongs are found in the Indo-Pacific region and have a dolphin-like tail.  \n",
      "   - Both are endangered due to habitat loss and boat collisions.\n",
      "\n",
      "5. **Marine Otters**  \n",
      "   - The **sea otter** lives along the coasts of the North Pacific Ocean.  \n",
      "   - Known for using tools (like rocks) to crack open shellfish.  \n",
      "   - They have the densest fur of any mammal, which keeps them warm without a blubber layer.  \n",
      "   - Play a crucial role in kelp forest ecosystems by controlling sea urchin populations.\n",
      "\n",
      "6. **Polar Bears**  \n",
      "   - Though they live on land and ice, polar bears are considered marine mammals because they depend heavily on the ocean for food (mainly seals).  \n",
      "   - Excellent swimmers and classified as marine mammals by U.S. law.\n",
      "\n",
      "Each of these animals has unique adaptations for life in the ocean—from echolocation in dolphins to insulated fur in otters. If you're doing research, you might explore how they communicate, migrate, or interact with their environments. Would you like to dive deeper into any of these groups?\n"
     ]
    }
   ],
   "source": [
    "output = graph.invoke({\"messages\": messages})\n",
    "for m in output[\"messages\"]:\n",
    "    m.pretty_print()"
   ]
  },
  {
   "cell_type": "markdown",
   "id": "34c33e63-1ef4-412d-bb10-6a1b9e5b35a7",
   "metadata": {},
   "source": [
    "## Reducer\n",
    "\n",
    "处理消息时，一个实际问题是如何管理长期对话。\n",
    "\n",
    "如果不加以控制，每次向模型传入不断增长的消息列表会导致 token 使用量和延迟大幅增加。\n",
    "\n",
    "我们有几种方式可以应对。\n",
    "\n",
    "首先，回顾一下我们用过的技巧：结合 `RemoveMessage` 与 `add_messages` reducer。\n"
   ]
  },
  {
   "cell_type": "code",
   "execution_count": 9,
   "id": "222c6bc5-bb0e-4a43-80f5-c8ec38d99f3a",
   "metadata": {},
   "outputs": [],
   "source": [
    "from langchain_core.messages import RemoveMessage\n",
    "\n",
    "\n",
    "# Nodes\n",
    "def filter_messages(state: MessagesState):\n",
    "    # Delete all but the 2 most recent messages\n",
    "    delete_messages = [RemoveMessage(id=m.id) for m in state[\"messages\"][:-2]]\n",
    "    return {\"messages\": delete_messages}\n",
    "\n",
    "\n",
    "def chat_model_node(state: MessagesState):\n",
    "    return {\"messages\": [llm.invoke(state[\"messages\"])]}\n",
    "\n",
    "\n",
    "# Build graph\n",
    "builder = StateGraph(MessagesState)\n",
    "builder.add_node(\"filter\", filter_messages)\n",
    "builder.add_node(\"chat_model\", chat_model_node)\n",
    "builder.add_edge(START, \"filter\")\n",
    "builder.add_edge(\"filter\", \"chat_model\")\n",
    "builder.add_edge(\"chat_model\", END)\n",
    "graph = builder.compile()\n",
    "\n",
    "# View\n",
    "# display(Image(graph.get_graph().draw_mermaid_png(max_retries=15, retry_delay=2.0)))"
   ]
  },
  {
   "cell_type": "code",
   "execution_count": 10,
   "id": "95a7c2cc-54ce-43e7-9a90-abf37827d709",
   "metadata": {},
   "outputs": [
    {
     "name": "stdout",
     "output_type": "stream",
     "text": [
      "==================================\u001b[1m Ai Message \u001b[0m==================================\n",
      "Name: Bot\n",
      "\n",
      "So you said you were researching ocean mammals?\n",
      "================================\u001b[1m Human Message \u001b[0m=================================\n",
      "Name: Lance\n",
      "\n",
      "Yes, I know about whales. But what others should I learn about?\n",
      "==================================\u001b[1m Ai Message \u001b[0m==================================\n",
      "\n",
      "That's great! Whales are fascinating, but there’s a whole world of ocean mammals beyond them. Here are some other major groups you should learn about:\n",
      "\n",
      "1. **Dolphins**  \n",
      "   - Highly intelligent and social, dolphins are part of the *toothed whale* family (odontocetes), which also includes whales like orcas.\n",
      "   - Species include bottlenose dolphins, spinner dolphins, and the larger orca (also called killer whale).\n",
      "   - Found in oceans worldwide and even some rivers (like the Amazon river dolphin).\n",
      "\n",
      "2. **Porpoises**  \n",
      "   - Often confused with dolphins, porpoises are smaller, have more rounded bodies, and different teeth (spade-shaped vs. cone-shaped).\n",
      "   - Less vocal and more elusive than dolphins.\n",
      "   - Examples: harbor porpoise, Dall’s porpoise.\n",
      "\n",
      "3. **Seals (Pinnipeds – True Seals)**  \n",
      "   - Belong to the group *Pinnipedia*, which means “fin-footed.”\n",
      "   - Use their back flippers for swimming and move awkwardly on land.\n",
      "   - Examples: harbor seal, elephant seal, leopard seal.\n",
      "\n",
      "4. **Sea Lions**  \n",
      "   - Also pinnipeds, but more agile on land thanks to rotating hind flippers.\n",
      "   - Known for loud barking and intelligence—often seen in marine shows.\n",
      "   - Examples: California sea lion, Steller sea lion.\n",
      "\n",
      "5. **Walruses**  \n",
      "   - Another pinniped, easily recognized by their long tusks and whiskers.\n",
      "   - Live in Arctic regions and use tusks for climbing ice and defense.\n",
      "   - Depend heavily on sea ice for resting and breeding.\n",
      "\n",
      "6. **Manatees and Dugongs (Sirenians)**  \n",
      "   - Gentle, slow-moving herbivores that graze on seagrass.\n",
      "   - Manatees live in warm coastal waters and rivers (e.g., Florida, West Africa).\n",
      "   - Dugongs are found in the Indo-Pacific and have a fluked tail like whales.\n",
      "   - Often called \"sea cows.\"\n",
      "\n",
      "7. **Sea Otters**  \n",
      "   - Not as large as whales or seals, but incredibly important ecologically.\n",
      "   - Use tools (like rocks) to crack open shellfish.\n",
      "   - Keep kelp forests healthy by eating sea urchins.\n",
      "   - Found along the northern Pacific Ocean.\n",
      "\n",
      "8. **Polar Bears**  \n",
      "   - Technically marine mammals because they depend on the ocean for food (mainly seals) and spend much of their life on sea ice.\n",
      "   - Excellent swimmers and apex predators of the Arctic.\n",
      "\n",
      "Each of these animals has unique adaptations for life in the ocean—from blubber for insulation to specialized diving abilities and complex communication.\n",
      "\n",
      "Would you like to dive deeper into any of these groups? For example, we could explore how dolphins use echolocation or why sea otters are vital to marine ecosystems.\n"
     ]
    }
   ],
   "source": [
    "# Message list with a preamble\n",
    "messages = [AIMessage(\"Hi.\", name=\"Bot\", id=\"1\")]\n",
    "messages.append(HumanMessage(\"Hi.\", name=\"Lance\", id=\"2\"))\n",
    "messages.append(\n",
    "    AIMessage(\"So you said you were researching ocean mammals?\", name=\"Bot\", id=\"3\")\n",
    ")\n",
    "messages.append(\n",
    "    HumanMessage(\n",
    "        \"Yes, I know about whales. But what others should I learn about?\",\n",
    "        name=\"Lance\",\n",
    "        id=\"4\",\n",
    "    )\n",
    ")\n",
    "\n",
    "# Invoke\n",
    "output = graph.invoke({\"messages\": messages})\n",
    "for m in output[\"messages\"]:\n",
    "    m.pretty_print()"
   ]
  },
  {
   "cell_type": "markdown",
   "id": "f506457d-014b-4fee-a684-e5edfb4b8f0d",
   "metadata": {},
   "source": [
    "## 筛选消息\n",
    "\n",
    "如果你不需要（或不想）修改图状态，也可以只筛选传给聊天模型的消息。\n",
    "\n",
    "例如，只把过滤后的列表 `llm.invoke(messages[-1:])` 传给模型。\n"
   ]
  },
  {
   "cell_type": "code",
   "execution_count": 11,
   "id": "22d0b904-7cd6-486b-8948-105bee3d4683",
   "metadata": {},
   "outputs": [
    {
     "data": {
      "image/png": "[encoded data removed]",
      "text/plain": [
       "<IPython.core.display.Image object>"
      ]
     },
     "metadata": {},
     "output_type": "display_data"
    }
   ],
   "source": [
    "# Node\n",
    "def chat_model_node(state: MessagesState):\n",
    "    return {\"messages\": [llm.invoke(state[\"messages\"][-1:])]}\n",
    "\n",
    "\n",
    "# Build graph\n",
    "builder = StateGraph(MessagesState)\n",
    "builder.add_node(\"chat_model\", chat_model_node)\n",
    "builder.add_edge(START, \"chat_model\")\n",
    "builder.add_edge(\"chat_model\", END)\n",
    "graph = builder.compile()\n",
    "\n",
    "# View\n",
    "display(Image(graph.get_graph().draw_mermaid_png()))"
   ]
  },
  {
   "cell_type": "markdown",
   "id": "6f58c6fc-532f-418d-b70a-cfcb3307daf5",
   "metadata": {},
   "source": [
    "我们取出已有的消息列表，追加上面的 LLM 回复，再追加一个跟进问题。\n"
   ]
  },
  {
   "cell_type": "code",
   "execution_count": 12,
   "id": "16956015-1dbe-4108-89b5-4209b68b51ca",
   "metadata": {},
   "outputs": [],
   "source": [
    "messages.append(output[\"messages\"][-1])\n",
    "messages.append(HumanMessage(f\"Tell me more about Narwhals!\", name=\"Lance\"))"
   ]
  },
  {
   "cell_type": "code",
   "execution_count": 13,
   "id": "85563415-c085-46a8-a4ac-155df798c54e",
   "metadata": {},
   "outputs": [
    {
     "name": "stdout",
     "output_type": "stream",
     "text": [
      "==================================\u001b[1m Ai Message \u001b[0m==================================\n",
      "Name: Bot\n",
      "\n",
      "Hi.\n",
      "================================\u001b[1m Human Message \u001b[0m=================================\n",
      "Name: Lance\n",
      "\n",
      "Hi.\n",
      "==================================\u001b[1m Ai Message \u001b[0m==================================\n",
      "Name: Bot\n",
      "\n",
      "So you said you were researching ocean mammals?\n",
      "================================\u001b[1m Human Message \u001b[0m=================================\n",
      "Name: Lance\n",
      "\n",
      "Yes, I know about whales. But what others should I learn about?\n",
      "==================================\u001b[1m Ai Message \u001b[0m==================================\n",
      "\n",
      "That's great! Whales are fascinating, but there’s a whole world of ocean mammals beyond them. Here are some other major groups you should learn about:\n",
      "\n",
      "1. **Dolphins**  \n",
      "   - Highly intelligent and social, dolphins are part of the *toothed whale* family (odontocetes), which also includes whales like orcas.\n",
      "   - Species include bottlenose dolphins, spinner dolphins, and the larger orca (also called killer whale).\n",
      "   - Found in oceans worldwide and even some rivers (like the Amazon river dolphin).\n",
      "\n",
      "2. **Porpoises**  \n",
      "   - Often confused with dolphins, porpoises are smaller, have more rounded bodies, and different teeth (spade-shaped vs. cone-shaped).\n",
      "   - Less vocal and more elusive than dolphins.\n",
      "   - Examples: harbor porpoise, Dall’s porpoise.\n",
      "\n",
      "3. **Seals (Pinnipeds – True Seals)**  \n",
      "   - Belong to the group *Pinnipedia*, which means “fin-footed.”\n",
      "   - Use their back flippers for swimming and move awkwardly on land.\n",
      "   - Examples: harbor seal, elephant seal, leopard seal.\n",
      "\n",
      "4. **Sea Lions**  \n",
      "   - Also pinnipeds, but more agile on land thanks to rotating hind flippers.\n",
      "   - Known for loud barking and intelligence—often seen in marine shows.\n",
      "   - Examples: California sea lion, Steller sea lion.\n",
      "\n",
      "5. **Walruses**  \n",
      "   - Another pinniped, easily recognized by their long tusks and whiskers.\n",
      "   - Live in Arctic regions and use tusks for climbing ice and defense.\n",
      "   - Depend heavily on sea ice for resting and breeding.\n",
      "\n",
      "6. **Manatees and Dugongs (Sirenians)**  \n",
      "   - Gentle, slow-moving herbivores that graze on seagrass.\n",
      "   - Manatees live in warm coastal waters and rivers (e.g., Florida, West Africa).\n",
      "   - Dugongs are found in the Indo-Pacific and have a fluked tail like whales.\n",
      "   - Often called \"sea cows.\"\n",
      "\n",
      "7. **Sea Otters**  \n",
      "   - Not as large as whales or seals, but incredibly important ecologically.\n",
      "   - Use tools (like rocks) to crack open shellfish.\n",
      "   - Keep kelp forests healthy by eating sea urchins.\n",
      "   - Found along the northern Pacific Ocean.\n",
      "\n",
      "8. **Polar Bears**  \n",
      "   - Technically marine mammals because they depend on the ocean for food (mainly seals) and spend much of their life on sea ice.\n",
      "   - Excellent swimmers and apex predators of the Arctic.\n",
      "\n",
      "Each of these animals has unique adaptations for life in the ocean—from blubber for insulation to specialized diving abilities and complex communication.\n",
      "\n",
      "Would you like to dive deeper into any of these groups? For example, we could explore how dolphins use echolocation or why sea otters are vital to marine ecosystems.\n",
      "================================\u001b[1m Human Message \u001b[0m=================================\n",
      "Name: Lance\n",
      "\n",
      "Tell me more about Narwhals!\n"
     ]
    }
   ],
   "source": [
    "for m in messages:\n",
    "    m.pretty_print()"
   ]
  },
  {
   "cell_type": "code",
   "execution_count": 13,
   "id": "23349705-a059-47b5-9760-d8f64e687393",
   "metadata": {},
   "outputs": [
    {
     "name": "stdout",
     "output_type": "stream",
     "text": [
      "==================================\u001b[1m Ai Message \u001b[0m==================================\n",
      "Name: Bot\n",
      "\n",
      "Hi.\n",
      "================================\u001b[1m Human Message \u001b[0m=================================\n",
      "Name: Lance\n",
      "\n",
      "Hi.\n",
      "==================================\u001b[1m Ai Message \u001b[0m==================================\n",
      "Name: Bot\n",
      "\n",
      "So you said you were researching ocean mammals?\n",
      "================================\u001b[1m Human Message \u001b[0m=================================\n",
      "Name: Lance\n",
      "\n",
      "Yes, I know about whales. But what others should I learn about?\n",
      "==================================\u001b[1m Ai Message \u001b[0m==================================\n",
      "\n",
      "That's great! Whales are fascinating, but there’s a whole world of ocean mammals beyond them. Here are some other major groups you should definitely learn about:\n",
      "\n",
      "### 1. **Dolphins**\n",
      "- Part of the *cetacean* family (like whales and porpoises).\n",
      "- Highly intelligent and social.\n",
      "- Include species like the bottlenose dolphin, orca (killer whale), and spinner dolphin.\n",
      "- Use echolocation to navigate and hunt.\n",
      "\n",
      "💡 Fun fact: Orcas are actually the largest species of dolphin!\n",
      "\n",
      "---\n",
      "\n",
      "### 2. **Porpoises**\n",
      "- Often confused with dolphins, but generally smaller with more rounded bodies and shorter beaks.\n",
      "- Less vocal and more shy than dolphins.\n",
      "- Found in coastal waters of the Northern Hemisphere.\n",
      "\n",
      "---\n",
      "\n",
      "### 3. **Manatees and Dugongs (Sirenians)**\n",
      "- Gentle, slow-moving herbivores that graze on seagrass.\n",
      "- Manatees live in warm rivers, estuaries, and coastal areas (e.g., Florida and the Amazon).\n",
      "- Dugongs are found in the Indo-Pacific region.\n",
      "- Often called \"sea cows.\"\n",
      "\n",
      "⚠️ Conservation note: Both are vulnerable due to habitat loss and boat strikes.\n",
      "\n",
      "---\n",
      "\n",
      "### 4. **Seals, Sea Lions, and Walruses (Pinnipeds)**\n",
      "These mammals split their time between water and land (or ice).\n",
      "\n",
      "- **Seals**: Smooth fur, no external ears, move awkwardly on land. Examples: harbor seal, leopard seal.\n",
      "- **Sea lions**: Loud, social, have ear flaps, walk well on land using their flippers. Often seen at zoos or aquariums.\n",
      "- **Walruses**: Known for their long tusks and whiskers; live in Arctic regions and use them to haul out on ice.\n",
      "\n",
      "🌊 They all rely on healthy coastlines and sea ice, making them vulnerable to climate change.\n",
      "\n",
      "---\n",
      "\n",
      "### 5. **Sea Otters**\n",
      "- Not as large as whales, but incredibly important ecologically.\n",
      "- Live along the Pacific coast from Alaska to California.\n",
      "- Use tools (like rocks) to crack open shellfish.\n",
      "- Have the densest fur of any mammal—no blubber!\n",
      "\n",
      "🐾 Key role: They’re a keystone species that help maintain kelp forest ecosystems by eating sea urchins.\n",
      "\n",
      "---\n",
      "\n",
      "### 6. **Polar Bears** *(Technically marine mammals!)*\n",
      "- Classified as marine mammals because they depend heavily on the ocean and sea ice for hunting seals.\n",
      "- Excellent swimmers; can travel long distances in cold water.\n",
      "- One of the most iconic animals affected by climate change.\n",
      "\n",
      "---\n",
      "\n",
      "Each of these animals plays a unique role in marine ecosystems. If you're doing research, you might want to explore:\n",
      "- How they communicate\n",
      "- Their migration patterns\n",
      "- Threats they face (pollution, climate change, fishing gear)\n",
      "- Conservation efforts\n",
      "\n",
      "Would you like to dive deeper into one of these groups?\n",
      "================================\u001b[1m Human Message \u001b[0m=================================\n",
      "Name: Lance\n",
      "\n",
      "Tell me more about Narwhals!\n",
      "==================================\u001b[1m Ai Message \u001b[0m==================================\n",
      "\n",
      "Absolutely! Narwhals are one of the most fascinating and mysterious creatures of the Arctic. Here's a deep dive into what makes them so special:\n",
      "\n",
      "### 🐬 What Is a Narwhal?\n",
      "The **narwhal** (*Monodon monoceros*) is a medium-sized toothed whale found primarily in the Arctic waters around Greenland, Canada, and Russia. Often called the \"unicorn of the sea,\" it’s best known for the long spiral tusk that protrudes from the head of males (and occasionally females).\n",
      "\n",
      "---\n",
      "\n",
      "### 🌊 Habitat & Range\n",
      "- **Arctic Waters**: Narwhals live in the cold, icy waters of the North Atlantic and Arctic Oceans.\n",
      "- They migrate seasonally: moving to deeper offshore areas in winter under sea ice and returning to coastal fjords and bays in summer.\n",
      "- They’re especially common in Baffin Bay, Davis Strait, and Hudson Bay.\n",
      "\n",
      "---\n",
      "\n",
      "### 🦄 The Famous Tusk\n",
      "- The **tusk** is actually an elongated left canine tooth that can grow up to **10 feet (3 meters)** long!\n",
      "- It spirals counterclockwise and contains millions of nerve endings, making it highly sensitive.\n",
      "- While typically seen in males, about 1 in 500 females also develop a tusk, and very rarely, a narwhal will grow two tusks.\n",
      "- Scientists believe the tusk may serve several purposes:\n",
      "  - **Sexual selection** – used to attract mates or establish dominance.\n",
      "  - **Sensory organ** – capable of detecting changes in water temperature, pressure, and salinity.\n",
      "  - Possibly used in social interactions or for breaking ice.\n",
      "\n",
      "Recent research suggests the tusk acts like a \"biological sensor\" rather than just a weapon.\n",
      "\n",
      "---\n",
      "\n",
      "### 🐋 Physical Characteristics\n",
      "- **Size**: Up to 16–18 feet (4.5–5.5 meters) long; weighs around 2,000–3,500 lbs (900–1,600 kg).\n",
      "- **Color**: Mottled gray to black skin when young, becoming whiter with age.\n",
      "- **Dorsal Ridge**: Instead of a dorsal fin, they have a low ridge on their back—helpful for swimming under ice.\n",
      "- **Lifespan**: Around 30–50 years.\n",
      "\n",
      "---\n",
      "\n",
      "### 🍽️ Diet & Behavior\n",
      "- **Diet**: Primarily eats Greenland halibut, Arctic cod, squid, and shrimp.\n",
      "- They dive incredibly deep—often over **1,500 meters (nearly 5,000 feet)**—to hunt, making some of the deepest dives among whales.\n",
      "- Can hold their breath for up to **25 minutes** during dives.\n",
      "- Travel in small pods of 5–10 individuals, though larger groups form in summer.\n",
      "\n",
      "---\n",
      "\n",
      "### 🧠 Intelligence & Communication\n",
      "- Like other toothed whales, narwhals use **echolocation** to navigate and find food in dark, icy waters.\n",
      "- They produce clicks, whistles, and calls to communicate.\n",
      "- Their brains show complex structures associated with social behavior and sensory processing.\n",
      "\n",
      "---\n",
      "\n",
      "### ❄️ Adaptations to the Arctic\n",
      "- Thick blubber layer (up to 4 inches) insulates them from freezing temperatures.\n",
      "- Ability to slow heart rate and conserve oxygen during deep dives.\n",
      "- Navigate through narrow cracks in sea ice using their sensitive tusks and echolocation.\n",
      "\n",
      "---\n",
      "\n",
      "### 🐣 Reproduction\n",
      "- Females give birth every 3 years on average, after a **14-month gestation period**.\n",
      "- Calves are born tail-first, about 5 feet long, and nurse for over a year.\n",
      "- Sexual maturity occurs at around 6–9 years of age.\n",
      "\n",
      "---\n",
      "\n",
      "### ⚠️ Threats & Conservation\n",
      "- **Climate change**: Melting sea ice alters their habitat and increases human activity (shipping, oil exploration), leading to noise pollution and disturbance.\n",
      "- **Hunting**: Indigenous communities in Canada and Greenland legally hunt narwhals for subsistence (meat, ivory, skin). This is regulated but still a concern.\n",
      "- **Pollution**: Accumulation of toxins like mercury and PCBs affects their health.\n",
      "- **Predators**: Orcas and polar bears (mainly targeting calves).\n",
      "\n",
      "The IUCN classifies narwhals as **\"Near Threatened\"**, emphasizing the need for continued monitoring and conservation.\n",
      "\n",
      "---\n",
      "\n",
      "### 🌀 Fun Facts\n",
      "- The word *narwhal* comes from Old Norse *\"nár\"* (corpse) and *\"hvalr\"* (whale), likely referring to their pale, mottled appearance resembling drowned sailors.\n",
      "- For centuries, narwhal tusks were sold as unicorn horns in Europe and believed to have magical healing properties.\n",
      "- Narwhals are elusive and rarely seen by humans, adding to their mystique.\n",
      "\n",
      "---\n",
      "\n",
      "Would you like to know more about their social structure, how scientists study them, or myths surrounding narwhals? 🐳✨\n"
     ]
    }
   ],
   "source": [
    "# Invoke, using message filtering\n",
    "output = graph.invoke({\"messages\": messages})\n",
    "for m in output[\"messages\"]:\n",
    "    m.pretty_print()"
   ]
  },
  {
   "cell_type": "markdown",
   "id": "42e1d8d2-e297-4d78-b54c-d12b3c866745",
   "metadata": {},
   "source": [
    "状态里包含所有消息。\n",
    "\n",
    "不过看看 LangSmith trace，就会发现模型调用只使用了最后一条消息：\n",
    "\n",
    "https://smith.langchain.com/public/75aca3ce-ef19-4b92-94be-0178c7a660d9/r\n"
   ]
  },
  {
   "cell_type": "markdown",
   "id": "fc40d930-3c1f-47fe-8d2a-ce174873353c",
   "metadata": {},
   "source": [
    "## 裁剪消息\n",
    "\n",
    "另一种做法是按 token 数[裁剪消息](https://python.langchain.com/v0.2/docs/how_to/trim_messages/#getting-the-last-max_tokens-tokens)。\n",
    "\n",
    "这样可以把消息历史限制在指定的 token 数以内。\n",
    "\n",
    "筛选只是在交互后返回部分消息，而裁剪则限制了聊天模型在响应时可用的 token 数。\n",
    "\n",
    "参见下方的 `trim_messages`。\n"
   ]
  },
  {
   "cell_type": "code",
   "execution_count": 14,
   "id": "2ff99b81-cf03-4cc2-b44f-44829a73e1fd",
   "metadata": {},
   "outputs": [
    {
     "data": {
      "image/png": "[encoded data removed]",
      "text/plain": [
       "<IPython.core.display.Image object>"
      ]
     },
     "metadata": {},
     "output_type": "display_data"
    }
   ],
   "source": [
    "from langchain_core.messages import trim_messages\n",
    "\n",
    "# from langchain_openai import ChatOpenAI\n",
    "\n",
    "\n",
    "# Node\n",
    "def chat_model_node(state: MessagesState):\n",
    "    messages = trim_messages(\n",
    "        state[\"messages\"],\n",
    "        max_tokens=100,\n",
    "        strategy=\"last\",\n",
    "        # token_counter=ChatOpenAI(model=\"gpt-4o\"),\n",
    "        token_counter=ChatTongyi(model=\"qwen-plus\"),\n",
    "        allow_partial=False,\n",
    "    )\n",
    "    return {\"messages\": [llm.invoke(messages)]}\n",
    "\n",
    "\n",
    "# Build graph\n",
    "builder = StateGraph(MessagesState)\n",
    "builder.add_node(\"chat_model\", chat_model_node)\n",
    "builder.add_edge(START, \"chat_model\")\n",
    "builder.add_edge(\"chat_model\", END)\n",
    "graph = builder.compile()\n",
    "\n",
    "# View\n",
    "display(Image(graph.get_graph().draw_mermaid_png()))"
   ]
  },
  {
   "cell_type": "code",
   "execution_count": 15,
   "id": "24df63ac-da29-4874-b3df-7e390e97cc8a",
   "metadata": {},
   "outputs": [],
   "source": [
    "messages.append(output[\"messages\"][-1])\n",
    "messages.append(HumanMessage(f\"Tell me where Orcas live!\", name=\"Lance\"))"
   ]
  },
  {
   "cell_type": "code",
   "execution_count": 16,
   "id": "6d9d8971-c75c-43ca-a209-eb1d07b2ead0",
   "metadata": {},
   "outputs": [
    {
     "data": {
      "text/plain": [
       "[HumanMessage(content='Tell me where Orcas live!', additional_kwargs={}, response_metadata={}, name='Lance')]"
      ]
     },
     "execution_count": 16,
     "metadata": {},
     "output_type": "execute_result"
    }
   ],
   "source": [
    "# Example of trimming messages\n",
    "import transformers\n",
    "\n",
    "trim_messages(\n",
    "    messages,\n",
    "    max_tokens=100,\n",
    "    strategy=\"last\",\n",
    "    # token_counter=ChatOpenAI(model=\"gpt-4o\"),\n",
    "    token_counter=ChatTongyi(model=\"qwen-plus\"),\n",
    "    allow_partial=False,\n",
    ")"
   ]
  },
  {
   "cell_type": "code",
   "execution_count": 17,
   "id": "ed70a269-a869-4fa0-a1df-29736a432c51",
   "metadata": {},
   "outputs": [],
   "source": [
    "# Invoke, using message trimming in the chat_model_node\n",
    "messages_out_trim = graph.invoke({\"messages\": messages})"
   ]
  },
  {
   "cell_type": "code",
   "execution_count": 18,
   "id": "392560d8",
   "metadata": {},
   "outputs": [
    {
     "data": {
      "text/plain": [
       "[AIMessage(content='   - Excellent swimmers and apex predators of the Arctic.\\n\\nEach of these animals has unique adaptations for life in the ocean—from blubber for insulation to specialized diving abilities and complex communication.\\n\\nWould you like to dive deeper into any of these groups? For example, we could explore how dolphins use echolocation or why sea otters are vital to marine ecosystems.', additional_kwargs={}, response_metadata={'model_name': 'qwen-plus', 'finish_reason': 'stop', 'request_id': 'a26ff493-5afb-4e59-b827-faf950012783', 'token_usage': {'input_tokens': 42, 'output_tokens': 603, 'total_tokens': 645, 'prompt_tokens_details': {'cached_tokens': 0}}}, id='run--8e4412e7-e7a7-4054-b22a-cf6e3a2e8b6a-0'),\n",
       " HumanMessage(content='Tell me where Orcas live!', additional_kwargs={}, response_metadata={}, name='Lance', id='61c66186-0af1-4f76-ac92-0990dcb20fdc')]"
      ]
     },
     "execution_count": 18,
     "metadata": {},
     "output_type": "execute_result"
    }
   ],
   "source": [
    "# Example of trimming messages\n",
    "import transformers\n",
    "\n",
    "trim_messages(\n",
    "    messages,\n",
    "    max_tokens=100,\n",
    "    strategy=\"last\",\n",
    "    # token_counter=ChatOpenAI(model=\"gpt-4o\"),\n",
    "    token_counter=ChatTongyi(model=\"qwen-plus\"),\n",
    "    allow_partial=True,\n",
    ")"
   ]
  },
  {
   "cell_type": "code",
   "execution_count": 19,
   "id": "38e50c7f",
   "metadata": {},
   "outputs": [],
   "source": [
    "# Invoke, using message trimming in the chat_model_node\n",
    "messages_out_trim = graph.invoke({\"messages\": messages})"
   ]
  },
  {
   "cell_type": "markdown",
   "id": "38b3db67-380e-46b5-9a6a-20100ba52008",
   "metadata": {},
   "source": [
    "看看 LangSmith trace，了解这次模型调用的实际情况：\n",
    "\n",
    "https://smith.langchain.com/public/b153f7e9-f1a5-4d60-8074-f0d7ab5b42ef/r\n"
   ]
  }
 ],
 "metadata": {
  "kernelspec": {
   "display_name": "py311",
   "language": "python",
   "name": "python3"
  },
  "language_info": {
   "codemirror_mode": {
    "name": "ipython",
    "version": 3
   },
   "file_extension": ".py",
   "mimetype": "text/x-python",
   "name": "python",
   "nbconvert_exporter": "python",
   "pygments_lexer": "ipython3",
   "version": "3.11.13"
  }
 },
 "nbformat": 4,
 "nbformat_minor": 5
}
