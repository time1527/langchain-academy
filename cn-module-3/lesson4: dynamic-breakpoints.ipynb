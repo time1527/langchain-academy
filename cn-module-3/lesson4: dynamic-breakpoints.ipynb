{
 "cells": [
  {
   "cell_type": "markdown",
   "id": "2109e6a2",
   "metadata": {},
   "source": [
    "[![在 Colab 中打开](https://colab.research.google.com/assets/colab-badge.svg)](https://colab.research.google.com/github/langchain-ai/langchain-academy/blob/main/module-3/dynamic-breakpoints.ipynb) [![在 LangChain Academy 中打开](https://cdn.prod.website-files.com/65b8cd72835ceeacd4449a53/66e9eba12c7b7688aa3dbb5e_LCA-badge-green.svg)](https://academy.langchain.com/courses/take/intro-to-langgraph/lessons/58239526-lesson-4-dynamic-breakpoints)\n"
   ]
  },
  {
   "cell_type": "markdown",
   "id": "d0cefea1-f982-4bb1-b691-27a855bfdccb",
   "metadata": {},
   "source": [
    "# 动态断点 \n",
    "\n",
    "## 回顾\n",
    "\n",
    "我们讨论了 human-in-the-loop 的动机：\n",
    "\n",
    "(1) `Approval`（批准）- 我们可以中断智能体，向用户展示状态，并允许用户接受某个动作\n",
    "\n",
    "(2) `Debugging`（调试）- 我们可以回滚图，以复现或规避问题\n",
    "\n",
    "(3) `Editing`（编辑）- 你可以修改状态\n",
    "\n",
    "我们讲解了断点作为在特定步骤停止图的一般方法，从而支持 `Approval` 这样的场景。\n",
    "\n",
    "我们还展示了如何编辑图状态，并引入人类反馈。\n",
    "\n",
    "## 目标\n",
    "\n",
    "断点通常由开发者在编译图时针对特定节点设置。\n",
    "\n",
    "不过，有时让图**动态地**中断自身会更有帮助！\n",
    "\n",
    "这是一种内部断点，可以通过 [`NodeInterrupt`](https://langchain-ai.github.io/langgraph/how-tos/human_in_the_loop/dynamic_breakpoints/#run-the-graph-with-dynamic-interrupt) 实现。\n",
    "\n",
    "这样做有几个好处：\n",
    "\n",
    "(1) 你可以有条件地触发它（在节点内部基于开发者定义的逻辑）。\n",
    "\n",
    "(2) 你可以向用户说明为什么被中断（通过把任意信息传递给 `NodeInterrupt`）。\n",
    "\n",
    "我们来构建一个图，当输入长度超过阈值时抛出 `NodeInterrupt`。\n"
   ]
  },
  {
   "cell_type": "code",
   "execution_count": 1,
   "id": "387d8d87-598a-485a-a99f-a9270a7c2e73",
   "metadata": {},
   "outputs": [],
   "source": [
    "%%capture --no-stderr\n",
    "%pip install --quiet -U langgraph langchain_openai langgraph_sdk"
   ]
  },
  {
   "cell_type": "code",
   "execution_count": null,
   "id": "6248f166-2013-445a-b4ae-1fb7b92f8c32",
   "metadata": {},
   "outputs": [],
   "source": [
    "from IPython.display import Image, display\n",
    "\n",
    "from typing_extensions import TypedDict\n",
    "from langgraph.checkpoint.memory import MemorySaver\n",
    "from langgraph.errors import NodeInterrupt\n",
    "from langgraph.graph import START, END, StateGraph\n",
    "\n",
    "\n",
    "class State(TypedDict):\n",
    "    input: str\n",
    "\n",
    "\n",
    "def step_1(state: State) -> State:\n",
    "    print(\"---Step 1---\")\n",
    "    return state\n",
    "\n",
    "\n",
    "def step_2(state: State) -> State:\n",
    "    # Let's optionally raise a NodeInterrupt if the length of the input is longer than 5 characters\n",
    "    if len(state[\"input\"]) > 5:\n",
    "        raise NodeInterrupt(\n",
    "            f\"Received input that is longer than 5 characters: {state['input']}\"\n",
    "        )\n",
    "\n",
    "    print(\"---Step 2---\")\n",
    "    return state\n",
    "\n",
    "\n",
    "def step_3(state: State) -> State:\n",
    "    print(\"---Step 3---\")\n",
    "    return state\n",
    "\n",
    "\n",
    "builder = StateGraph(State)\n",
    "builder.add_node(\"step_1\", step_1)\n",
    "builder.add_node(\"step_2\", step_2)\n",
    "builder.add_node(\"step_3\", step_3)\n",
    "builder.add_edge(START, \"step_1\")\n",
    "builder.add_edge(\"step_1\", \"step_2\")\n",
    "builder.add_edge(\"step_2\", \"step_3\")\n",
    "builder.add_edge(\"step_3\", END)\n",
    "\n",
    "# Set up memory\n",
    "memory = MemorySaver()\n",
    "\n",
    "# Compile the graph with memory\n",
    "graph = builder.compile(checkpointer=memory)\n",
    "\n",
    "# View\n",
    "# display(Image(graph.get_graph().draw_mermaid_png()))"
   ]
  },
  {
   "cell_type": "markdown",
   "id": "b2c6e5c8-0556-43d1-9eef-b3af32728f74",
   "metadata": {},
   "source": [
    "用一个长度超过 5 个字符的输入来运行这个图吧。\n"
   ]
  },
  {
   "cell_type": "code",
   "execution_count": 4,
   "id": "de73c9ce-ccc5-4ffd-8d82-7018364e7c4f",
   "metadata": {},
   "outputs": [
    {
     "name": "stdout",
     "output_type": "stream",
     "text": [
      "{'input': 'hello world'}\n",
      "---Step 1---\n",
      "{'input': 'hello world'}\n"
     ]
    },
    {
     "name": "stderr",
     "output_type": "stream",
     "text": [
      "/var/folders/zr/zsgg61wn27zbcvccfss34hpw0000gq/T/ipykernel_35915/1678663081.py:18: LangGraphDeprecatedSinceV10: NodeInterrupt is deprecated. Please use `langgraph.types.interrupt` instead. Deprecated in LangGraph V1.0 to be removed in V2.0.\n",
      "  raise NodeInterrupt(f\"Received input that is longer than 5 characters: {state['input']}\")\n"
     ]
    }
   ],
   "source": [
    "initial_input = {\"input\": \"hello world\"}\n",
    "thread_config = {\"configurable\": {\"thread_id\": \"1\"}}\n",
    "\n",
    "# Run the graph until the first interruption\n",
    "for event in graph.stream(initial_input, thread_config, stream_mode=\"values\"):\n",
    "    print(event)"
   ]
  },
  {
   "cell_type": "markdown",
   "id": "da79063f-5b67-49dd-8ef0-3eae4c480cb5",
   "metadata": {},
   "source": [
    "如果我们此时查看图状态，会看到下一步要执行的节点是 `step_2`。\n"
   ]
  },
  {
   "cell_type": "code",
   "execution_count": 5,
   "id": "34706f0d-379b-4236-a42e-c8e52b27fb22",
   "metadata": {},
   "outputs": [
    {
     "name": "stdout",
     "output_type": "stream",
     "text": [
      "('step_2',)\n"
     ]
    }
   ],
   "source": [
    "state = graph.get_state(thread_config)\n",
    "print(state.next)"
   ]
  },
  {
   "cell_type": "markdown",
   "id": "3ed78755-f1e8-4c66-a4f8-a7ccff472c91",
   "metadata": {},
   "source": [
    "可以看到 `Interrupt` 已记录在状态中。\n"
   ]
  },
  {
   "cell_type": "code",
   "execution_count": 6,
   "id": "93815a05-819a-4050-8834-73236fa910dc",
   "metadata": {},
   "outputs": [
    {
     "name": "stdout",
     "output_type": "stream",
     "text": [
      "(PregelTask(id='5b7023a6-831a-eac2-a7bd-20a572cd9a86', name='step_2', path=('__pregel_pull', 'step_2'), error=None, interrupts=(Interrupt(value='Received input that is longer than 5 characters: hello world', id='placeholder-id'),), state=None, result=None),)\n"
     ]
    }
   ],
   "source": [
    "print(state.tasks)"
   ]
  },
  {
   "cell_type": "markdown",
   "id": "27d74573-b62c-4ac1-a142-d04c2dccfd08",
   "metadata": {},
   "source": [
    "我们可以尝试从断点恢复图。\n",
    "\n",
    "但是，这只会再次运行同一个节点！\n",
    "\n",
    "除非我们修改状态，否则会一直卡住。\n"
   ]
  },
  {
   "cell_type": "code",
   "execution_count": 7,
   "id": "b735875e-62c6-4253-ba85-7ccf93a353b4",
   "metadata": {},
   "outputs": [
    {
     "name": "stdout",
     "output_type": "stream",
     "text": [
      "{'input': 'hello world'}\n"
     ]
    },
    {
     "name": "stderr",
     "output_type": "stream",
     "text": [
      "/var/folders/zr/zsgg61wn27zbcvccfss34hpw0000gq/T/ipykernel_35915/1678663081.py:18: LangGraphDeprecatedSinceV10: NodeInterrupt is deprecated. Please use `langgraph.types.interrupt` instead. Deprecated in LangGraph V1.0 to be removed in V2.0.\n",
      "  raise NodeInterrupt(f\"Received input that is longer than 5 characters: {state['input']}\")\n"
     ]
    }
   ],
   "source": [
    "for event in graph.stream(None, thread_config, stream_mode=\"values\"):\n",
    "    print(event)"
   ]
  },
  {
   "cell_type": "code",
   "execution_count": 8,
   "id": "1e3bc5e3-7a2f-49a1-8bdc-fd3597bd5fae",
   "metadata": {},
   "outputs": [
    {
     "name": "stdout",
     "output_type": "stream",
     "text": [
      "('step_2',)\n"
     ]
    }
   ],
   "source": [
    "state = graph.get_state(thread_config)\n",
    "print(state.next)"
   ]
  },
  {
   "cell_type": "markdown",
   "id": "79ab61de-5c3f-44a5-b417-e36b1a2f26dd",
   "metadata": {},
   "source": [
    "现在，我们来更新状态。\n"
   ]
  },
  {
   "cell_type": "code",
   "execution_count": 9,
   "id": "6f08dff4-3399-46de-a9ba-ba89b8cdb61e",
   "metadata": {},
   "outputs": [
    {
     "data": {
      "text/plain": [
       "{'configurable': {'thread_id': '1',\n",
       "  'checkpoint_ns': '',\n",
       "  'checkpoint_id': '1f09aeca-c272-6d76-8002-1718ca883e06'}}"
      ]
     },
     "execution_count": 9,
     "metadata": {},
     "output_type": "execute_result"
    }
   ],
   "source": [
    "graph.update_state(\n",
    "    thread_config,\n",
    "    {\"input\": \"hi\"},\n",
    ")"
   ]
  },
  {
   "cell_type": "code",
   "execution_count": 10,
   "id": "4cb3f62b-fccd-47c3-af1e-541969e4d804",
   "metadata": {},
   "outputs": [
    {
     "name": "stdout",
     "output_type": "stream",
     "text": [
      "{'input': 'hi'}\n",
      "---Step 2---\n",
      "{'input': 'hi'}\n",
      "---Step 3---\n",
      "{'input': 'hi'}\n"
     ]
    }
   ],
   "source": [
    "for event in graph.stream(None, thread_config, stream_mode=\"values\"):\n",
    "    print(event)"
   ]
  },
  {
   "attachments": {},
   "cell_type": "markdown",
   "id": "76e3dea8-8270-42c7-8d24-606b79b9c6aa",
   "metadata": {},
   "source": [
    "### 搭配 LangGraph API 的用法\n",
    "\n",
    "**⚠️ 免责声明**\n",
    "\n",
    "自从录制这些视频以来，我们已经更新了 Studio，使其可以在本地运行并在浏览器中打开。现在推荐的方式是以这种形式运行 Studio（而不是像视频中展示的桌面应用）。关于本地开发服务器请查看[这里](https://langchain-ai.github.io/langgraph/concepts/langgraph_studio/#local-development-server)的文档，关于本地 Studio 的运行方式请查看[这里](https://langchain-ai.github.io/langgraph/how-tos/local-studio/#run-the-development-server)。在本模块的 `/studio` 目录中，在终端运行以下命令即可启动本地开发服务器：\n",
    "\n",
    "```\n",
    "langgraph dev\n",
    "```\n",
    "\n",
    "你应该会看到如下输出：\n",
    "```\n",
    "- 🚀 API: http://127.0.0.1:2024\n",
    "- 🎨 Studio UI: https://smith.langchain.com/studio/?baseUrl=http://127.0.0.1:2024\n",
    "- 📚 API Docs: http://127.0.0.1:2024/docs\n",
    "```\n",
    "\n",
    "打开浏览器访问 Studio UI：`https://smith.langchain.com/studio/?baseUrl=http://127.0.0.1:2024`。\n"
   ]
  },
  {
   "cell_type": "code",
   "execution_count": null,
   "id": "be02c417-5adc-4789-aa90-02fd2312eb53",
   "metadata": {},
   "outputs": [],
   "source": [
    "if \"google.colab\" in str(get_ipython()):\n",
    "    raise Exception(\n",
    "        \"Unfortunately LangGraph Studio is currently not supported on Google Colab\"\n",
    "    )"
   ]
  },
  {
   "cell_type": "markdown",
   "id": "2390ff2e-6b1a-4c6e-b0ce-debd45085dc8",
   "metadata": {},
   "source": [
    "我们通过 SDK 与它建立连接。\n"
   ]
  },
  {
   "cell_type": "code",
   "execution_count": 11,
   "id": "4696327d",
   "metadata": {},
   "outputs": [],
   "source": [
    "from langgraph_sdk import get_client\n",
    "\n",
    "# This is the URL of the local development server\n",
    "URL = \"http://127.0.0.1:2024\"\n",
    "client = get_client(url=URL)\n",
    "\n",
    "# Search all hosted graphs\n",
    "assistants = await client.assistants.search()"
   ]
  },
  {
   "cell_type": "code",
   "execution_count": null,
   "id": "8cb892cb-c79c-46bb-820b-d0479e71c5c4",
   "metadata": {},
   "outputs": [
    {
     "name": "stdout",
     "output_type": "stream",
     "text": [
      "Receiving new event of type: metadata...\n",
      "{'run_id': '0199869f-4484-70a3-9d14-d7da6fedd6b5', 'attempt': 1}\n",
      "\n",
      "\n",
      "\n",
      "Receiving new event of type: values...\n",
      "{'input': 'hello world'}\n",
      "\n",
      "\n",
      "\n",
      "Receiving new event of type: values...\n",
      "{'input': 'hello world'}\n",
      "\n",
      "\n",
      "\n",
      "Receiving new event of type: values...\n",
      "{'__interrupt__': [{'value': 'Received input that is longer than 5 characters: hello world', 'id': 'placeholder-id'}]}\n",
      "\n",
      "\n",
      "\n"
     ]
    }
   ],
   "source": [
    "thread = await client.threads.create()\n",
    "input_dict = {\"input\": \"hello world\"}\n",
    "\n",
    "async for chunk in client.runs.stream(\n",
    "    thread[\"thread_id\"],\n",
    "    assistant_id=\"dynamic_breakpoints\",\n",
    "    input=input_dict,\n",
    "    stream_mode=\"values\",\n",
    "):\n",
    "\n",
    "    print(f\"Receiving new event of type: {chunk.event}...\")\n",
    "    print(chunk.data)\n",
    "    print(\"\\n\\n\")"
   ]
  },
  {
   "cell_type": "code",
   "execution_count": null,
   "id": "0ba7d9da",
   "metadata": {},
   "outputs": [],
   "source": [
    "current_state = await client.threads.get_state(thread[\"thread_id\"])"
   ]
  },
  {
   "cell_type": "code",
   "execution_count": null,
   "id": "9610fc2b-ae39-4ffa-84af-b049e7d22cd6",
   "metadata": {},
   "outputs": [
    {
     "data": {
      "text/plain": [
       "['step_2']"
      ]
     },
     "execution_count": 14,
     "metadata": {},
     "output_type": "execute_result"
    }
   ],
   "source": [
    "current_state[\"next\"]"
   ]
  },
  {
   "cell_type": "code",
   "execution_count": null,
   "id": "1e880cf0-18b1-4f7b-a770-24d45dd22757",
   "metadata": {},
   "outputs": [
    {
     "data": {
      "text/plain": [
       "{'checkpoint': {'thread_id': '77549aef-30f6-4da9-9744-0278173d4480',\n",
       "  'checkpoint_ns': '',\n",
       "  'checkpoint_id': '1f09aecc-7fb8-6df8-8002-e3f76c205417'},\n",
       " 'configurable': {'thread_id': '77549aef-30f6-4da9-9744-0278173d4480',\n",
       "  'checkpoint_ns': '',\n",
       "  'checkpoint_id': '1f09aecc-7fb8-6df8-8002-e3f76c205417'},\n",
       " 'checkpoint_id': '1f09aecc-7fb8-6df8-8002-e3f76c205417'}"
      ]
     },
     "execution_count": 15,
     "metadata": {},
     "output_type": "execute_result"
    }
   ],
   "source": [
    "await client.threads.update_state(thread[\"thread_id\"], {\"input\": \"hi!\"})"
   ]
  },
  {
   "cell_type": "code",
   "execution_count": null,
   "id": "16dc65b9-95c0-46eb-9f73-da0a35e70034",
   "metadata": {},
   "outputs": [
    {
     "name": "stdout",
     "output_type": "stream",
     "text": [
      "Receiving new event of type: metadata...\n",
      "{'run_id': '1ef64c33-fb34-6eaf-8b59-1d85c5b8acc9'}\n",
      "\n",
      "\n",
      "\n",
      "Receiving new event of type: values...\n",
      "{'input': 'hi!'}\n",
      "\n",
      "\n",
      "\n",
      "Receiving new event of type: values...\n",
      "{'input': 'hi!'}\n",
      "\n",
      "\n",
      "\n"
     ]
    }
   ],
   "source": [
    "async for chunk in client.runs.stream(\n",
    "    thread[\"thread_id\"],\n",
    "    assistant_id=\"dynamic_breakpoints\",\n",
    "    input=None,\n",
    "    stream_mode=\"values\",\n",
    "):\n",
    "\n",
    "    print(f\"Receiving new event of type: {chunk.event}...\")\n",
    "    print(chunk.data)\n",
    "    print(\"\\n\\n\")"
   ]
  },
  {
   "cell_type": "code",
   "execution_count": null,
   "id": "5f662b10-ad4c-45c7-a420-ded8ccae8faa",
   "metadata": {},
   "outputs": [
    {
     "data": {
      "text/plain": [
       "{'values': {'input': 'hi!'},\n",
       " 'next': ['step_2'],\n",
       " 'tasks': [{'id': 'e9e592ba-5ae2-5c8c-a540-5d3da121c711',\n",
       "   'name': 'step_2',\n",
       "   'path': ['__pregel_pull', 'step_2'],\n",
       "   'error': None,\n",
       "   'interrupts': [],\n",
       "   'checkpoint': None,\n",
       "   'state': None,\n",
       "   'result': None}],\n",
       " 'metadata': {'graph_id': 'dynamic_breakpoints',\n",
       "  'thread_id': '77549aef-30f6-4da9-9744-0278173d4480',\n",
       "  'source': 'update',\n",
       "  'step': 2,\n",
       "  'parents': {}},\n",
       " 'created_at': '2025-09-26T15:23:40.659646+00:00',\n",
       " 'checkpoint': {'checkpoint_id': '1f09aecc-7fb8-6df8-8002-e3f76c205417',\n",
       "  'thread_id': '77549aef-30f6-4da9-9744-0278173d4480',\n",
       "  'checkpoint_ns': ''},\n",
       " 'parent_checkpoint': {'checkpoint_id': '1f09aecc-168c-6da2-8001-6daadc76ac26',\n",
       "  'thread_id': '77549aef-30f6-4da9-9744-0278173d4480',\n",
       "  'checkpoint_ns': ''},\n",
       " 'interrupts': [],\n",
       " 'checkpoint_id': '1f09aecc-7fb8-6df8-8002-e3f76c205417',\n",
       " 'parent_checkpoint_id': '1f09aecc-168c-6da2-8001-6daadc76ac26'}"
      ]
     },
     "execution_count": 16,
     "metadata": {},
     "output_type": "execute_result"
    }
   ],
   "source": [
    "current_state = await client.threads.get_state(thread[\"thread_id\"])\n",
    "current_state"
   ]
  }
 ],
 "metadata": {
  "kernelspec": {
   "display_name": "py311",
   "language": "python",
   "name": "python3"
  },
  "language_info": {
   "codemirror_mode": {
    "name": "ipython",
    "version": 3
   },
   "file_extension": ".py",
   "mimetype": "text/x-python",
   "name": "python",
   "nbconvert_exporter": "python",
   "pygments_lexer": "ipython3",
   "version": "3.11.13"
  }
 },
 "nbformat": 4,
 "nbformat_minor": 5
}
