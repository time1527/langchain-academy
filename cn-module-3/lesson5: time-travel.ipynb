{
 "cells": [
  {
   "cell_type": "markdown",
   "id": "9902a6a3",
   "metadata": {},
   "source": [
    "[![在 Colab 中打开](https://colab.research.google.com/assets/colab-badge.svg)](https://colab.research.google.com/github/langchain-ai/langchain-academy/blob/main/module-3/time-travel.ipynb) [![在 LangChain Academy 中打开](https://cdn.prod.website-files.com/65b8cd72835ceeacd4449a53/66e9eba12c7b7688aa3dbb5e_LCA-badge-green.svg)](https://academy.langchain.com/courses/take/intro-to-langgraph/lessons/58239536-lesson-5-time-travel)\n"
   ]
  },
  {
   "cell_type": "markdown",
   "id": "ba98beac-d461-4d7d-878a-11beca03ea1c",
   "metadata": {},
   "source": [
    "# 时间旅行\n",
    "\n",
    "## 回顾\n",
    "\n",
    "我们讨论了 human-in-the-loop 的动机：\n",
    "\n",
    "(1) `Approval`（批准）- 我们可以中断智能体，向用户展示状态，并允许用户接受某个动作\n",
    "\n",
    "(2) `Debugging`（调试）- 我们可以回滚图，以复现或规避问题\n",
    "\n",
    "(3) `Editing`（编辑）- 你可以修改状态 \n",
    "\n",
    "我们展示了断点如何在特定节点停止图，或者让图自己动态中断。\n",
    "\n",
    "随后我们演示了如何通过人类批准继续执行，或借助人类反馈直接编辑图状态。\n",
    "\n",
    "## 目标\n",
    "\n",
    "现在，我们来看看 LangGraph 如何通过查看、重放甚至从过去状态分叉来[支持调试](https://langchain-ai.github.io/langgraph/how-tos/human_in_the_loop/time-travel/)。 \n",
    "\n",
    "我们称之为 `time travel`（时间旅行）。\n"
   ]
  },
  {
   "cell_type": "code",
   "execution_count": 1,
   "id": "bd48aeb6-8478-4cb4-aef1-d524b80824d3",
   "metadata": {},
   "outputs": [],
   "source": [
    "%%capture --no-stderr\n",
    "%pip install --quiet -U langgraph langchain_openai langgraph_sdk langgraph-prebuilt"
   ]
  },
  {
   "cell_type": "code",
   "execution_count": null,
   "id": "7d32093f",
   "metadata": {},
   "outputs": [],
   "source": [
    "import os, getpass\n",
    "\n",
    "\n",
    "def _set_env(var: str):\n",
    "    if not os.environ.get(var):\n",
    "        os.environ[var] = getpass.getpass(f\"{var}: \")\n",
    "\n",
    "\n",
    "# _set_env(\"OPENAI_API_KEY\")\n",
    "_set_env(\"DASHSCOPE_API_KEY\")"
   ]
  },
  {
   "cell_type": "markdown",
   "id": "0497d316-832a-4668-b133-fd317ee81220",
   "metadata": {},
   "source": [
    "让我们构建这个智能体。\n"
   ]
  },
  {
   "cell_type": "code",
   "execution_count": null,
   "id": "d64ab3a1-b39c-4176-88c7-791a0b80c725",
   "metadata": {},
   "outputs": [
    {
     "name": "stderr",
     "output_type": "stream",
     "text": [
      "None of PyTorch, TensorFlow >= 2.0, or Flax have been found. Models won't be available and only tokenizers, configuration and file/data utilities can be used.\n"
     ]
    }
   ],
   "source": [
    "# from langchain_openai import ChatOpenAI\n",
    "from langchain_community.chat_models import ChatTongyi\n",
    "\n",
    "\n",
    "def multiply(a: int, b: int) -> int:\n",
    "    \"\"\"Multiply a and b.\n",
    "\n",
    "    Args:\n",
    "        a: first int\n",
    "        b: second int\n",
    "    \"\"\"\n",
    "    return a * b\n",
    "\n",
    "\n",
    "# This will be a tool\n",
    "def add(a: int, b: int) -> int:\n",
    "    \"\"\"Adds a and b.\n",
    "\n",
    "    Args:\n",
    "        a: first int\n",
    "        b: second int\n",
    "    \"\"\"\n",
    "    return a + b\n",
    "\n",
    "\n",
    "def divide(a: int, b: int) -> float:\n",
    "    \"\"\"Divide a by b.\n",
    "\n",
    "    Args:\n",
    "        a: first int\n",
    "        b: second int\n",
    "    \"\"\"\n",
    "    return a / b\n",
    "\n",
    "\n",
    "tools = [add, multiply, divide]\n",
    "# llm = ChatOpenAI(model=\"gpt-4o\")\n",
    "llm = ChatTongyi(model=\"qwen-plus\")\n",
    "llm_with_tools = llm.bind_tools(tools)"
   ]
  },
  {
   "cell_type": "code",
   "execution_count": 5,
   "id": "1d8622a9-57cd-44dc-8696-46c5ab32d0b9",
   "metadata": {},
   "outputs": [],
   "source": [
    "from IPython.display import Image, display\n",
    "\n",
    "from langgraph.checkpoint.memory import MemorySaver\n",
    "from langgraph.graph import MessagesState\n",
    "from langgraph.graph import START, END, StateGraph\n",
    "from langgraph.prebuilt import tools_condition, ToolNode\n",
    "\n",
    "from langchain_core.messages import AIMessage, HumanMessage, SystemMessage\n",
    "\n",
    "# System message\n",
    "sys_msg = SystemMessage(\n",
    "    content=\"You are a helpful assistant tasked with performing arithmetic on a set of inputs.\"\n",
    ")\n",
    "\n",
    "\n",
    "# Node\n",
    "def assistant(state: MessagesState):\n",
    "    return {\"messages\": [llm_with_tools.invoke([sys_msg] + state[\"messages\"])]}\n",
    "\n",
    "\n",
    "# Graph\n",
    "builder = StateGraph(MessagesState)\n",
    "\n",
    "# Define nodes: these do the work\n",
    "builder.add_node(\"assistant\", assistant)\n",
    "builder.add_node(\"tools\", ToolNode(tools))\n",
    "\n",
    "# Define edges: these determine the control flow\n",
    "builder.add_edge(START, \"assistant\")\n",
    "builder.add_conditional_edges(\n",
    "    \"assistant\",\n",
    "    # If the latest message (result) from assistant is a tool call -> tools_condition routes to tools\n",
    "    # If the latest message (result) from assistant is a not a tool call -> tools_condition routes to END\n",
    "    tools_condition,\n",
    ")\n",
    "builder.add_edge(\"tools\", \"assistant\")\n",
    "\n",
    "memory = MemorySaver()\n",
    "graph = builder.compile(checkpointer=MemorySaver())\n",
    "\n",
    "# Show\n",
    "# display(Image(graph.get_graph(xray=True).draw_mermaid_png()))"
   ]
  },
  {
   "cell_type": "markdown",
   "id": "fab18a04-1329-47ac-a25b-4e01bf756e2a",
   "metadata": {},
   "source": [
    "像之前一样运行它。\n"
   ]
  },
  {
   "cell_type": "code",
   "execution_count": 6,
   "id": "05b2ab62-82bc-4356-8d5b-2d4f49069fdd",
   "metadata": {},
   "outputs": [
    {
     "name": "stdout",
     "output_type": "stream",
     "text": [
      "================================\u001b[1m Human Message \u001b[0m=================================\n",
      "\n",
      "Multiply 2 and 3\n",
      "==================================\u001b[1m Ai Message \u001b[0m==================================\n",
      "Tool Calls:\n",
      "  multiply (call_1ba5b4f72e0c4010b63462)\n",
      " Call ID: call_1ba5b4f72e0c4010b63462\n",
      "  Args:\n",
      "    a: 2\n",
      "    b: 3\n",
      "=================================\u001b[1m Tool Message \u001b[0m=================================\n",
      "Name: multiply\n",
      "\n",
      "6\n",
      "==================================\u001b[1m Ai Message \u001b[0m==================================\n",
      "\n",
      "The result of multiplying 2 and 3 is 6.\n"
     ]
    }
   ],
   "source": [
    "# Input\n",
    "initial_input = {\"messages\": HumanMessage(content=\"Multiply 2 and 3\")}\n",
    "\n",
    "# Thread\n",
    "thread = {\"configurable\": {\"thread_id\": \"1\"}}\n",
    "\n",
    "# Run the graph until the first interruption\n",
    "for event in graph.stream(initial_input, thread, stream_mode=\"values\"):\n",
    "    event[\"messages\"][-1].pretty_print()"
   ]
  },
  {
   "cell_type": "markdown",
   "id": "268cfa43-22d1-4d63-8d81-a3ce00f1f2c8",
   "metadata": {},
   "source": [
    "## 浏览历史\n",
    "\n",
    "我们可以使用 `get_state`，根据 `thread_id` 查看图的**当前**状态！\n"
   ]
  },
  {
   "cell_type": "code",
   "execution_count": 7,
   "id": "161eb053-18f6-4c99-8674-8cbd11cae57e",
   "metadata": {},
   "outputs": [
    {
     "data": {
      "text/plain": [
       "StateSnapshot(values={'messages': [HumanMessage(content='Multiply 2 and 3', additional_kwargs={}, response_metadata={}, id='58ed5667-a394-420e-8588-6de9bf0bf278'), AIMessage(content='', additional_kwargs={'tool_calls': [{'index': 0, 'id': 'call_1ba5b4f72e0c4010b63462', 'type': 'function', 'function': {'name': 'multiply', 'arguments': '{\"a\": 2, \"b\": 3}'}}]}, response_metadata={'model_name': 'qwen-plus', 'finish_reason': 'tool_calls', 'request_id': 'cc7d7ce7-0b68-4098-b537-b4bb1d25291d', 'token_usage': {'input_tokens': 349, 'output_tokens': 24, 'total_tokens': 373, 'prompt_tokens_details': {'cached_tokens': 0}}}, id='run--22977c02-57bd-4bb6-bfec-7d8d474caca0-0', tool_calls=[{'name': 'multiply', 'args': {'a': 2, 'b': 3}, 'id': 'call_1ba5b4f72e0c4010b63462', 'type': 'tool_call'}]), ToolMessage(content='6', name='multiply', id='e44cbe9a-6b7c-430a-9df3-0207b360a1af', tool_call_id='call_1ba5b4f72e0c4010b63462'), AIMessage(content='The result of multiplying 2 and 3 is 6.', additional_kwargs={}, response_metadata={'model_name': 'qwen-plus', 'finish_reason': 'stop', 'request_id': '8e0ea157-beea-44c8-b2d3-058a14979a85', 'token_usage': {'input_tokens': 388, 'output_tokens': 13, 'total_tokens': 401, 'prompt_tokens_details': {'cached_tokens': 0}}}, id='run--be7ba910-b582-4085-b480-5b27bb5ede5f-0')]}, next=(), config={'configurable': {'thread_id': '1', 'checkpoint_ns': '', 'checkpoint_id': '1f09aefd-5488-680a-8003-2d6308f3565a'}}, metadata={'source': 'loop', 'step': 3, 'parents': {}}, created_at='2025-09-26T15:45:31.464692+00:00', parent_config={'configurable': {'thread_id': '1', 'checkpoint_ns': '', 'checkpoint_id': '1f09aefd-4de5-6cd2-8002-28ddf41b0343'}}, tasks=(), interrupts=())"
      ]
     },
     "execution_count": 7,
     "metadata": {},
     "output_type": "execute_result"
    }
   ],
   "source": [
    "graph.get_state({\"configurable\": {\"thread_id\": \"1\"}})"
   ]
  },
  {
   "cell_type": "markdown",
   "id": "8d00869e-7b41-4d71-ad3c-cacf8f9c029f",
   "metadata": {},
   "source": [
    "我们还可以浏览智能体的状态历史。\n",
    "\n",
    "`get_state_history` 让我们获取所有先前步骤的状态。\n"
   ]
  },
  {
   "cell_type": "code",
   "execution_count": 8,
   "id": "3010169c-3bfa-498c-a30c-7ba53744e4d5",
   "metadata": {},
   "outputs": [],
   "source": [
    "all_states = [s for s in graph.get_state_history(thread)]"
   ]
  },
  {
   "cell_type": "code",
   "execution_count": 9,
   "id": "c4612ccf-59fc-4848-8845-0433fee2ca8e",
   "metadata": {},
   "outputs": [
    {
     "data": {
      "text/plain": [
       "5"
      ]
     },
     "execution_count": 9,
     "metadata": {},
     "output_type": "execute_result"
    }
   ],
   "source": [
    "len(all_states)"
   ]
  },
  {
   "cell_type": "markdown",
   "id": "af30f269-1152-4fa1-a7c6-2947acad9a27",
   "metadata": {},
   "source": [
    "第一个元素就是当前状态，就像我们通过 `get_state` 得到的那样。\n"
   ]
  },
  {
   "cell_type": "code",
   "execution_count": 10,
   "id": "4e60b292-8efc-4cc3-b836-51f060fa608b",
   "metadata": {},
   "outputs": [
    {
     "data": {
      "text/plain": [
       "StateSnapshot(values={'messages': [HumanMessage(content='Multiply 2 and 3', additional_kwargs={}, response_metadata={}, id='58ed5667-a394-420e-8588-6de9bf0bf278')]}, next=('assistant',), config={'configurable': {'thread_id': '1', 'checkpoint_ns': '', 'checkpoint_id': '1f09aefd-45c7-62da-8000-02b009dd63f3'}}, metadata={'source': 'loop', 'step': 0, 'parents': {}}, created_at='2025-09-26T15:45:29.917500+00:00', parent_config={'configurable': {'thread_id': '1', 'checkpoint_ns': '', 'checkpoint_id': '1f09aefd-45c4-63b4-bfff-fc767cbc4688'}}, tasks=(PregelTask(id='da882728-621a-5dcd-e674-4e3cf44d3082', name='assistant', path=('__pregel_pull', 'assistant'), error=None, interrupts=(), state=None, result={'messages': [AIMessage(content='', additional_kwargs={'tool_calls': [{'index': 0, 'id': 'call_1ba5b4f72e0c4010b63462', 'type': 'function', 'function': {'name': 'multiply', 'arguments': '{\"a\": 2, \"b\": 3}'}}]}, response_metadata={'model_name': 'qwen-plus', 'finish_reason': 'tool_calls', 'request_id': 'cc7d7ce7-0b68-4098-b537-b4bb1d25291d', 'token_usage': {'input_tokens': 349, 'output_tokens': 24, 'total_tokens': 373, 'prompt_tokens_details': {'cached_tokens': 0}}}, id='run--22977c02-57bd-4bb6-bfec-7d8d474caca0-0', tool_calls=[{'name': 'multiply', 'args': {'a': 2, 'b': 3}, 'id': 'call_1ba5b4f72e0c4010b63462', 'type': 'tool_call'}])]}),), interrupts=())"
      ]
     },
     "execution_count": 10,
     "metadata": {},
     "output_type": "execute_result"
    }
   ],
   "source": [
    "all_states[-2]"
   ]
  },
  {
   "attachments": {},
   "cell_type": "markdown",
   "id": "4148a710-ceed-413b-b93c-070c6c792fa2",
   "metadata": {},
   "source": [
    "以上这些我们都可以在这里可视化： \n",
    "\n",
    "![fig1.jpg](https://cdn.prod.website-files.com/65b8cd72835ceeacd4449a53/66dbb038211b544898570be3_time-travel1.png)\n"
   ]
  },
  {
   "attachments": {},
   "cell_type": "markdown",
   "id": "a5ad554a-faf3-489f-a9a9-774f4ec2a526",
   "metadata": {},
   "source": [
    "## 重放 \n",
    "\n",
    "我们可以从任何先前的步骤重新运行智能体。\n",
    "\n",
    "![fig2.jpg](https://cdn.prod.website-files.com/65b8cd72835ceeacd4449a53/66dbb038a0bd34b541c78fb8_time-travel2.png)\n"
   ]
  },
  {
   "cell_type": "markdown",
   "id": "e135d2db-d613-42da-877e-d429f21aaefd",
   "metadata": {},
   "source": [
    "回头看看接收人类输入的那个步骤吧！\n"
   ]
  },
  {
   "cell_type": "code",
   "execution_count": 11,
   "id": "3688e511-a440-4330-a450-e5ed889c3b30",
   "metadata": {},
   "outputs": [],
   "source": [
    "to_replay = all_states[-2]"
   ]
  },
  {
   "cell_type": "code",
   "execution_count": 12,
   "id": "72adf296-d519-4bdc-af03-3b29799e9534",
   "metadata": {},
   "outputs": [
    {
     "data": {
      "text/plain": [
       "StateSnapshot(values={'messages': [HumanMessage(content='Multiply 2 and 3', additional_kwargs={}, response_metadata={}, id='58ed5667-a394-420e-8588-6de9bf0bf278')]}, next=('assistant',), config={'configurable': {'thread_id': '1', 'checkpoint_ns': '', 'checkpoint_id': '1f09aefd-45c7-62da-8000-02b009dd63f3'}}, metadata={'source': 'loop', 'step': 0, 'parents': {}}, created_at='2025-09-26T15:45:29.917500+00:00', parent_config={'configurable': {'thread_id': '1', 'checkpoint_ns': '', 'checkpoint_id': '1f09aefd-45c4-63b4-bfff-fc767cbc4688'}}, tasks=(PregelTask(id='da882728-621a-5dcd-e674-4e3cf44d3082', name='assistant', path=('__pregel_pull', 'assistant'), error=None, interrupts=(), state=None, result={'messages': [AIMessage(content='', additional_kwargs={'tool_calls': [{'index': 0, 'id': 'call_1ba5b4f72e0c4010b63462', 'type': 'function', 'function': {'name': 'multiply', 'arguments': '{\"a\": 2, \"b\": 3}'}}]}, response_metadata={'model_name': 'qwen-plus', 'finish_reason': 'tool_calls', 'request_id': 'cc7d7ce7-0b68-4098-b537-b4bb1d25291d', 'token_usage': {'input_tokens': 349, 'output_tokens': 24, 'total_tokens': 373, 'prompt_tokens_details': {'cached_tokens': 0}}}, id='run--22977c02-57bd-4bb6-bfec-7d8d474caca0-0', tool_calls=[{'name': 'multiply', 'args': {'a': 2, 'b': 3}, 'id': 'call_1ba5b4f72e0c4010b63462', 'type': 'tool_call'}])]}),), interrupts=())"
      ]
     },
     "execution_count": 12,
     "metadata": {},
     "output_type": "execute_result"
    }
   ],
   "source": [
    "to_replay"
   ]
  },
  {
   "cell_type": "markdown",
   "id": "571e7894-6546-48ff-9c25-fa6d120391b3",
   "metadata": {},
   "source": [
    "查看一下当时的状态。\n"
   ]
  },
  {
   "cell_type": "code",
   "execution_count": 13,
   "id": "6fe69428-f364-4330-bf5d-aa966c7f3b07",
   "metadata": {},
   "outputs": [
    {
     "data": {
      "text/plain": [
       "{'messages': [HumanMessage(content='Multiply 2 and 3', additional_kwargs={}, response_metadata={}, id='58ed5667-a394-420e-8588-6de9bf0bf278')]}"
      ]
     },
     "execution_count": 13,
     "metadata": {},
     "output_type": "execute_result"
    }
   ],
   "source": [
    "to_replay.values"
   ]
  },
  {
   "cell_type": "markdown",
   "id": "ff2df545-cc80-4962-a34a-faac7af8eb3d",
   "metadata": {},
   "source": [
    "我们可以看到接下来要调用的节点。\n"
   ]
  },
  {
   "cell_type": "code",
   "execution_count": 14,
   "id": "d2f333f9-9b2b-46f6-ac3a-525f86b20f1b",
   "metadata": {},
   "outputs": [
    {
     "data": {
      "text/plain": [
       "('assistant',)"
      ]
     },
     "execution_count": 14,
     "metadata": {},
     "output_type": "execute_result"
    }
   ],
   "source": [
    "to_replay.next"
   ]
  },
  {
   "cell_type": "markdown",
   "id": "b8938c18-5c22-47df-b71e-40afa73c87af",
   "metadata": {},
   "source": [
    "我们还会得到 config，它告诉我们 `checkpoint_id` 和 `thread_id`。\n"
   ]
  },
  {
   "cell_type": "code",
   "execution_count": 15,
   "id": "b1298786-afa5-4277-927e-708a8629231b",
   "metadata": {},
   "outputs": [
    {
     "data": {
      "text/plain": [
       "{'configurable': {'thread_id': '1',\n",
       "  'checkpoint_ns': '',\n",
       "  'checkpoint_id': '1f09aefd-45c7-62da-8000-02b009dd63f3'}}"
      ]
     },
     "execution_count": 15,
     "metadata": {},
     "output_type": "execute_result"
    }
   ],
   "source": [
    "to_replay.config"
   ]
  },
  {
   "cell_type": "markdown",
   "id": "1d93b5eb-f541-4f82-93b1-48f54bf5cf83",
   "metadata": {},
   "source": [
    "要从这里重放，只需把这个 config 再传给智能体！\n",
    "\n",
    "图知道这个检查点已经执行过了。 \n",
    "\n",
    "它会直接从这个检查点重放！\n"
   ]
  },
  {
   "cell_type": "code",
   "execution_count": null,
   "id": "531b4cd1-54f6-44aa-9ffe-cf5403dad65d",
   "metadata": {},
   "outputs": [
    {
     "name": "stdout",
     "output_type": "stream",
     "text": [
      "================================\u001b[1m Human Message \u001b[0m=================================\n",
      "\n",
      "Multiply 2 and 3\n",
      "==================================\u001b[1m Ai Message \u001b[0m==================================\n",
      "Tool Calls:\n",
      "  multiply (call_fbb411a1878246ffa32d66)\n",
      " Call ID: call_fbb411a1878246ffa32d66\n",
      "  Args:\n",
      "    a: 2\n",
      "    b: 3\n",
      "=================================\u001b[1m Tool Message \u001b[0m=================================\n",
      "Name: multiply\n",
      "\n",
      "6\n",
      "==================================\u001b[1m Ai Message \u001b[0m==================================\n",
      "\n",
      "The result of multiplying 2 and 3 is 6.\n"
     ]
    }
   ],
   "source": [
    "############### different from last lesson #####################\n",
    "for event in graph.stream(None, to_replay.config, stream_mode=\"values\"):\n",
    "    event[\"messages\"][-1].pretty_print()\n",
    "############### different from last lesson #####################"
   ]
  },
  {
   "cell_type": "markdown",
   "id": "7d7a914e-63e6-4424-970f-15059ce9b4c3",
   "metadata": {},
   "source": [
    "现在，我们可以看到智能体重新运行后的当前状态。\n"
   ]
  },
  {
   "attachments": {},
   "cell_type": "markdown",
   "id": "5a5a1f03-19f2-4d22-ba54-1c065ff08e85",
   "metadata": {},
   "source": [
    "## 分叉\n",
    "\n",
    "如果我们想从同一步骤开始，但使用不同的输入怎么办。\n",
    "\n",
    "这就是分叉。\n",
    "\n",
    "![fig3.jpg](https://cdn.prod.website-files.com/65b8cd72835ceeacd4449a53/66dbb038f89f2d847ee5c336_time-travel3.png)\n"
   ]
  },
  {
   "cell_type": "code",
   "execution_count": 17,
   "id": "cdeb5bf2-1566-4d8c-8ea5-65894e3a7038",
   "metadata": {},
   "outputs": [
    {
     "data": {
      "text/plain": [
       "[HumanMessage(content='Multiply 2 and 3', additional_kwargs={}, response_metadata={}, id='58ed5667-a394-420e-8588-6de9bf0bf278')]"
      ]
     },
     "execution_count": 17,
     "metadata": {},
     "output_type": "execute_result"
    }
   ],
   "source": [
    "to_fork = all_states[-2]\n",
    "to_fork.values[\"messages\"]"
   ]
  },
  {
   "cell_type": "markdown",
   "id": "4a15f6a6-6eaa-48d6-92bb-864ea3a31b6a",
   "metadata": {},
   "source": [
    "同样，我们拥有 config。\n"
   ]
  },
  {
   "cell_type": "code",
   "execution_count": 18,
   "id": "d1621b27-ee51-4dc3-81c4-1d05317280db",
   "metadata": {},
   "outputs": [
    {
     "data": {
      "text/plain": [
       "{'configurable': {'thread_id': '1',\n",
       "  'checkpoint_ns': '',\n",
       "  'checkpoint_id': '1f09aefd-45c7-62da-8000-02b009dd63f3'}}"
      ]
     },
     "execution_count": 18,
     "metadata": {},
     "output_type": "execute_result"
    }
   ],
   "source": [
    "to_fork.config"
   ]
  },
  {
   "cell_type": "markdown",
   "id": "c2102195-0583-4dbe-ad2f-02fac7915585",
   "metadata": {},
   "source": [
    "让我们修改这个检查点的状态。\n",
    "\n",
    "只需在调用 `update_state` 时提供 `checkpoint_id` 即可。 \n",
    "\n",
    "回想一下 `messages` 上的归约器是如何工作的： \n",
    "\n",
    "* 如果不提供消息 ID，它会追加。\n",
    "* 提供消息 ID 时，就会覆盖该消息而不是追加到状态中！\n",
    "\n",
    "因此，要覆盖这条消息，我们只需要提供它的 ID，也就是 `to_fork.values[\"messages\"].id`。\n"
   ]
  },
  {
   "cell_type": "code",
   "execution_count": null,
   "id": "0b4a918d-858a-41ac-a5d4-e99260e2d6ec",
   "metadata": {},
   "outputs": [],
   "source": [
    "############### different from last lesson #####################\n",
    "fork_config = graph.update_state(\n",
    "    to_fork.config,\n",
    "    {\n",
    "        \"messages\": [\n",
    "            HumanMessage(\n",
    "                content=\"Multiply 5 and 3\", id=to_fork.values[\"messages\"][0].id\n",
    "            )\n",
    "        ]\n",
    "    },\n",
    ")\n",
    "############### different from last lesson #####################"
   ]
  },
  {
   "cell_type": "code",
   "execution_count": 20,
   "id": "8ff4e9bb-8221-42d1-b7d0-b0cbd5dc374a",
   "metadata": {},
   "outputs": [
    {
     "data": {
      "text/plain": [
       "{'configurable': {'thread_id': '1',\n",
       "  'checkpoint_ns': '',\n",
       "  'checkpoint_id': '1f09af01-08db-6d04-8001-2b34e112cc6c'}}"
      ]
     },
     "execution_count": 20,
     "metadata": {},
     "output_type": "execute_result"
    }
   ],
   "source": [
    "fork_config"
   ]
  },
  {
   "cell_type": "markdown",
   "id": "bebfe6fd-c94b-4291-a125-ec6170e35bc5",
   "metadata": {},
   "source": [
    "这会创建一个全新的分叉检查点。\n",
    " \n",
    "但元数据——例如下一步该去哪——依然保留！ \n",
    "\n",
    "我们可以看到智能体的当前状态已经用我们的分叉更新了。\n"
   ]
  },
  {
   "cell_type": "code",
   "execution_count": 21,
   "id": "586ce86c-1257-45e9-ba30-6287932b9484",
   "metadata": {},
   "outputs": [
    {
     "data": {
      "text/plain": [
       "[HumanMessage(content='Multiply 5 and 3', additional_kwargs={}, response_metadata={}, id='58ed5667-a394-420e-8588-6de9bf0bf278')]"
      ]
     },
     "execution_count": 21,
     "metadata": {},
     "output_type": "execute_result"
    }
   ],
   "source": [
    "all_states = [state for state in graph.get_state_history(thread)]\n",
    "all_states[0].values[\"messages\"]"
   ]
  },
  {
   "cell_type": "code",
   "execution_count": 22,
   "id": "12e19798-25d8-49e8-8542-13d2b3bdf58e",
   "metadata": {},
   "outputs": [
    {
     "data": {
      "text/plain": [
       "StateSnapshot(values={'messages': [HumanMessage(content='Multiply 5 and 3', additional_kwargs={}, response_metadata={}, id='58ed5667-a394-420e-8588-6de9bf0bf278')]}, next=('assistant',), config={'configurable': {'thread_id': '1', 'checkpoint_ns': '', 'checkpoint_id': '1f09af01-08db-6d04-8001-2b34e112cc6c'}}, metadata={'source': 'update', 'step': 1, 'parents': {}}, created_at='2025-09-26T15:47:10.903821+00:00', parent_config={'configurable': {'thread_id': '1', 'checkpoint_ns': '', 'checkpoint_id': '1f09aefd-45c7-62da-8000-02b009dd63f3'}}, tasks=(PregelTask(id='db06eb17-a84a-28ad-2cfb-0c561cba7143', name='assistant', path=('__pregel_pull', 'assistant'), error=None, interrupts=(), state=None, result=None),), interrupts=())"
      ]
     },
     "execution_count": 22,
     "metadata": {},
     "output_type": "execute_result"
    }
   ],
   "source": [
    "graph.get_state({\"configurable\": {\"thread_id\": \"1\"}})"
   ]
  },
  {
   "cell_type": "markdown",
   "id": "78c641e2-b8e9-4461-b854-8725006a5eb6",
   "metadata": {},
   "source": [
    "现在，当我们进行流式传输时，图知道这个检查点从未执行过。\n",
    "\n",
    "因此，图会运行，而不是只是重放。\n"
   ]
  },
  {
   "cell_type": "code",
   "execution_count": 23,
   "id": "1c49f2a8-b325-45e4-b36c-17fab1b37cc0",
   "metadata": {},
   "outputs": [
    {
     "name": "stdout",
     "output_type": "stream",
     "text": [
      "================================\u001b[1m Human Message \u001b[0m=================================\n",
      "\n",
      "Multiply 5 and 3\n",
      "==================================\u001b[1m Ai Message \u001b[0m==================================\n",
      "Tool Calls:\n",
      "  multiply (call_c7b943060059459a938337)\n",
      " Call ID: call_c7b943060059459a938337\n",
      "  Args:\n",
      "    a: 5\n",
      "    b: 3\n",
      "=================================\u001b[1m Tool Message \u001b[0m=================================\n",
      "Name: multiply\n",
      "\n",
      "15\n",
      "==================================\u001b[1m Ai Message \u001b[0m==================================\n",
      "\n",
      "The result of multiplying 5 and 3 is 15.\n"
     ]
    }
   ],
   "source": [
    "for event in graph.stream(None, fork_config, stream_mode=\"values\"):\n",
    "    event[\"messages\"][-1].pretty_print()"
   ]
  },
  {
   "cell_type": "markdown",
   "id": "428d7f80-ee60-4147-b51f-ee3b0cf5cbba",
   "metadata": {},
   "source": [
    "现在我们可以看到当前状态是智能体运行结束后的样子。\n"
   ]
  },
  {
   "cell_type": "code",
   "execution_count": 24,
   "id": "132ef840-64c7-479c-ad34-3f177f4b2524",
   "metadata": {},
   "outputs": [
    {
     "data": {
      "text/plain": [
       "StateSnapshot(values={'messages': [HumanMessage(content='Multiply 5 and 3', additional_kwargs={}, response_metadata={}, id='58ed5667-a394-420e-8588-6de9bf0bf278'), AIMessage(content='', additional_kwargs={'tool_calls': [{'index': 0, 'id': 'call_c7b943060059459a938337', 'type': 'function', 'function': {'name': 'multiply', 'arguments': '{\"a\": 5, \"b\": 3}'}}]}, response_metadata={'model_name': 'qwen-plus', 'finish_reason': 'tool_calls', 'request_id': '211a064d-c567-4f89-9ea6-2c14bad75a22', 'token_usage': {'input_tokens': 349, 'output_tokens': 24, 'total_tokens': 373, 'prompt_tokens_details': {'cached_tokens': 0}}}, id='run--5a9fc1c5-7d52-4402-8186-3fdd99dbf223-0', tool_calls=[{'name': 'multiply', 'args': {'a': 5, 'b': 3}, 'id': 'call_c7b943060059459a938337', 'type': 'tool_call'}]), ToolMessage(content='15', name='multiply', id='962210aa-081c-4be4-a1fd-d59f344693c4', tool_call_id='call_c7b943060059459a938337'), AIMessage(content='The result of multiplying 5 and 3 is 15.', additional_kwargs={}, response_metadata={'model_name': 'qwen-plus', 'finish_reason': 'stop', 'request_id': 'f10599ea-df07-41e3-8a1d-2683620723f3', 'token_usage': {'input_tokens': 389, 'output_tokens': 14, 'total_tokens': 403, 'prompt_tokens_details': {'cached_tokens': 256}}}, id='run--5b20426e-7bcd-4feb-9a94-c38de9dd76df-0')]}, next=(), config={'configurable': {'thread_id': '1', 'checkpoint_ns': '', 'checkpoint_id': '1f09af01-a5cf-6ef8-8004-aa48970f0197'}}, metadata={'source': 'loop', 'step': 4, 'parents': {}}, created_at='2025-09-26T15:47:27.361607+00:00', parent_config={'configurable': {'thread_id': '1', 'checkpoint_ns': '', 'checkpoint_id': '1f09af01-9f35-6f2a-8003-77bef2f18724'}}, tasks=(), interrupts=())"
      ]
     },
     "execution_count": 24,
     "metadata": {},
     "output_type": "execute_result"
    }
   ],
   "source": [
    "graph.get_state({\"configurable\": {\"thread_id\": \"1\"}})"
   ]
  },
  {
   "attachments": {},
   "cell_type": "markdown",
   "id": "2ceb5f31-97b0-466c-9b3b-ae4df7cd462a",
   "metadata": {},
   "source": [
    "### 结合 LangGraph API 的时间旅行\n",
    "\n",
    "**⚠️ 免责声明**\n",
    "\n",
    "自从录制这些视频以来，我们已经更新了 Studio，使其可以在本地运行并在浏览器中打开。现在推荐的方式是以这种形式运行 Studio（而不是像视频中展示的桌面应用）。关于本地开发服务器请查看[这里](https://langchain-ai.github.io/langgraph/concepts/langgraph_studio/#local-development-server)的文档，关于本地 Studio 的运行方式请查看[这里](https://langchain-ai.github.io/langgraph/how-tos/local-studio/#run-the-development-server)。在本模块的 `/studio` 目录中，在终端运行以下命令即可启动本地开发服务器：\n",
    "\n",
    "```\n",
    "langgraph dev\n",
    "```\n",
    "\n",
    "你应该会看到如下输出：\n",
    "```\n",
    "- 🚀 API: http://127.0.0.1:2024\n",
    "- 🎨 Studio UI: https://smith.langchain.com/studio/?baseUrl=http://127.0.0.1:2024\n",
    "- 📚 API Docs: http://127.0.0.1:2024/docs\n",
    "```\n",
    "\n",
    "在浏览器中访问 Studio UI：`https://smith.langchain.com/studio/?baseUrl=http://127.0.0.1:2024`。\n",
    "\n",
    "我们通过 SDK 与之连接，并演示 LangGraph API 如何[支持时间旅行](https://langchain-ai.github.io/langgraph/cloud/how-tos/human_in_the_loop_time_travel/#initial-invocation)。\n"
   ]
  },
  {
   "cell_type": "code",
   "execution_count": null,
   "id": "891defdb-746c-48e4-8efa-bb5f138dc4bd",
   "metadata": {},
   "outputs": [],
   "source": [
    "if \"google.colab\" in str(get_ipython()):\n",
    "    raise Exception(\n",
    "        \"Unfortunately LangGraph Studio is currently not supported on Google Colab\"\n",
    "    )"
   ]
  },
  {
   "cell_type": "code",
   "execution_count": 25,
   "id": "a317925d-1788-4cfc-9c12-336b17b4d859",
   "metadata": {},
   "outputs": [],
   "source": [
    "from langgraph_sdk import get_client\n",
    "\n",
    "client = get_client(url=\"http://127.0.0.1:2024\")"
   ]
  },
  {
   "cell_type": "markdown",
   "id": "815d5e03-0ab8-4c7f-a1ee-f410b6aadc03",
   "metadata": {},
   "source": [
    "#### 重放 \n",
    "\n",
    "让我们运行智能体，并在每个节点执行后流式传回 `updates`。\n"
   ]
  },
  {
   "cell_type": "code",
   "execution_count": 26,
   "id": "9d4d01da-7b64-4c92-96b7-29ec93332d0b",
   "metadata": {},
   "outputs": [
    {
     "name": "stdout",
     "output_type": "stream",
     "text": [
      "--------------------Assistant Node--------------------\n",
      "{'content': '', 'additional_kwargs': {'tool_calls': [{'index': 0, 'id': 'call_37525ff8ddf747f0a46d2d', 'type': 'function', 'function': {'name': 'multiply', 'arguments': '{\"a\": 2, \"b\": 3}'}}]}, 'response_metadata': {'model_name': 'qwen-plus', 'finish_reason': 'tool_calls', 'request_id': '99bca50f-c458-423a-b8d2-1122ff469a6d', 'token_usage': {'input_tokens': 350, 'output_tokens': 24, 'total_tokens': 374, 'prompt_tokens_details': {'cached_tokens': 0}}}, 'type': 'ai', 'name': None, 'id': 'run--6362de73-5865-4ce7-ab4c-364e2817705b-0', 'example': False, 'tool_calls': [{'name': 'multiply', 'args': {'a': 2, 'b': 3}, 'id': 'call_37525ff8ddf747f0a46d2d', 'type': 'tool_call'}], 'invalid_tool_calls': [], 'usage_metadata': None}\n",
      "--------------------Tools Node--------------------\n",
      "{'content': '6', 'additional_kwargs': {}, 'response_metadata': {}, 'type': 'tool', 'name': 'multiply', 'id': 'ec28a17c-2a57-4e75-bef8-51a2bad39fa5', 'tool_call_id': 'call_37525ff8ddf747f0a46d2d', 'artifact': None, 'status': 'success'}\n",
      "--------------------Assistant Node--------------------\n",
      "{'content': 'The result of multiplying 2 and 3 is 6.', 'additional_kwargs': {}, 'response_metadata': {'model_name': 'qwen-plus', 'finish_reason': 'stop', 'request_id': '23cf4ce2-d085-4a50-8ab5-7fa2e4edc791', 'token_usage': {'input_tokens': 389, 'output_tokens': 13, 'total_tokens': 402, 'prompt_tokens_details': {'cached_tokens': 0}}}, 'type': 'ai', 'name': None, 'id': 'run--37b59b32-d115-424c-bbe8-596f383060a0-0', 'example': False, 'tool_calls': [], 'invalid_tool_calls': [], 'usage_metadata': None}\n"
     ]
    }
   ],
   "source": [
    "initial_input = {\"messages\": HumanMessage(content=\"Multiply 2 and 3\")}\n",
    "thread = await client.threads.create()\n",
    "async for chunk in client.runs.stream(\n",
    "    thread[\"thread_id\"],\n",
    "    assistant_id=\"agent\",\n",
    "    input=initial_input,\n",
    "    stream_mode=\"updates\",\n",
    "):\n",
    "    if chunk.data:\n",
    "        assisant_node = chunk.data.get(\"assistant\", {}).get(\"messages\", [])\n",
    "        tool_node = chunk.data.get(\"tools\", {}).get(\"messages\", [])\n",
    "        if assisant_node:\n",
    "            print(\"-\" * 20 + \"Assistant Node\" + \"-\" * 20)\n",
    "            print(assisant_node[-1])\n",
    "        elif tool_node:\n",
    "            print(\"-\" * 20 + \"Tools Node\" + \"-\" * 20)\n",
    "            print(tool_node[-1])"
   ]
  },
  {
   "cell_type": "markdown",
   "id": "8cc3bab2",
   "metadata": {},
   "source": [
    "接下来看看如何从指定的检查点进行**重放**。 \n",
    "\n",
    "我们只需要传入 `checkpoint_id`。\n"
   ]
  },
  {
   "cell_type": "code",
   "execution_count": 27,
   "id": "d8ecc4fd",
   "metadata": {},
   "outputs": [
    {
     "data": {
      "text/plain": [
       "{'values': {'messages': [{'content': 'Multiply 2 and 3',\n",
       "    'additional_kwargs': {},\n",
       "    'response_metadata': {},\n",
       "    'type': 'human',\n",
       "    'name': None,\n",
       "    'id': 'd1114cc0-e3d8-408c-a978-807250eb9542',\n",
       "    'example': False}]},\n",
       " 'next': ['assistant'],\n",
       " 'tasks': [{'id': 'fbd2ef0a-4851-6376-9f51-f968befebf4f',\n",
       "   'name': 'assistant',\n",
       "   'path': ['__pregel_pull', 'assistant'],\n",
       "   'error': None,\n",
       "   'interrupts': [],\n",
       "   'checkpoint': None,\n",
       "   'state': None,\n",
       "   'result': {'messages': [{'content': '',\n",
       "      'additional_kwargs': {'tool_calls': [{'index': 0,\n",
       "         'id': 'call_37525ff8ddf747f0a46d2d',\n",
       "         'type': 'function',\n",
       "         'function': {'name': 'multiply', 'arguments': '{\"a\": 2, \"b\": 3}'}}]},\n",
       "      'response_metadata': {'model_name': 'qwen-plus',\n",
       "       'finish_reason': 'tool_calls',\n",
       "       'request_id': '99bca50f-c458-423a-b8d2-1122ff469a6d',\n",
       "       'token_usage': {'input_tokens': 350,\n",
       "        'output_tokens': 24,\n",
       "        'total_tokens': 374,\n",
       "        'prompt_tokens_details': {'cached_tokens': 0}}},\n",
       "      'type': 'ai',\n",
       "      'name': None,\n",
       "      'id': 'run--6362de73-5865-4ce7-ab4c-364e2817705b-0',\n",
       "      'example': False,\n",
       "      'tool_calls': [{'name': 'multiply',\n",
       "        'args': {'a': 2, 'b': 3},\n",
       "        'id': 'call_37525ff8ddf747f0a46d2d',\n",
       "        'type': 'tool_call'}],\n",
       "      'invalid_tool_calls': [],\n",
       "      'usage_metadata': None}]}}],\n",
       " 'metadata': {'host': '127.0.0.1:2024',\n",
       "  'accept-encoding': 'gzip, deflate, zstd',\n",
       "  'connection': 'keep-alive',\n",
       "  'user-agent': 'langgraph-sdk-py/0.2.9',\n",
       "  'content-length': '249',\n",
       "  'content-type': 'application/json',\n",
       "  'accept': 'text/event-stream',\n",
       "  'cache-control': 'no-store',\n",
       "  'x-request-id': '806563b9-abad-48e8-9efc-dc7f5258e01e',\n",
       "  'langgraph_auth_user': None,\n",
       "  'langgraph_auth_user_id': '',\n",
       "  'langgraph_auth_permissions': [],\n",
       "  'langgraph_request_id': '806563b9-abad-48e8-9efc-dc7f5258e01e',\n",
       "  'graph_id': 'agent',\n",
       "  'assistant_id': 'fe096781-5601-53d2-b2f6-0d3403f7e9ca',\n",
       "  'user_id': '',\n",
       "  'created_by': 'system',\n",
       "  'run_attempt': 1,\n",
       "  'langgraph_version': '0.6.7',\n",
       "  'langgraph_api_version': '0.4.7',\n",
       "  'langgraph_plan': 'developer',\n",
       "  'langgraph_host': 'self-hosted',\n",
       "  'langgraph_api_url': 'http://127.0.0.1:2024',\n",
       "  'run_id': '019986b5-711e-7530-8b91-f497a5c29150',\n",
       "  'thread_id': '09b5bac8-383e-404c-a366-360aa237ddec',\n",
       "  'source': 'loop',\n",
       "  'step': 0,\n",
       "  'parents': {}},\n",
       " 'created_at': '2025-09-26T15:47:42.986662+00:00',\n",
       " 'checkpoint': {'checkpoint_id': '1f09af02-3ad3-60e0-8000-a6b251c4312e',\n",
       "  'thread_id': '09b5bac8-383e-404c-a366-360aa237ddec',\n",
       "  'checkpoint_ns': ''},\n",
       " 'parent_checkpoint': {'checkpoint_id': '1f09af02-3acf-6972-bfff-5f204d6016f2',\n",
       "  'thread_id': '09b5bac8-383e-404c-a366-360aa237ddec',\n",
       "  'checkpoint_ns': ''},\n",
       " 'interrupts': [],\n",
       " 'checkpoint_id': '1f09af02-3ad3-60e0-8000-a6b251c4312e',\n",
       " 'parent_checkpoint_id': '1f09af02-3acf-6972-bfff-5f204d6016f2'}"
      ]
     },
     "execution_count": 27,
     "metadata": {},
     "output_type": "execute_result"
    }
   ],
   "source": [
    "states = await client.threads.get_history(thread[\"thread_id\"])\n",
    "to_replay = states[-2]\n",
    "to_replay"
   ]
  },
  {
   "cell_type": "markdown",
   "id": "e33f865a",
   "metadata": {},
   "source": [
    "我们使用 `stream_mode=\"values\"` 来重放，这样就能在每个节点看到完整状态。\n"
   ]
  },
  {
   "cell_type": "code",
   "execution_count": 28,
   "id": "325e8272",
   "metadata": {},
   "outputs": [
    {
     "name": "stdout",
     "output_type": "stream",
     "text": [
      "Receiving new event of type: metadata...\n",
      "{'run_id': '019986b5-9fbf-71d8-abcd-c43bc001a344', 'attempt': 1}\n",
      "\n",
      "\n",
      "\n",
      "Receiving new event of type: values...\n",
      "{'messages': [{'content': 'Multiply 2 and 3', 'additional_kwargs': {}, 'response_metadata': {}, 'type': 'human', 'name': None, 'id': 'd1114cc0-e3d8-408c-a978-807250eb9542', 'example': False}]}\n",
      "\n",
      "\n",
      "\n",
      "Receiving new event of type: values...\n",
      "{'messages': [{'content': 'Multiply 2 and 3', 'additional_kwargs': {}, 'response_metadata': {}, 'type': 'human', 'name': None, 'id': 'd1114cc0-e3d8-408c-a978-807250eb9542', 'example': False}, {'content': '', 'additional_kwargs': {'tool_calls': [{'index': 0, 'id': 'call_cd98c112d8f34791935767', 'type': 'function', 'function': {'name': 'multiply', 'arguments': '{\"a\": 2, \"b\": 3}'}}]}, 'response_metadata': {'model_name': 'qwen-plus', 'finish_reason': 'tool_calls', 'request_id': '05e4ba1d-3ad5-473c-9041-db3b435a4dd9', 'token_usage': {'input_tokens': 350, 'output_tokens': 24, 'total_tokens': 374, 'prompt_tokens_details': {'cached_tokens': 0}}}, 'type': 'ai', 'name': None, 'id': 'run--459d5861-a251-4cd8-8068-f8e8f3f42449-0', 'example': False, 'tool_calls': [{'name': 'multiply', 'args': {'a': 2, 'b': 3}, 'id': 'call_cd98c112d8f34791935767', 'type': 'tool_call'}], 'invalid_tool_calls': [], 'usage_metadata': None}]}\n",
      "\n",
      "\n",
      "\n",
      "Receiving new event of type: values...\n",
      "{'messages': [{'content': 'Multiply 2 and 3', 'additional_kwargs': {}, 'response_metadata': {}, 'type': 'human', 'name': None, 'id': 'd1114cc0-e3d8-408c-a978-807250eb9542', 'example': False}, {'content': '', 'additional_kwargs': {'tool_calls': [{'index': 0, 'id': 'call_cd98c112d8f34791935767', 'type': 'function', 'function': {'name': 'multiply', 'arguments': '{\"a\": 2, \"b\": 3}'}}]}, 'response_metadata': {'model_name': 'qwen-plus', 'finish_reason': 'tool_calls', 'request_id': '05e4ba1d-3ad5-473c-9041-db3b435a4dd9', 'token_usage': {'input_tokens': 350, 'output_tokens': 24, 'total_tokens': 374, 'prompt_tokens_details': {'cached_tokens': 0}}}, 'type': 'ai', 'name': None, 'id': 'run--459d5861-a251-4cd8-8068-f8e8f3f42449-0', 'example': False, 'tool_calls': [{'name': 'multiply', 'args': {'a': 2, 'b': 3}, 'id': 'call_cd98c112d8f34791935767', 'type': 'tool_call'}], 'invalid_tool_calls': [], 'usage_metadata': None}, {'content': '6', 'additional_kwargs': {}, 'response_metadata': {}, 'type': 'tool', 'name': 'multiply', 'id': '94381c74-8606-4d6b-801f-f2d94b28c6d0', 'tool_call_id': 'call_cd98c112d8f34791935767', 'artifact': None, 'status': 'success'}]}\n",
      "\n",
      "\n",
      "\n",
      "Receiving new event of type: values...\n",
      "{'messages': [{'content': 'Multiply 2 and 3', 'additional_kwargs': {}, 'response_metadata': {}, 'type': 'human', 'name': None, 'id': 'd1114cc0-e3d8-408c-a978-807250eb9542', 'example': False}, {'content': '', 'additional_kwargs': {'tool_calls': [{'index': 0, 'id': 'call_cd98c112d8f34791935767', 'type': 'function', 'function': {'name': 'multiply', 'arguments': '{\"a\": 2, \"b\": 3}'}}]}, 'response_metadata': {'model_name': 'qwen-plus', 'finish_reason': 'tool_calls', 'request_id': '05e4ba1d-3ad5-473c-9041-db3b435a4dd9', 'token_usage': {'input_tokens': 350, 'output_tokens': 24, 'total_tokens': 374, 'prompt_tokens_details': {'cached_tokens': 0}}}, 'type': 'ai', 'name': None, 'id': 'run--459d5861-a251-4cd8-8068-f8e8f3f42449-0', 'example': False, 'tool_calls': [{'name': 'multiply', 'args': {'a': 2, 'b': 3}, 'id': 'call_cd98c112d8f34791935767', 'type': 'tool_call'}], 'invalid_tool_calls': [], 'usage_metadata': None}, {'content': '6', 'additional_kwargs': {}, 'response_metadata': {}, 'type': 'tool', 'name': 'multiply', 'id': '94381c74-8606-4d6b-801f-f2d94b28c6d0', 'tool_call_id': 'call_cd98c112d8f34791935767', 'artifact': None, 'status': 'success'}, {'content': 'The result of multiplying 2 and 3 is 6.', 'additional_kwargs': {}, 'response_metadata': {'model_name': 'qwen-plus', 'finish_reason': 'stop', 'request_id': '08cfb906-b88e-4ac3-847a-a20a476fdd69', 'token_usage': {'input_tokens': 389, 'output_tokens': 13, 'total_tokens': 402, 'prompt_tokens_details': {'cached_tokens': 0}}}, 'type': 'ai', 'name': None, 'id': 'run--1317b6ad-e407-4147-af19-b88dbd5da03c-0', 'example': False, 'tool_calls': [], 'invalid_tool_calls': [], 'usage_metadata': None}]}\n",
      "\n",
      "\n",
      "\n"
     ]
    }
   ],
   "source": [
    "async for chunk in client.runs.stream(\n",
    "    thread[\"thread_id\"],\n",
    "    assistant_id=\"agent\",\n",
    "    input=None,\n",
    "    stream_mode=\"values\",\n",
    "    checkpoint_id=to_replay[\"checkpoint_id\"],\n",
    "):\n",
    "    print(f\"Receiving new event of type: {chunk.event}...\")\n",
    "    print(chunk.data)\n",
    "    print(\"\\n\\n\")"
   ]
  },
  {
   "cell_type": "markdown",
   "id": "14c153b3",
   "metadata": {},
   "source": [
    "我们也可以把它视作只流式返回被重放节点对状态所做的 `updates`。\n"
   ]
  },
  {
   "cell_type": "code",
   "execution_count": 29,
   "id": "9e608e93",
   "metadata": {},
   "outputs": [
    {
     "name": "stdout",
     "output_type": "stream",
     "text": [
      "--------------------Assistant Node--------------------\n",
      "{'content': '', 'additional_kwargs': {'tool_calls': [{'index': 0, 'id': 'call_f81fbb887bcc4ac2beb48e', 'type': 'function', 'function': {'name': 'multiply', 'arguments': '{\"a\": 2, \"b\": 3}'}}]}, 'response_metadata': {'model_name': 'qwen-plus', 'finish_reason': 'tool_calls', 'request_id': '7bdf1906-8c62-425c-a016-fe318dd1f53f', 'token_usage': {'input_tokens': 350, 'output_tokens': 24, 'total_tokens': 374, 'prompt_tokens_details': {'cached_tokens': 256}}}, 'type': 'ai', 'name': None, 'id': 'run--2615f05d-5de0-45e1-90df-8cce156de776-0', 'example': False, 'tool_calls': [{'name': 'multiply', 'args': {'a': 2, 'b': 3}, 'id': 'call_f81fbb887bcc4ac2beb48e', 'type': 'tool_call'}], 'invalid_tool_calls': [], 'usage_metadata': None}\n",
      "--------------------Tools Node--------------------\n",
      "{'content': '6', 'additional_kwargs': {}, 'response_metadata': {}, 'type': 'tool', 'name': 'multiply', 'id': '40828985-7d3e-463a-897c-fe99dfa20f6e', 'tool_call_id': 'call_f81fbb887bcc4ac2beb48e', 'artifact': None, 'status': 'success'}\n",
      "--------------------Assistant Node--------------------\n",
      "{'content': 'The result of multiplying 2 and 3 is 6.', 'additional_kwargs': {}, 'response_metadata': {'model_name': 'qwen-plus', 'finish_reason': 'stop', 'request_id': '49c794ac-23cb-4040-8e7f-9f84a542ae21', 'token_usage': {'input_tokens': 389, 'output_tokens': 13, 'total_tokens': 402, 'prompt_tokens_details': {'cached_tokens': 0}}}, 'type': 'ai', 'name': None, 'id': 'run--c7eb64a2-067f-4ab4-ae48-8cccaeee61ef-0', 'example': False, 'tool_calls': [], 'invalid_tool_calls': [], 'usage_metadata': None}\n"
     ]
    }
   ],
   "source": [
    "async for chunk in client.runs.stream(\n",
    "    thread[\"thread_id\"],\n",
    "    assistant_id=\"agent\",\n",
    "    input=None,\n",
    "    stream_mode=\"updates\",\n",
    "    checkpoint_id=to_replay[\"checkpoint_id\"],\n",
    "):\n",
    "    if chunk.data:\n",
    "        assisant_node = chunk.data.get(\"assistant\", {}).get(\"messages\", [])\n",
    "        tool_node = chunk.data.get(\"tools\", {}).get(\"messages\", [])\n",
    "        if assisant_node:\n",
    "            print(\"-\" * 20 + \"Assistant Node\" + \"-\" * 20)\n",
    "            print(assisant_node[-1])\n",
    "        elif tool_node:\n",
    "            print(\"-\" * 20 + \"Tools Node\" + \"-\" * 20)\n",
    "            print(tool_node[-1])"
   ]
  },
  {
   "cell_type": "markdown",
   "id": "8e66e0e8",
   "metadata": {},
   "source": [
    "#### 分叉\n",
    "\n",
    "现在看看分叉。\n",
    "\n",
    "我们获取与之前相同的步骤，也就是人类输入那一步。\n",
    "\n",
    "我们用智能体创建一个新的线程。\n"
   ]
  },
  {
   "cell_type": "code",
   "execution_count": 30,
   "id": "01af5ed4",
   "metadata": {},
   "outputs": [
    {
     "name": "stdout",
     "output_type": "stream",
     "text": [
      "--------------------Assistant Node--------------------\n",
      "{'content': '', 'additional_kwargs': {'tool_calls': [{'index': 0, 'id': 'call_a75ddfb7e3be4991a8ffa1', 'type': 'function', 'function': {'name': 'multiply', 'arguments': '{\"a\": 2, \"b\": 3}'}}]}, 'response_metadata': {'model_name': 'qwen-plus', 'finish_reason': 'tool_calls', 'request_id': '8b47cd21-0d73-43f5-94ae-731747c834b5', 'token_usage': {'input_tokens': 350, 'output_tokens': 24, 'total_tokens': 374, 'prompt_tokens_details': {'cached_tokens': 0}}}, 'type': 'ai', 'name': None, 'id': 'run--f0f31dfe-bd6f-48b5-a216-2efb0553cd02-0', 'example': False, 'tool_calls': [{'name': 'multiply', 'args': {'a': 2, 'b': 3}, 'id': 'call_a75ddfb7e3be4991a8ffa1', 'type': 'tool_call'}], 'invalid_tool_calls': [], 'usage_metadata': None}\n",
      "--------------------Tools Node--------------------\n",
      "{'content': '6', 'additional_kwargs': {}, 'response_metadata': {}, 'type': 'tool', 'name': 'multiply', 'id': '91685157-02ac-4524-bd27-58ad34aeb99b', 'tool_call_id': 'call_a75ddfb7e3be4991a8ffa1', 'artifact': None, 'status': 'success'}\n",
      "--------------------Assistant Node--------------------\n",
      "{'content': 'The result of multiplying 2 and 3 is 6.', 'additional_kwargs': {}, 'response_metadata': {'model_name': 'qwen-plus', 'finish_reason': 'stop', 'request_id': 'c843a33b-73ed-404a-b6ec-4aad8311ca81', 'token_usage': {'input_tokens': 389, 'output_tokens': 13, 'total_tokens': 402, 'prompt_tokens_details': {'cached_tokens': 0}}}, 'type': 'ai', 'name': None, 'id': 'run--c09dae9b-7e07-4d63-abc5-7547c5b34def-0', 'example': False, 'tool_calls': [], 'invalid_tool_calls': [], 'usage_metadata': None}\n"
     ]
    }
   ],
   "source": [
    "initial_input = {\"messages\": HumanMessage(content=\"Multiply 2 and 3\")}\n",
    "thread = await client.threads.create()\n",
    "async for chunk in client.runs.stream(\n",
    "    thread[\"thread_id\"],\n",
    "    assistant_id=\"agent\",\n",
    "    input=initial_input,\n",
    "    stream_mode=\"updates\",\n",
    "):\n",
    "    if chunk.data:\n",
    "        assisant_node = chunk.data.get(\"assistant\", {}).get(\"messages\", [])\n",
    "        tool_node = chunk.data.get(\"tools\", {}).get(\"messages\", [])\n",
    "        if assisant_node:\n",
    "            print(\"-\" * 20 + \"Assistant Node\" + \"-\" * 20)\n",
    "            print(assisant_node[-1])\n",
    "        elif tool_node:\n",
    "            print(\"-\" * 20 + \"Tools Node\" + \"-\" * 20)\n",
    "            print(tool_node[-1])"
   ]
  },
  {
   "cell_type": "code",
   "execution_count": 31,
   "id": "3dbc8795-c3f5-4559-a00e-dc410c0a927f",
   "metadata": {},
   "outputs": [
    {
     "data": {
      "text/plain": [
       "{'messages': [{'content': 'Multiply 2 and 3',\n",
       "   'additional_kwargs': {},\n",
       "   'response_metadata': {},\n",
       "   'type': 'human',\n",
       "   'name': None,\n",
       "   'id': '7db23df6-f432-4446-ab14-5c44028070c0',\n",
       "   'example': False}]}"
      ]
     },
     "execution_count": 31,
     "metadata": {},
     "output_type": "execute_result"
    }
   ],
   "source": [
    "states = await client.threads.get_history(thread[\"thread_id\"])\n",
    "to_fork = states[-2]\n",
    "to_fork[\"values\"]"
   ]
  },
  {
   "cell_type": "code",
   "execution_count": 32,
   "id": "11e6cde1-0388-43ea-b994-1c4e9ca1199b",
   "metadata": {},
   "outputs": [
    {
     "data": {
      "text/plain": [
       "'7db23df6-f432-4446-ab14-5c44028070c0'"
      ]
     },
     "execution_count": 32,
     "metadata": {},
     "output_type": "execute_result"
    }
   ],
   "source": [
    "to_fork[\"values\"][\"messages\"][0][\"id\"]"
   ]
  },
  {
   "cell_type": "code",
   "execution_count": 33,
   "id": "0c1e2300-c8b2-4994-a96d-1be19c04b6a8",
   "metadata": {},
   "outputs": [
    {
     "data": {
      "text/plain": [
       "['assistant']"
      ]
     },
     "execution_count": 33,
     "metadata": {},
     "output_type": "execute_result"
    }
   ],
   "source": [
    "to_fork[\"next\"]"
   ]
  },
  {
   "cell_type": "code",
   "execution_count": 34,
   "id": "9d31d5aa-524f-42f4-ba7e-713a029610d6",
   "metadata": {},
   "outputs": [
    {
     "data": {
      "text/plain": [
       "'1f09af03-7b11-68d6-8000-4ef900dfe6a2'"
      ]
     },
     "execution_count": 34,
     "metadata": {},
     "output_type": "execute_result"
    }
   ],
   "source": [
    "to_fork[\"checkpoint_id\"]"
   ]
  },
  {
   "cell_type": "markdown",
   "id": "8f11e1d9-9fe7-4243-a06f-9b07e38a12ad",
   "metadata": {},
   "source": [
    "我们来编辑状态。\n",
    "\n",
    "回想一下 `messages` 上的归约器是如何工作的： \n",
    "\n",
    "* 如果不提供消息 ID，它会追加。\n",
    "* 提供消息 ID 时，就会覆盖该消息而不是追加到状态中！\n"
   ]
  },
  {
   "cell_type": "code",
   "execution_count": null,
   "id": "0198f1b8-2f57-4c6e-ac6a-c6fb80cce0bd",
   "metadata": {},
   "outputs": [],
   "source": [
    "############### different from last lesson #####################\n",
    "forked_input = {\n",
    "    \"messages\": HumanMessage(\n",
    "        content=\"Multiply 3 and 3\", id=to_fork[\"values\"][\"messages\"][0][\"id\"]\n",
    "    )\n",
    "}\n",
    "\n",
    "forked_config = await client.threads.update_state(\n",
    "    thread[\"thread_id\"], forked_input, checkpoint_id=to_fork[\"checkpoint_id\"]\n",
    ")\n",
    "############### different from last lesson #####################"
   ]
  },
  {
   "cell_type": "code",
   "execution_count": 36,
   "id": "1dcd5b8e-6bb1-4967-84cf-4af710b8bf46",
   "metadata": {},
   "outputs": [
    {
     "data": {
      "text/plain": [
       "{'checkpoint': {'thread_id': '5ea829a5-02b9-482d-b08d-ad5bab7ad205',\n",
       "  'checkpoint_ns': '',\n",
       "  'checkpoint_id': '1f09af04-5e7b-6360-8001-6392ad2f0d50'},\n",
       " 'configurable': {'thread_id': '5ea829a5-02b9-482d-b08d-ad5bab7ad205',\n",
       "  'checkpoint_ns': '',\n",
       "  'checkpoint_id': '1f09af04-5e7b-6360-8001-6392ad2f0d50'},\n",
       " 'checkpoint_id': '1f09af04-5e7b-6360-8001-6392ad2f0d50'}"
      ]
     },
     "execution_count": 36,
     "metadata": {},
     "output_type": "execute_result"
    }
   ],
   "source": [
    "forked_config"
   ]
  },
  {
   "cell_type": "code",
   "execution_count": 37,
   "id": "015ac68a-5cc1-4c42-90a2-5b2b4865a153",
   "metadata": {},
   "outputs": [
    {
     "data": {
      "text/plain": [
       "{'values': {'messages': [{'content': 'Multiply 3 and 3',\n",
       "    'additional_kwargs': {},\n",
       "    'response_metadata': {},\n",
       "    'type': 'human',\n",
       "    'name': None,\n",
       "    'id': '7db23df6-f432-4446-ab14-5c44028070c0',\n",
       "    'example': False}]},\n",
       " 'next': ['assistant'],\n",
       " 'tasks': [{'id': '3b7e3c4f-9dca-00ea-af9d-ed5d1d7c6553',\n",
       "   'name': 'assistant',\n",
       "   'path': ['__pregel_pull', 'assistant'],\n",
       "   'error': None,\n",
       "   'interrupts': [],\n",
       "   'checkpoint': None,\n",
       "   'state': None,\n",
       "   'result': None}],\n",
       " 'metadata': {'graph_id': 'agent',\n",
       "  'thread_id': '5ea829a5-02b9-482d-b08d-ad5bab7ad205',\n",
       "  'checkpoint_id': '1f09af03-7b11-68d6-8000-4ef900dfe6a2',\n",
       "  'checkpoint_ns': '',\n",
       "  'source': 'update',\n",
       "  'step': 1,\n",
       "  'parents': {}},\n",
       " 'created_at': '2025-09-26T15:48:40.412642+00:00',\n",
       " 'checkpoint': {'checkpoint_id': '1f09af04-5e7b-6360-8001-6392ad2f0d50',\n",
       "  'thread_id': '5ea829a5-02b9-482d-b08d-ad5bab7ad205',\n",
       "  'checkpoint_ns': ''},\n",
       " 'parent_checkpoint': {'checkpoint_id': '1f09af03-7b11-68d6-8000-4ef900dfe6a2',\n",
       "  'thread_id': '5ea829a5-02b9-482d-b08d-ad5bab7ad205',\n",
       "  'checkpoint_ns': ''},\n",
       " 'interrupts': [],\n",
       " 'checkpoint_id': '1f09af04-5e7b-6360-8001-6392ad2f0d50',\n",
       " 'parent_checkpoint_id': '1f09af03-7b11-68d6-8000-4ef900dfe6a2'}"
      ]
     },
     "execution_count": 37,
     "metadata": {},
     "output_type": "execute_result"
    }
   ],
   "source": [
    "states = await client.threads.get_history(thread[\"thread_id\"])\n",
    "states[0]"
   ]
  },
  {
   "cell_type": "markdown",
   "id": "3de80029-b987-49c5-890d-6cd70cbc8de7",
   "metadata": {},
   "source": [
    "要重新运行，只需传入 `checkpoint_id`。\n"
   ]
  },
  {
   "cell_type": "code",
   "execution_count": null,
   "id": "da005240-d3f0-4c89-9aca-dfcb5d410ceb",
   "metadata": {},
   "outputs": [
    {
     "name": "stdout",
     "output_type": "stream",
     "text": [
      "--------------------Assistant Node--------------------\n",
      "{'content': '', 'additional_kwargs': {'tool_calls': [{'index': 0, 'id': 'call_f355c59b54b4470c8c09ed', 'type': 'function', 'function': {'name': 'multiply', 'arguments': '{\"a\": 3, \"b\": 3}'}}]}, 'response_metadata': {'model_name': 'qwen-plus', 'finish_reason': 'tool_calls', 'request_id': 'd3dd415e-1261-4f2d-89ce-4aee2be93cd6', 'token_usage': {'input_tokens': 350, 'output_tokens': 24, 'total_tokens': 374, 'prompt_tokens_details': {'cached_tokens': 256}}}, 'type': 'ai', 'name': None, 'id': 'run--0e4ffc10-4c70-4790-bed5-c91d349d8f17-0', 'example': False, 'tool_calls': [{'name': 'multiply', 'args': {'a': 3, 'b': 3}, 'id': 'call_f355c59b54b4470c8c09ed', 'type': 'tool_call'}], 'invalid_tool_calls': [], 'usage_metadata': None}\n",
      "--------------------Tools Node--------------------\n",
      "{'content': '9', 'additional_kwargs': {}, 'response_metadata': {}, 'type': 'tool', 'name': 'multiply', 'id': '5aa0bc31-f765-48d0-bdd1-17cdb305f3b6', 'tool_call_id': 'call_f355c59b54b4470c8c09ed', 'artifact': None, 'status': 'success'}\n",
      "--------------------Assistant Node--------------------\n",
      "{'content': 'The result of multiplying 3 and 3 is 9.', 'additional_kwargs': {}, 'response_metadata': {'model_name': 'qwen-plus', 'finish_reason': 'stop', 'request_id': '399658a4-e200-44a4-9f4c-3b25363ab89c', 'token_usage': {'input_tokens': 389, 'output_tokens': 13, 'total_tokens': 402, 'prompt_tokens_details': {'cached_tokens': 256}}}, 'type': 'ai', 'name': None, 'id': 'run--f508db76-7503-4bb4-81ca-a8126ecea8af-0', 'example': False, 'tool_calls': [], 'invalid_tool_calls': [], 'usage_metadata': None}\n"
     ]
    }
   ],
   "source": [
    "async for chunk in client.runs.stream(\n",
    "    thread[\"thread_id\"],\n",
    "    assistant_id=\"agent\",\n",
    "    input=None,\n",
    "    stream_mode=\"updates\",\n",
    "    ############### different from last lesson #####################\n",
    "    checkpoint_id=forked_config[\"checkpoint_id\"],\n",
    "    ############### different from last lesson #####################\n",
    "):\n",
    "    if chunk.data:\n",
    "        assisant_node = chunk.data.get(\"assistant\", {}).get(\"messages\", [])\n",
    "        tool_node = chunk.data.get(\"tools\", {}).get(\"messages\", [])\n",
    "        if assisant_node:\n",
    "            print(\"-\" * 20 + \"Assistant Node\" + \"-\" * 20)\n",
    "            print(assisant_node[-1])\n",
    "        elif tool_node:\n",
    "            print(\"-\" * 20 + \"Tools Node\" + \"-\" * 20)\n",
    "            print(tool_node[-1])"
   ]
  },
  {
   "cell_type": "markdown",
   "id": "36956571-a2b8-4f1b-8e30-51f02f155a6f",
   "metadata": {},
   "source": [
    "### LangGraph Studio\n",
    "\n",
    "我们在 Studio UI 中查看这个智能体的分叉，它使用的是 `module-1/studio/langgraph.json` 指定的 `module-1/studio/agent.py`。\n"
   ]
  }
 ],
 "metadata": {
  "kernelspec": {
   "display_name": "py311",
   "language": "python",
   "name": "python3"
  },
  "language_info": {
   "codemirror_mode": {
    "name": "ipython",
    "version": 3
   },
   "file_extension": ".py",
   "mimetype": "text/x-python",
   "name": "python",
   "nbconvert_exporter": "python",
   "pygments_lexer": "ipython3",
   "version": "3.11.13"
  }
 },
 "nbformat": 4,
 "nbformat_minor": 5
}
