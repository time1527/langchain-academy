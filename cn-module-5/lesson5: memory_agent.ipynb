{
 "cells": [
  {
   "cell_type": "markdown",
   "metadata": {},
   "source": [
    "# 记忆型智能体\n",
    "\n",
    "## 回顾\n",
    "\n",
    "我们构建了一个聊天机器人，把语义记忆保存到单一[用户档案](https://langchain-ai.github.io/langgraph/concepts/memory/#profile)或[集合](https://langchain-ai.github.io/langgraph/concepts/memory/#collection)中。\n",
    "\n",
    "我们引入了 [Trustcall](https://github.com/hinthornw/trustcall) 来更新这两类模式。\n",
    "\n",
    "## 目标\n",
    "\n",
    "现在，我们将整合前面学到的内容，构建一个具备长期记忆的[智能体](https://langchain-ai.github.io/langgraph/concepts/agentic_concepts/)。\n",
    "\n",
    "这个智能体叫 `task_mAIstro`，用于帮我们管理 ToDo 清单！\n",
    "\n",
    "此前的聊天机器人会*自动*反思对话并保存记忆。\n",
    "\n",
    "`task_mAIstro` 会自行判断 *何时* 保存记忆（即 ToDo 项目）。\n",
    "\n",
    "此前的聊天机器人只会保存一种记忆：档案或者集合。\n",
    "\n",
    "`task_mAIstro` 可以决定把信息写入用户档案，或写入 ToDo 项目的集合。\n",
    "\n",
    "除了语义记忆，`task_mAIstro` 还会管理程序性记忆。\n",
    "\n",
    "这样用户就能更新它创建 ToDo 项目的偏好。\n"
   ]
  },
  {
   "cell_type": "code",
   "execution_count": 1,
   "metadata": {},
   "outputs": [],
   "source": [
    "%%capture --no-stderr\n",
    "%pip install -U langchain_openai langgraph trustcall langchain_core"
   ]
  },
  {
   "cell_type": "code",
   "execution_count": 2,
   "metadata": {},
   "outputs": [],
   "source": [
    "import os, getpass\n",
    "\n",
    "\n",
    "def _set_env(var: str):\n",
    "    # Check if the variable is set in the OS environment\n",
    "    env_value = os.environ.get(var)\n",
    "    if not env_value:\n",
    "        # If not set, prompt the user for input\n",
    "        env_value = getpass.getpass(f\"{var}: \")\n",
    "\n",
    "    # Set the environment variable for the current process\n",
    "    os.environ[var] = env_value\n",
    "\n",
    "\n",
    "_set_env(\"LANGSMITH_API_KEY\")\n",
    "os.environ[\"LANGSMITH_TRACING\"] = \"true\"\n",
    "os.environ[\"LANGSMITH_PROJECT\"] = \"langchain-academy\""
   ]
  },
  {
   "cell_type": "code",
   "execution_count": 3,
   "metadata": {},
   "outputs": [],
   "source": [
    "# _set_env(\"OPENAI_API_KEY\")\n",
    "_set_env(\"DASHSCOPE_API_KEY\")"
   ]
  },
  {
   "cell_type": "markdown",
   "metadata": {},
   "source": [
    "## 了解 Trustcall 的更新细节\n",
    "\n",
    "Trustcall 负责创建与更新 JSON 模式。\n",
    "\n",
    "如果我们希望了解 Trustcall 做了哪些*具体改动*，该怎么办？\n",
    "\n",
    "例如，我们之前看到 Trustcall 自带的工具可以：\n",
    "\n",
    "* 出现校验失败时自我纠错 —— [示例追踪](https://smith.langchain.com/public/5cd23009-3e05-4b00-99f0-c66ee3edd06e/r/9684db76-2003-443b-9aa2-9a9dbc5498b7)\n",
    "* 更新已有文档 —— [示例追踪](https://smith.langchain.com/public/f45bdaf0-6963-4c19-8ec9-f4b7fe0f68ad/r/760f90e1-a5dc-48f1-8c34-79d6a3414ac3)\n",
    "\n",
    "了解这些工具的行为，对我们即将构建的智能体很有帮助。\n",
    "\n",
    "下面展示如何实现。\n"
   ]
  },
  {
   "cell_type": "code",
   "execution_count": 4,
   "metadata": {},
   "outputs": [],
   "source": [
    "from pydantic import BaseModel, Field\n",
    "\n",
    "\n",
    "class Memory(BaseModel):\n",
    "    content: str = Field(\n",
    "        description=\"The main content of the memory. For example: User expressed interest in learning about French.\"\n",
    "    )\n",
    "\n",
    "\n",
    "class MemoryCollection(BaseModel):\n",
    "    memories: list[Memory] = Field(description=\"A list of memories about the user.\")"
   ]
  },
  {
   "cell_type": "markdown",
   "metadata": {},
   "source": [
    "我们可以给 Trustcall 抽取器添加一个[监听器](https://python.langchain.com/docs/how_to/lcel_cheatsheet/#add-lifecycle-listeners)。\n",
    "\n",
    "这样抽取器的运行信息就会传递给我们定义的 `Spy` 类。\n",
    "\n",
    "`Spy` 会提取 Trustcall 所触发的工具调用信息。\n"
   ]
  },
  {
   "cell_type": "code",
   "execution_count": 5,
   "metadata": {},
   "outputs": [
    {
     "name": "stderr",
     "output_type": "stream",
     "text": [
      "None of PyTorch, TensorFlow >= 2.0, or Flax have been found. Models won't be available and only tokenizers, configuration and file/data utilities can be used.\n"
     ]
    }
   ],
   "source": [
    "from trustcall import create_extractor\n",
    "\n",
    "# from langchain_openai import ChatOpenAI\n",
    "from langchain_community.chat_models import ChatTongyi\n",
    "\n",
    "\n",
    "# Inspect the tool calls made by Trustcall\n",
    "class Spy:\n",
    "    def __init__(self):\n",
    "        self.called_tools = []\n",
    "\n",
    "    def __call__(self, run):\n",
    "        # Collect information about the tool calls made by the extractor.\n",
    "        q = [run]\n",
    "        while q:\n",
    "            r = q.pop()\n",
    "            if r.child_runs:\n",
    "                q.extend(r.child_runs)\n",
    "            if r.run_type == \"chat_model\":\n",
    "                self.called_tools.append(\n",
    "                    r.outputs[\"generations\"][0][0][\"message\"][\"kwargs\"][\"tool_calls\"]\n",
    "                )\n",
    "\n",
    "\n",
    "# Initialize the spy\n",
    "spy = Spy()\n",
    "\n",
    "# Initialize the model\n",
    "# model = ChatOpenAI(model=\"gpt-4o\", temperature=0)\n",
    "model = ChatTongyi(model=\"qwen3-max\", temperature=0)\n",
    "\n",
    "# Create the extractor\n",
    "trustcall_extractor = create_extractor(\n",
    "    model,\n",
    "    tools=[Memory],\n",
    "    # tool_choice=\"Memory\",\n",
    "    tool_choice=\"auto\",\n",
    "    # This allows the extractor to insert new memories\n",
    "    enable_inserts=True,\n",
    ")\n",
    "\n",
    "# Add the spy as a listener\n",
    "trustcall_extractor_see_all_tool_calls = trustcall_extractor.with_listeners(on_end=spy)"
   ]
  },
  {
   "cell_type": "code",
   "execution_count": 6,
   "metadata": {},
   "outputs": [],
   "source": [
    "from langchain_core.messages import HumanMessage, SystemMessage, AIMessage\n",
    "\n",
    "# Instruction\n",
    "instruction = \"\"\"Extract memories from the following conversation:\"\"\"\n",
    "\n",
    "# Conversation\n",
    "conversation = [\n",
    "    HumanMessage(content=\"Hi, I'm Lance.\"),\n",
    "    AIMessage(content=\"Nice to meet you, Lance.\"),\n",
    "    HumanMessage(content=\"This morning I had a nice bike ride in San Francisco.\"),\n",
    "]\n",
    "\n",
    "# Invoke the extractor\n",
    "result = trustcall_extractor.invoke(\n",
    "    {\"messages\": [SystemMessage(content=instruction)] + conversation}\n",
    ")"
   ]
  },
  {
   "cell_type": "code",
   "execution_count": 7,
   "metadata": {},
   "outputs": [
    {
     "name": "stdout",
     "output_type": "stream",
     "text": [
      "==================================\u001b[1m Ai Message \u001b[0m==================================\n",
      "Tool Calls:\n",
      "  Memory (call_f4c461236287499eba7e4634)\n",
      " Call ID: call_f4c461236287499eba7e4634\n",
      "  Args:\n",
      "    content: Lance had a nice bike ride in San Francisco this morning.\n"
     ]
    }
   ],
   "source": [
    "# Messages contain the tool calls\n",
    "for m in result[\"messages\"]:\n",
    "    m.pretty_print()"
   ]
  },
  {
   "cell_type": "code",
   "execution_count": 8,
   "metadata": {},
   "outputs": [
    {
     "name": "stdout",
     "output_type": "stream",
     "text": [
      "content='Lance had a nice bike ride in San Francisco this morning.'\n"
     ]
    }
   ],
   "source": [
    "# Responses contain the memories that adhere to the schema\n",
    "for m in result[\"responses\"]:\n",
    "    print(m)"
   ]
  },
  {
   "cell_type": "code",
   "execution_count": 9,
   "metadata": {},
   "outputs": [
    {
     "name": "stdout",
     "output_type": "stream",
     "text": [
      "{'id': 'call_f4c461236287499eba7e4634'}\n"
     ]
    }
   ],
   "source": [
    "# Metadata contains the tool call\n",
    "for m in result[\"response_metadata\"]:\n",
    "    print(m)"
   ]
  },
  {
   "cell_type": "code",
   "execution_count": 10,
   "metadata": {},
   "outputs": [
    {
     "data": {
      "text/plain": [
       "[('0',\n",
       "  'Memory',\n",
       "  {'content': 'Lance had a nice bike ride in San Francisco this morning.'})]"
      ]
     },
     "execution_count": 10,
     "metadata": {},
     "output_type": "execute_result"
    }
   ],
   "source": [
    "# Update the conversation\n",
    "updated_conversation = [\n",
    "    AIMessage(content=\"That's great, did you do after?\"),\n",
    "    HumanMessage(content=\"I went to Tartine and ate a croissant.\"),\n",
    "    AIMessage(content=\"What else is on your mind?\"),\n",
    "    HumanMessage(content=\"I was thinking about my Japan, and going back this winter!\"),\n",
    "]\n",
    "\n",
    "# Update the instruction\n",
    "system_msg = \"\"\"Update existing memories and create new ones based on the following conversation:\"\"\"\n",
    "\n",
    "# We'll save existing memories, giving them an ID, key (tool name), and value\n",
    "tool_name = \"Memory\"\n",
    "existing_memories = (\n",
    "    [\n",
    "        (str(i), tool_name, memory.model_dump())\n",
    "        for i, memory in enumerate(result[\"responses\"])\n",
    "    ]\n",
    "    if result[\"responses\"]\n",
    "    else None\n",
    ")\n",
    "existing_memories"
   ]
  },
  {
   "cell_type": "code",
   "execution_count": 11,
   "metadata": {},
   "outputs": [],
   "source": [
    "# Invoke the extractor with our updated conversation and existing memories\n",
    "result = trustcall_extractor_see_all_tool_calls.invoke(\n",
    "    # {\"messages\": updated_conversation, \"existing\": existing_memories}\n",
    "    {\"messages\": updated_conversation},\n",
    "    {\"existing\": existing_memories},\n",
    ")"
   ]
  },
  {
   "cell_type": "code",
   "execution_count": 12,
   "metadata": {},
   "outputs": [
    {
     "name": "stdout",
     "output_type": "stream",
     "text": [
      "{'id': 'call_248ae003d44c4e3dbda77b8f'}\n"
     ]
    }
   ],
   "source": [
    "# Metadata contains the tool call\n",
    "for m in result[\"response_metadata\"]:\n",
    "    print(m)"
   ]
  },
  {
   "cell_type": "code",
   "execution_count": 13,
   "metadata": {},
   "outputs": [
    {
     "name": "stdout",
     "output_type": "stream",
     "text": [
      "==================================\u001b[1m Ai Message \u001b[0m==================================\n",
      "Tool Calls:\n",
      "  Memory (call_248ae003d44c4e3dbda77b8f)\n",
      " Call ID: call_248ae003d44c4e3dbda77b8f\n",
      "  Args:\n",
      "    content: User is planning to return to Japan this winter.\n"
     ]
    }
   ],
   "source": [
    "# Messages contain the tool calls\n",
    "for m in result[\"messages\"]:\n",
    "    m.pretty_print()"
   ]
  },
  {
   "cell_type": "code",
   "execution_count": 14,
   "metadata": {},
   "outputs": [
    {
     "name": "stdout",
     "output_type": "stream",
     "text": [
      "content='User is planning to return to Japan this winter.'\n"
     ]
    }
   ],
   "source": [
    "# Parsed responses\n",
    "for m in result[\"responses\"]:\n",
    "    print(m)"
   ]
  },
  {
   "cell_type": "code",
   "execution_count": 15,
   "metadata": {},
   "outputs": [
    {
     "data": {
      "text/plain": [
       "[[{'name': 'Memory',\n",
       "   'args': {'content': 'User is planning to return to Japan this winter.'},\n",
       "   'id': 'call_248ae003d44c4e3dbda77b8f',\n",
       "   'type': 'tool_call'}]]"
      ]
     },
     "execution_count": 15,
     "metadata": {},
     "output_type": "execute_result"
    }
   ],
   "source": [
    "# Inspect the tool calls made by Trustcall\n",
    "spy.called_tools"
   ]
  },
  {
   "cell_type": "code",
   "execution_count": 16,
   "metadata": {},
   "outputs": [
    {
     "name": "stdout",
     "output_type": "stream",
     "text": [
      "New Memory created:\n",
      "Content: {'content': 'User is planning to return to Japan this winter.'}\n"
     ]
    }
   ],
   "source": [
    "def extract_tool_info(tool_calls, schema_name=\"Memory\"):\n",
    "    \"\"\"Extract information from tool calls for both patches and new memories.\n",
    "\n",
    "    Args:\n",
    "        tool_calls: List of tool calls from the model\n",
    "        schema_name: Name of the schema tool (e.g., \"Memory\", \"ToDo\", \"Profile\")\n",
    "    \"\"\"\n",
    "\n",
    "    # Initialize list of changes\n",
    "    changes = []\n",
    "\n",
    "    for call_group in tool_calls:\n",
    "        for call in call_group:\n",
    "            if call[\"name\"] == \"PatchDoc\":\n",
    "                changes.append(\n",
    "                    {\n",
    "                        \"type\": \"update\",\n",
    "                        \"doc_id\": call[\"args\"][\"json_doc_id\"],\n",
    "                        \"planned_edits\": call[\"args\"][\"planned_edits\"],\n",
    "                        \"value\": call[\"args\"][\"patches\"][0][\"value\"],\n",
    "                    }\n",
    "                )\n",
    "            elif call[\"name\"] == schema_name:\n",
    "                changes.append({\"type\": \"new\", \"value\": call[\"args\"]})\n",
    "\n",
    "    # Format results as a single string\n",
    "    result_parts = []\n",
    "    for change in changes:\n",
    "        if change[\"type\"] == \"update\":\n",
    "            result_parts.append(\n",
    "                f\"Document {change['doc_id']} updated:\\n\"\n",
    "                f\"Plan: {change['planned_edits']}\\n\"\n",
    "                f\"Added content: {change['value']}\"\n",
    "            )\n",
    "        else:\n",
    "            result_parts.append(\n",
    "                f\"New {schema_name} created:\\n\" f\"Content: {change['value']}\"\n",
    "            )\n",
    "\n",
    "    return \"\\n\\n\".join(result_parts)\n",
    "\n",
    "\n",
    "# Inspect spy.called_tools to see exactly what happened during the extraction\n",
    "schema_name = \"Memory\"\n",
    "changes = extract_tool_info(spy.called_tools, schema_name)\n",
    "print(changes)"
   ]
  },
  {
   "cell_type": "markdown",
   "metadata": {},
   "source": [
    "## 构建智能体\n",
    "\n",
    "有许多不同的[智能体](https://langchain-ai.github.io/langgraph/concepts/high_level/)架构可选。\n",
    "\n",
    "这里我们实现一个简单的 [ReAct](https://langchain-ai.github.io/langgraph/concepts/agentic_concepts/#react-implementation) 智能体。\n",
    "\n",
    "它将成为创建与管理 ToDo 清单的贴心助手。\n",
    "\n",
    "这个智能体会根据需要更新三类长期记忆：\n",
    "\n",
    "(a) 创建或更新包含通用用户信息的 `profile`\n",
    "\n",
    "(b) 在 ToDo `collection` 中新增或修改条目\n",
    "\n",
    "(c) 更新自身用于创建 ToDo 项的 `instructions`\n"
   ]
  },
  {
   "cell_type": "code",
   "execution_count": null,
   "metadata": {},
   "outputs": [],
   "source": [
    "from typing import TypedDict, Literal\n",
    "\n",
    "\n",
    "# Update memory tool\n",
    "# 三种更新情况：user, todo, instructions\n",
    "class UpdateMemory(TypedDict):\n",
    "    \"\"\"Decision on what memory type to update\"\"\"\n",
    "\n",
    "    update_type: Literal[\"user\", \"todo\", \"instructions\"]"
   ]
  },
  {
   "cell_type": "code",
   "execution_count": 18,
   "metadata": {},
   "outputs": [],
   "source": [
    "# _set_env(\"OPENAI_API_KEY\")\n",
    "_set_env(\"DASHSCOPE_API_KEY\")"
   ]
  },
  {
   "cell_type": "markdown",
   "metadata": {},
   "source": [
    "## 图定义\n",
    "\n",
    "我们添加一个简单的路由器 `route_message`，用于二选一地决定是否保存记忆。\n",
    "\n",
    "集合的更新依旧由 `write_memory` 节点里的 Trustcall 负责。\n"
   ]
  },
  {
   "cell_type": "code",
   "execution_count": null,
   "metadata": {},
   "outputs": [
    {
     "data": {
      "image/jpeg": "[encoded data removed]",
      "text/plain": [
       "<IPython.core.display.Image object>"
      ]
     },
     "metadata": {},
     "output_type": "display_data"
    }
   ],
   "source": [
    "import uuid\n",
    "from IPython.display import Image, display\n",
    "\n",
    "from datetime import datetime\n",
    "from trustcall import create_extractor\n",
    "from typing import Optional\n",
    "from pydantic import BaseModel, Field\n",
    "\n",
    "from langchain_core.runnables import RunnableConfig\n",
    "from langchain_core.messages import merge_message_runs, HumanMessage, SystemMessage\n",
    "\n",
    "from langgraph.checkpoint.memory import MemorySaver\n",
    "from langgraph.graph import StateGraph, MessagesState, END, START\n",
    "from langgraph.store.base import BaseStore\n",
    "from langgraph.store.memory import InMemoryStore\n",
    "\n",
    "# from langchain_openai import ChatOpenAI\n",
    "from langchain_community.chat_models import ChatTongyi\n",
    "\n",
    "# Initialize the model\n",
    "# model = ChatOpenAI(model=\"gpt-4o\", temperature=0)\n",
    "model = ChatTongyi(model=\"qwen3-max\", temperature=0)\n",
    "\n",
    "\n",
    "# User profile schema\n",
    "class Profile(BaseModel):\n",
    "    \"\"\"This is the profile of the user you are chatting with\"\"\"\n",
    "\n",
    "    name: Optional[str] = Field(description=\"The user's name\", default=None)\n",
    "    location: Optional[str] = Field(description=\"The user's location\", default=None)\n",
    "    job: Optional[str] = Field(description=\"The user's job\", default=None)\n",
    "    connections: list[str] = Field(\n",
    "        description=\"Personal connection of the user, such as family members, friends, or coworkers\",\n",
    "        default_factory=list,\n",
    "    )\n",
    "    interests: list[str] = Field(\n",
    "        description=\"Interests that the user has\", default_factory=list\n",
    "    )\n",
    "\n",
    "\n",
    "# ToDo schema\n",
    "class ToDo(BaseModel):\n",
    "    task: str = Field(description=\"The task to be completed.\")\n",
    "    time_to_complete: Optional[int] = Field(\n",
    "        description=\"Estimated time to complete the task (minutes).\"\n",
    "    )\n",
    "    deadline: Optional[datetime] = Field(\n",
    "        description=\"When the task needs to be completed by (if applicable)\",\n",
    "        default=None,\n",
    "    )\n",
    "    solutions: list[str] = Field(\n",
    "        description=\"List of specific, actionable solutions (e.g., specific ideas, service providers, or concrete options relevant to completing the task)\",\n",
    "        min_items=1,\n",
    "        default_factory=list,\n",
    "    )\n",
    "    status: Literal[\"not started\", \"in progress\", \"done\", \"archived\"] = Field(\n",
    "        description=\"Current status of the task\", default=\"not started\"\n",
    "    )\n",
    "\n",
    "\n",
    "# Create the Trustcall extractor for updating the user profile\n",
    "profile_extractor = create_extractor(\n",
    "    model,\n",
    "    tools=[Profile],\n",
    "    # tool_choice=\"Profile\",\n",
    "    tool_choice=\"auto\",\n",
    ")\n",
    "\n",
    "# Chatbot instruction for choosing what to update and what tools to call\n",
    "MODEL_SYSTEM_MESSAGE = \"\"\"You are a helpful chatbot. \n",
    "\n",
    "You are designed to be a companion to a user, helping them keep track of their ToDo list.\n",
    "\n",
    "You have a long term memory which keeps track of three things:\n",
    "1. The user's profile (general information about them) \n",
    "2. The user's ToDo list\n",
    "3. General instructions for updating the ToDo list\n",
    "\n",
    "Here is the current User Profile (may be empty if no information has been collected yet):\n",
    "<user_profile>\n",
    "{user_profile}\n",
    "</user_profile>\n",
    "\n",
    "Here is the current ToDo List (may be empty if no tasks have been added yet):\n",
    "<todo>\n",
    "{todo}\n",
    "</todo>\n",
    "\n",
    "Here are the current user-specified preferences for updating the ToDo list (may be empty if no preferences have been specified yet):\n",
    "<instructions>\n",
    "{instructions}\n",
    "</instructions>\n",
    "\n",
    "Here are your instructions for reasoning about the user's messages:\n",
    "\n",
    "1. Reason carefully about the user's messages as presented below. \n",
    "\n",
    "2. Decide whether any of the your long-term memory should be updated:\n",
    "- If personal information was provided about the user, update the user's profile by calling UpdateMemory tool with type `user`\n",
    "- If tasks are mentioned, update the ToDo list by calling UpdateMemory tool with type `todo`\n",
    "- If the user has specified preferences for how to update the ToDo list, update the instructions by calling UpdateMemory tool with type `instructions`\n",
    "\n",
    "3. Tell the user that you have updated your memory, if appropriate:\n",
    "- Do not tell the user you have updated the user's profile\n",
    "- Tell the user them when you update the todo list\n",
    "- Do not tell the user that you have updated instructions\n",
    "\n",
    "4. Err on the side of updating the todo list. No need to ask for explicit permission.\n",
    "\n",
    "5. Respond naturally to user user after a tool call was made to save memories, or if no tool call was made.\"\"\"\n",
    "\n",
    "# Trustcall instruction\n",
    "TRUSTCALL_INSTRUCTION = \"\"\"Reflect on following interaction. \n",
    "\n",
    "Use the provided tools to retain any necessary memories about the user. \n",
    "\n",
    "Use parallel tool calling to handle updates and insertions simultaneously.\n",
    "\n",
    "System Time: {time}\"\"\"\n",
    "\n",
    "# Instructions for updating the ToDo list\n",
    "CREATE_INSTRUCTIONS = \"\"\"Reflect on the following interaction.\n",
    "\n",
    "Based on this interaction, update your instructions for how to update ToDo list items. \n",
    "\n",
    "Use any feedback from the user to update how they like to have items added, etc.\n",
    "\n",
    "Your current instructions are:\n",
    "\n",
    "<current_instructions>\n",
    "{current_instructions}\n",
    "</current_instructions>\"\"\"\n",
    "\n",
    "\n",
    "# Node definitions\n",
    "def task_mAIstro(state: MessagesState, config: RunnableConfig, store: BaseStore):\n",
    "    \"\"\"Load memories from the store and use them to personalize the chatbot's response.\"\"\"\n",
    "\n",
    "    # Get the user ID from the config\n",
    "    user_id = config[\"configurable\"][\"user_id\"]\n",
    "\n",
    "    # 检索三种memory： user profile, todo list, instructions\n",
    "    # Retrieve profile memory from the store\n",
    "    namespace = (\"profile\", user_id)\n",
    "    memories = store.search(namespace)\n",
    "    if memories:\n",
    "        user_profile = memories[0].value\n",
    "    else:\n",
    "        user_profile = None\n",
    "\n",
    "    # Retrieve task memory from the store\n",
    "    namespace = (\"todo\", user_id)\n",
    "    memories = store.search(namespace)\n",
    "    todo = \"\\n\".join(f\"{mem.value}\" for mem in memories)\n",
    "\n",
    "    # Retrieve custom instructions\n",
    "    namespace = (\"instructions\", user_id)\n",
    "    memories = store.search(namespace)\n",
    "    if memories:\n",
    "        instructions = memories[0].value\n",
    "    else:\n",
    "        instructions = \"\"\n",
    "\n",
    "    system_msg = MODEL_SYSTEM_MESSAGE.format(\n",
    "        user_profile=user_profile, todo=todo, instructions=instructions\n",
    "    )\n",
    "\n",
    "    # Respond using memory as well as the chat history\n",
    "    # 决定是否调用UpdateMemory工具以及调用哪一个（profile/todo/instruction）\n",
    "    response = model.bind_tools([UpdateMemory], parallel_tool_calls=False).invoke(\n",
    "        [SystemMessage(content=system_msg)] + state[\"messages\"]\n",
    "    )\n",
    "\n",
    "    return {\"messages\": [response]}\n",
    "\n",
    "\n",
    "def update_profile(state: MessagesState, config: RunnableConfig, store: BaseStore):\n",
    "    \"\"\"Reflect on the chat history and update the memory collection.\"\"\"\n",
    "\n",
    "    # Get the user ID from the config\n",
    "    user_id = config[\"configurable\"][\"user_id\"]\n",
    "\n",
    "    # Define the namespace for the memories\n",
    "    namespace = (\"profile\", user_id)\n",
    "\n",
    "    # Retrieve the most recent memories for context\n",
    "    existing_items = store.search(namespace)\n",
    "\n",
    "    # Format the existing memories for the Trustcall extractor\n",
    "    tool_name = \"Profile\"\n",
    "    existing_memories = (\n",
    "        [\n",
    "            (existing_item.key, tool_name, existing_item.value)\n",
    "            for existing_item in existing_items\n",
    "        ]\n",
    "        if existing_items\n",
    "        else None\n",
    "    )\n",
    "\n",
    "    # Merge the chat history and the instruction\n",
    "    TRUSTCALL_INSTRUCTION_FORMATTED = TRUSTCALL_INSTRUCTION.format(\n",
    "        time=datetime.now().isoformat()\n",
    "    )\n",
    "    updated_messages = list(\n",
    "        merge_message_runs(\n",
    "            messages=[SystemMessage(content=TRUSTCALL_INSTRUCTION_FORMATTED)]\n",
    "            + state[\"messages\"][:-1]\n",
    "        )\n",
    "    )\n",
    "\n",
    "    # Invoke the extractor\n",
    "    result = profile_extractor.invoke(\n",
    "        # {\"messages\": updated_messages, \"existing\": existing_memories}\n",
    "        {\"messages\": updated_messages},\n",
    "        {\"existing\": existing_memories},\n",
    "    )\n",
    "\n",
    "    # Save the memories from Trustcall to the store\n",
    "    for r, rmeta in zip(result[\"responses\"], result[\"response_metadata\"]):\n",
    "        store.put(\n",
    "            namespace,\n",
    "            rmeta.get(\"json_doc_id\", str(uuid.uuid4())),\n",
    "            r.model_dump(mode=\"json\"),\n",
    "        )\n",
    "    tool_calls = state[\"messages\"][-1].tool_calls\n",
    "\n",
    "    ##################### important #####################\n",
    "    # 向agent返回工具消息，表示原始工具调用已完成\n",
    "    return {\n",
    "        \"messages\": [\n",
    "            {\n",
    "                \"role\": \"tool\",\n",
    "                \"content\": \"updated profile\",\n",
    "                \"tool_call_id\": tool_calls[0][\"id\"],\n",
    "            }\n",
    "        ]\n",
    "    }\n",
    "    ####################################################\n",
    "\n",
    "\n",
    "def update_todos(state: MessagesState, config: RunnableConfig, store: BaseStore):\n",
    "    \"\"\"Reflect on the chat history and update the memory collection.\"\"\"\n",
    "\n",
    "    # Get the user ID from the config\n",
    "    user_id = config[\"configurable\"][\"user_id\"]\n",
    "\n",
    "    # Define the namespace for the memories\n",
    "    namespace = (\"todo\", user_id)\n",
    "\n",
    "    # Retrieve the most recent memories for context\n",
    "    existing_items = store.search(namespace)\n",
    "\n",
    "    # Format the existing memories for the Trustcall extractor\n",
    "    tool_name = \"ToDo\"\n",
    "    existing_memories = (\n",
    "        [\n",
    "            (existing_item.key, tool_name, existing_item.value)\n",
    "            for existing_item in existing_items\n",
    "        ]\n",
    "        if existing_items\n",
    "        else None\n",
    "    )\n",
    "\n",
    "    # Merge the chat history and the instruction\n",
    "    TRUSTCALL_INSTRUCTION_FORMATTED = TRUSTCALL_INSTRUCTION.format(\n",
    "        time=datetime.now().isoformat()\n",
    "    )\n",
    "    updated_messages = list(\n",
    "        merge_message_runs(\n",
    "            messages=[SystemMessage(content=TRUSTCALL_INSTRUCTION_FORMATTED)]\n",
    "            + state[\"messages\"][:-1]\n",
    "        )\n",
    "    )\n",
    "\n",
    "    ############### diffrent from `update_profile` ###############\n",
    "    # Initialize the spy for visibility into the tool calls made by Trustcall\n",
    "    spy = Spy()\n",
    "\n",
    "    # Create the Trustcall extractor for updating the ToDo list\n",
    "    todo_extractor = create_extractor(\n",
    "        model,\n",
    "        tools=[ToDo],\n",
    "        # tool_choice=tool_name,\n",
    "        tool_choice=\"auto\",\n",
    "        enable_inserts=True,\n",
    "    ).with_listeners(on_end=spy)\n",
    "    ##############################################################\n",
    "\n",
    "    # Invoke the extractor\n",
    "    result = todo_extractor.invoke(\n",
    "        # {\"messages\": updated_messages, \"existing\": existing_memories}\n",
    "        {\"messages\": updated_messages},\n",
    "        {\"existing\": existing_memories},\n",
    "    )\n",
    "\n",
    "    # Save the memories from Trustcall to the store\n",
    "    for r, rmeta in zip(result[\"responses\"], result[\"response_metadata\"]):\n",
    "        store.put(\n",
    "            namespace,\n",
    "            rmeta.get(\"json_doc_id\", str(uuid.uuid4())),\n",
    "            r.model_dump(mode=\"json\"),\n",
    "        )\n",
    "\n",
    "    # Respond to the tool call made in task_mAIstro, confirming the update\n",
    "    tool_calls = state[\"messages\"][-1].tool_calls\n",
    "\n",
    "    # Extract the changes made by Trustcall and add the the ToolMessage returned to task_mAIstro\n",
    "    todo_update_msg = extract_tool_info(spy.called_tools, tool_name)\n",
    "    return {\n",
    "        \"messages\": [\n",
    "            {\n",
    "                \"role\": \"tool\",\n",
    "                \"content\": todo_update_msg,\n",
    "                \"tool_call_id\": tool_calls[0][\"id\"],\n",
    "            }\n",
    "        ]\n",
    "    }\n",
    "\n",
    "\n",
    "def update_instructions(state: MessagesState, config: RunnableConfig, store: BaseStore):\n",
    "    \"\"\"Reflect on the chat history and update the memory collection.\"\"\"\n",
    "\n",
    "    # Get the user ID from the config\n",
    "    user_id = config[\"configurable\"][\"user_id\"]\n",
    "\n",
    "    namespace = (\"instructions\", user_id)\n",
    "\n",
    "    existing_memory = store.get(namespace, \"user_instructions\")\n",
    "\n",
    "    # Format the memory in the system prompt\n",
    "    system_msg = CREATE_INSTRUCTIONS.format(\n",
    "        current_instructions=existing_memory.value if existing_memory else None\n",
    "    )\n",
    "\n",
    "    ####################### diffrent from `update_profile` #######################\n",
    "    ####################### diffrent from `update_todo` #######################\n",
    "    new_memory = model.invoke(\n",
    "        [SystemMessage(content=system_msg)]\n",
    "        + state[\"messages\"][:-1]\n",
    "        + [\n",
    "            HumanMessage(\n",
    "                content=\"Please update the instructions based on the conversation\"\n",
    "            )\n",
    "        ]\n",
    "    )\n",
    "\n",
    "    # Overwrite the existing memory in the store\n",
    "    key = \"user_instructions\"\n",
    "    store.put(namespace, key, {\"memory\": new_memory.content})\n",
    "    ######################################################\n",
    "    tool_calls = state[\"messages\"][-1].tool_calls\n",
    "    return {\n",
    "        \"messages\": [\n",
    "            {\n",
    "                \"role\": \"tool\",\n",
    "                \"content\": \"updated instructions\",\n",
    "                \"tool_call_id\": tool_calls[0][\"id\"],\n",
    "            }\n",
    "        ]\n",
    "    }\n",
    "\n",
    "\n",
    "# Conditional edge\n",
    "def route_message(\n",
    "    state: MessagesState, config: RunnableConfig, store: BaseStore\n",
    ") -> Literal[END, \"update_todos\", \"update_instructions\", \"update_profile\"]:\n",
    "    \"\"\"Reflect on the memories and chat history to decide whether to update the memory collection.\"\"\"\n",
    "    \"\"\"\n",
    "    1. 检查是否有tool call\n",
    "    2. 如果有，根据update_type决定调用哪个更新函数\n",
    "    3. 如果没有，返回END\n",
    "    \"\"\"\n",
    "    message = state[\"messages\"][-1]\n",
    "    if len(message.tool_calls) == 0:\n",
    "        return END\n",
    "    else:\n",
    "        tool_call = message.tool_calls[0]\n",
    "        if tool_call[\"args\"][\"update_type\"] == \"user\":\n",
    "            return \"update_profile\"\n",
    "        elif tool_call[\"args\"][\"update_type\"] == \"todo\":\n",
    "            return \"update_todos\"\n",
    "        elif tool_call[\"args\"][\"update_type\"] == \"instructions\":\n",
    "            return \"update_instructions\"\n",
    "        else:\n",
    "            raise ValueError\n",
    "\n",
    "\n",
    "# Create the graph + all nodes\n",
    "builder = StateGraph(MessagesState)\n",
    "\n",
    "# Define the flow of the memory extraction process\n",
    "builder.add_node(task_mAIstro)\n",
    "builder.add_node(update_todos)\n",
    "builder.add_node(update_profile)\n",
    "builder.add_node(update_instructions)\n",
    "builder.add_edge(START, \"task_mAIstro\")\n",
    "builder.add_conditional_edges(\"task_mAIstro\", route_message)\n",
    "builder.add_edge(\"update_todos\", \"task_mAIstro\")\n",
    "builder.add_edge(\"update_profile\", \"task_mAIstro\")\n",
    "builder.add_edge(\"update_instructions\", \"task_mAIstro\")\n",
    "\n",
    "# Store for long-term (across-thread) memory\n",
    "across_thread_memory = InMemoryStore()\n",
    "\n",
    "# Checkpointer for short-term (within-thread) memory\n",
    "within_thread_memory = MemorySaver()\n",
    "\n",
    "# We compile the graph with the checkpointer and store\n",
    "graph = builder.compile(checkpointer=within_thread_memory, store=across_thread_memory)\n",
    "\n",
    "# View\n",
    "display(Image(graph.get_graph(xray=1).draw_mermaid_png()))"
   ]
  },
  {
   "cell_type": "code",
   "execution_count": 20,
   "metadata": {},
   "outputs": [
    {
     "name": "stdout",
     "output_type": "stream",
     "text": [
      "================================\u001b[1m Human Message \u001b[0m=================================\n",
      "\n",
      "My name is Lance. I live in SF with my wife. I have a 1 year old daughter.\n",
      "==================================\u001b[1m Ai Message \u001b[0m==================================\n",
      "Tool Calls:\n",
      "  UpdateMemory (call_afb8ecfc47de4ee0828b379f)\n",
      " Call ID: call_afb8ecfc47de4ee0828b379f\n",
      "  Args:\n",
      "    update_type: user\n",
      "=================================\u001b[1m Tool Message \u001b[0m=================================\n",
      "\n",
      "updated profile\n",
      "==================================\u001b[1m Ai Message \u001b[0m==================================\n",
      "\n",
      "Got it! It sounds like you have a wonderful family. Let me know if there's anything specific you'd like to keep track of or if you need help with anything!\n"
     ]
    }
   ],
   "source": [
    "# We supply a thread ID for short-term (within-thread) memory\n",
    "# We supply a user ID for long-term (across-thread) memory\n",
    "config = {\"configurable\": {\"thread_id\": \"1\", \"user_id\": \"Lance\"}}\n",
    "\n",
    "# User input to create a profile memory\n",
    "input_messages = [\n",
    "    HumanMessage(\n",
    "        content=\"My name is Lance. I live in SF with my wife. I have a 1 year old daughter.\"\n",
    "    )\n",
    "]\n",
    "\n",
    "# Run the graph\n",
    "for chunk in graph.stream({\"messages\": input_messages}, config, stream_mode=\"values\"):\n",
    "    chunk[\"messages\"][-1].pretty_print()"
   ]
  },
  {
   "cell_type": "code",
   "execution_count": 21,
   "metadata": {},
   "outputs": [
    {
     "name": "stdout",
     "output_type": "stream",
     "text": [
      "================================\u001b[1m Human Message \u001b[0m=================================\n",
      "\n",
      "My wife asked me to book swim lessons for the baby.\n",
      "==================================\u001b[1m Ai Message \u001b[0m==================================\n",
      "Tool Calls:\n",
      "  UpdateMemory (call_dcc53b0c49984558a200503b)\n",
      " Call ID: call_dcc53b0c49984558a200503b\n",
      "  Args:\n",
      "    update_type: todo\n",
      "=================================\u001b[1m Tool Message \u001b[0m=================================\n",
      "\n",
      "New ToDo created:\n",
      "Content: {'task': 'Book swim lessons for 1-year-old daughter', 'time_to_complete': '30', 'deadline': '2025-10-13T22:33:57.369364', 'status': 'not started', 'solutions': ['Search for local swim schools in San Francisco that offer infant/toddler swim classes (e.g., Aqua-Tots, Goldfish Swim School, or YMCA)', 'Check class availability and schedules', 'Read reviews or ask for recommendations from local parenting groups', 'Contact the selected swim school to enroll your daughter']}\n",
      "==================================\u001b[1m Ai Message \u001b[0m==================================\n",
      "\n",
      "I've added \"Book swim lessons for 1-year-old daughter\" to your ToDo list! The task includes some helpful steps like searching for local swim schools in San Francisco, checking availability, reading reviews, and enrolling your daughter. Let me know if you'd like to adjust anything or need help with the next steps!\n"
     ]
    }
   ],
   "source": [
    "# User input for a ToDo\n",
    "input_messages = [\n",
    "    HumanMessage(content=\"My wife asked me to book swim lessons for the baby.\")\n",
    "]\n",
    "\n",
    "# Run the graph\n",
    "for chunk in graph.stream({\"messages\": input_messages}, config, stream_mode=\"values\"):\n",
    "    chunk[\"messages\"][-1].pretty_print()"
   ]
  },
  {
   "cell_type": "code",
   "execution_count": 22,
   "metadata": {},
   "outputs": [
    {
     "name": "stdout",
     "output_type": "stream",
     "text": [
      "================================\u001b[1m Human Message \u001b[0m=================================\n",
      "\n",
      "When creating or updating ToDo items, include specific local businesses / vendors.\n",
      "==================================\u001b[1m Ai Message \u001b[0m==================================\n",
      "Tool Calls:\n",
      "  UpdateMemory (call_6b898203e8b44873be51628e)\n",
      " Call ID: call_6b898203e8b44873be51628e\n",
      "  Args:\n",
      "    update_type: instructions\n",
      "=================================\u001b[1m Tool Message \u001b[0m=================================\n",
      "\n",
      "updated instructions\n",
      "==================================\u001b[1m Ai Message \u001b[0m==================================\n",
      "\n",
      "Got it! I'll make sure to include specific local businesses and vendors in San Francisco when creating or updating your ToDo items. Let me know if there's anything else you'd like me to keep in mind!\n"
     ]
    }
   ],
   "source": [
    "# User input to update instructions for creating ToDos\n",
    "input_messages = [\n",
    "    HumanMessage(\n",
    "        content=\"When creating or updating ToDo items, include specific local businesses / vendors.\"\n",
    "    )\n",
    "]\n",
    "\n",
    "# Run the graph\n",
    "for chunk in graph.stream({\"messages\": input_messages}, config, stream_mode=\"values\"):\n",
    "    chunk[\"messages\"][-1].pretty_print()"
   ]
  },
  {
   "cell_type": "code",
   "execution_count": 23,
   "metadata": {},
   "outputs": [
    {
     "name": "stdout",
     "output_type": "stream",
     "text": [
      "{'memory': '<current_instructions>\\nWhen creating or updating ToDo list items, include specific local businesses or vendors relevant to the task, especially those in San Francisco. For example, when booking swim lessons for a baby, suggest actual local options such as Aqua-Tots, Goldfish Swim School, or the YMCA in SF. Always aim to provide actionable, location-specific recommendations to support task completion.\\n</current_instructions>'}\n"
     ]
    }
   ],
   "source": [
    "# Check for updated instructions\n",
    "user_id = \"Lance\"\n",
    "\n",
    "# Search\n",
    "for memory in across_thread_memory.search((\"instructions\", user_id)):\n",
    "    print(memory.value)"
   ]
  },
  {
   "cell_type": "code",
   "execution_count": 24,
   "metadata": {},
   "outputs": [
    {
     "name": "stdout",
     "output_type": "stream",
     "text": [
      "================================\u001b[1m Human Message \u001b[0m=================================\n",
      "\n",
      "I need to fix the jammed electric Yale lock on the door.\n",
      "==================================\u001b[1m Ai Message \u001b[0m==================================\n",
      "Tool Calls:\n",
      "  UpdateMemory (call_272d55908463432395f73904)\n",
      " Call ID: call_272d55908463432395f73904\n",
      "  Args:\n",
      "    update_type: todo\n",
      "=================================\u001b[1m Tool Message \u001b[0m=================================\n",
      "\n",
      "New ToDo created:\n",
      "Content: {'task': 'Fix the jammed electric Yale lock on the door', 'time_to_complete': '45', 'deadline': '2025-10-06T22:34:18.567208', 'status': 'not started', 'solutions': ['Contact Yale Lock Support (1-800-628-5325) for troubleshooting guidance specific to your model', 'Schedule a service appointment with a local San Francisco locksmith experienced with smart locks (e.g., San Francisco Locksmith Service, Bay Area Locksmith, or Pop-A-Lock SF)', 'Check if the issue is battery-related by replacing batteries with fresh ones', 'Consult the Yale lock manual or app for reset or recalibration instructions']}\n",
      "==================================\u001b[1m Ai Message \u001b[0m==================================\n",
      "\n",
      "I've added \"Fix the jammed electric Yale lock on the door\" to your ToDo list! The task includes actionable steps like contacting Yale Lock Support, scheduling a service appointment with a local San Francisco locksmith (such as San Francisco Locksmith Service, Bay Area Locksmith, or Pop-A-Lock SF), checking the batteries, and consulting the manual or app for troubleshooting. Let me know if you need any further assistance!\n"
     ]
    }
   ],
   "source": [
    "# User input for a ToDo\n",
    "input_messages = [\n",
    "    HumanMessage(content=\"I need to fix the jammed electric Yale lock on the door.\")\n",
    "]\n",
    "\n",
    "# Run the graph\n",
    "for chunk in graph.stream({\"messages\": input_messages}, config, stream_mode=\"values\"):\n",
    "    chunk[\"messages\"][-1].pretty_print()"
   ]
  },
  {
   "cell_type": "code",
   "execution_count": 25,
   "metadata": {},
   "outputs": [
    {
     "name": "stdout",
     "output_type": "stream",
     "text": [
      "{'task': 'Book swim lessons for 1-year-old daughter', 'time_to_complete': 30, 'deadline': '2025-10-13T22:33:57.369364', 'solutions': ['Search for local swim schools in San Francisco that offer infant/toddler swim classes (e.g., Aqua-Tots, Goldfish Swim School, or YMCA)', 'Check class availability and schedules', 'Read reviews or ask for recommendations from local parenting groups', 'Contact the selected swim school to enroll your daughter'], 'status': 'not started'}\n",
      "{'task': 'Fix the jammed electric Yale lock on the door', 'time_to_complete': 45, 'deadline': '2025-10-06T22:34:18.567208', 'solutions': ['Contact Yale Lock Support (1-800-628-5325) for troubleshooting guidance specific to your model', 'Schedule a service appointment with a local San Francisco locksmith experienced with smart locks (e.g., San Francisco Locksmith Service, Bay Area Locksmith, or Pop-A-Lock SF)', 'Check if the issue is battery-related by replacing batteries with fresh ones', 'Consult the Yale lock manual or app for reset or recalibration instructions'], 'status': 'not started'}\n"
     ]
    }
   ],
   "source": [
    "# Namespace for the memory to save\n",
    "user_id = \"Lance\"\n",
    "\n",
    "# Search\n",
    "for memory in across_thread_memory.search((\"todo\", user_id)):\n",
    "    print(memory.value)"
   ]
  },
  {
   "cell_type": "code",
   "execution_count": 26,
   "metadata": {},
   "outputs": [
    {
     "name": "stdout",
     "output_type": "stream",
     "text": [
      "================================\u001b[1m Human Message \u001b[0m=================================\n",
      "\n",
      "For the swim lessons, I need to get that done by end of November.\n",
      "==================================\u001b[1m Ai Message \u001b[0m==================================\n",
      "Tool Calls:\n",
      "  UpdateMemory (call_43ef9394b5e04c84837be3bc)\n",
      " Call ID: call_43ef9394b5e04c84837be3bc\n",
      "  Args:\n",
      "    update_type: todo\n",
      "=================================\u001b[1m Tool Message \u001b[0m=================================\n",
      "\n",
      "New ToDo created:\n",
      "Content: {'task': 'Book swim lessons for 1-year-old daughter', 'time_to_complete': '30', 'deadline': '2025-11-30T23:59:59', 'status': 'not started', 'solutions': ['Search for local swim schools in San Francisco that offer infant/toddler swim classes (e.g., Aqua-Tots San Francisco, Goldfish Swim School – San Francisco, or YMCA locations like Chinatown YMCA or Mission Bay YMCA)', 'Check class availability and schedules for sessions starting before end of November', 'Read reviews or ask for recommendations from local parenting groups like SF Parents or Nextdoor', 'Contact the selected swim school to enroll your daughter']}\n",
      "==================================\u001b[1m Ai Message \u001b[0m==================================\n",
      "\n",
      "I've updated your swim lessons task with a deadline of November 30th and included specific San Francisco swim schools like Aqua-Tots San Francisco, Goldfish Swim School – San Francisco, and YMCA locations (Chinatown YMCA or Mission Bay YMCA). The task also suggests checking availability for sessions starting before the end of November and getting recommendations from local parenting groups like SF Parents or Nextdoor. Let me know if you'd like any adjustments!\n"
     ]
    }
   ],
   "source": [
    "# User input to update an existing ToDo\n",
    "input_messages = [\n",
    "    HumanMessage(\n",
    "        content=\"For the swim lessons, I need to get that done by end of November.\"\n",
    "    )\n",
    "]\n",
    "\n",
    "# Run the graph\n",
    "for chunk in graph.stream({\"messages\": input_messages}, config, stream_mode=\"values\"):\n",
    "    chunk[\"messages\"][-1].pretty_print()"
   ]
  },
  {
   "cell_type": "markdown",
   "metadata": {},
   "source": [
    "可以看到 Trustcall 对已有记忆执行了补丁更新：\n",
    "\n",
    "https://smith.langchain.com/public/4ad3a8af-3b1e-493d-b163-3111aa3d575a/r\n"
   ]
  },
  {
   "cell_type": "code",
   "execution_count": 27,
   "metadata": {},
   "outputs": [
    {
     "name": "stdout",
     "output_type": "stream",
     "text": [
      "================================\u001b[1m Human Message \u001b[0m=================================\n",
      "\n",
      "Need to call back City Toyota to schedule car service.\n",
      "==================================\u001b[1m Ai Message \u001b[0m==================================\n",
      "Tool Calls:\n",
      "  UpdateMemory (call_64b069cee49345238254a58d)\n",
      " Call ID: call_64b069cee49345238254a58d\n",
      "  Args:\n",
      "    update_type: todo\n",
      "=================================\u001b[1m Tool Message \u001b[0m=================================\n",
      "\n",
      "New ToDo created:\n",
      "Content: {'task': 'Call back City Toyota to schedule car service', 'time_to_complete': '15', 'deadline': '2025-10-06T22:34:49.562801', 'status': 'not started', 'solutions': ['Call City Toyota Service Department directly at (415) 555-1234 (main number—confirm exact line for service scheduling)', 'Use the Toyota Owners portal or app to schedule service online if preferred', 'Have your VIN and preferred service date ready when calling', 'Ask about wait times and whether they offer loaner vehicles or shuttle service']}\n",
      "==================================\u001b[1m Ai Message \u001b[0m==================================\n",
      "\n",
      "I've added \"Call back City Toyota to schedule car service\" to your ToDo list! The task includes helpful steps like calling their service department, using the Toyota Owners portal or app, having your VIN ready, and asking about loaner vehicles or shuttle service. Let me know if you need any modifications or additional details!\n"
     ]
    }
   ],
   "source": [
    "# User input for a ToDo\n",
    "input_messages = [\n",
    "    HumanMessage(content=\"Need to call back City Toyota to schedule car service.\")\n",
    "]\n",
    "\n",
    "# Run the graph\n",
    "for chunk in graph.stream({\"messages\": input_messages}, config, stream_mode=\"values\"):\n",
    "    chunk[\"messages\"][-1].pretty_print()"
   ]
  },
  {
   "cell_type": "code",
   "execution_count": 28,
   "metadata": {},
   "outputs": [
    {
     "name": "stdout",
     "output_type": "stream",
     "text": [
      "{'task': 'Book swim lessons for 1-year-old daughter', 'time_to_complete': 30, 'deadline': '2025-10-13T22:33:57.369364', 'solutions': ['Search for local swim schools in San Francisco that offer infant/toddler swim classes (e.g., Aqua-Tots, Goldfish Swim School, or YMCA)', 'Check class availability and schedules', 'Read reviews or ask for recommendations from local parenting groups', 'Contact the selected swim school to enroll your daughter'], 'status': 'not started'}\n",
      "{'task': 'Fix the jammed electric Yale lock on the door', 'time_to_complete': 45, 'deadline': '2025-10-06T22:34:18.567208', 'solutions': ['Contact Yale Lock Support (1-800-628-5325) for troubleshooting guidance specific to your model', 'Schedule a service appointment with a local San Francisco locksmith experienced with smart locks (e.g., San Francisco Locksmith Service, Bay Area Locksmith, or Pop-A-Lock SF)', 'Check if the issue is battery-related by replacing batteries with fresh ones', 'Consult the Yale lock manual or app for reset or recalibration instructions'], 'status': 'not started'}\n",
      "{'task': 'Book swim lessons for 1-year-old daughter', 'time_to_complete': 30, 'deadline': '2025-11-30T23:59:59', 'solutions': ['Search for local swim schools in San Francisco that offer infant/toddler swim classes (e.g., Aqua-Tots San Francisco, Goldfish Swim School – San Francisco, or YMCA locations like Chinatown YMCA or Mission Bay YMCA)', 'Check class availability and schedules for sessions starting before end of November', 'Read reviews or ask for recommendations from local parenting groups like SF Parents or Nextdoor', 'Contact the selected swim school to enroll your daughter'], 'status': 'not started'}\n",
      "{'task': 'Call back City Toyota to schedule car service', 'time_to_complete': 15, 'deadline': '2025-10-06T22:34:49.562801', 'solutions': ['Call City Toyota Service Department directly at (415) 555-1234 (main number—confirm exact line for service scheduling)', 'Use the Toyota Owners portal or app to schedule service online if preferred', 'Have your VIN and preferred service date ready when calling', 'Ask about wait times and whether they offer loaner vehicles or shuttle service'], 'status': 'not started'}\n"
     ]
    }
   ],
   "source": [
    "# Namespace for the memory to save\n",
    "user_id = \"Lance\"\n",
    "\n",
    "# Search\n",
    "for memory in across_thread_memory.search((\"todo\", user_id)):\n",
    "    print(memory.value)"
   ]
  },
  {
   "cell_type": "markdown",
   "metadata": {},
   "source": [
    "现在我们可以创建一个新线程。\n",
    "\n",
    "这就相当于开启一个全新会话。\n",
    "\n",
    "长期记忆中保存的档案、ToDo 与指令都会被读取。\n"
   ]
  },
  {
   "cell_type": "code",
   "execution_count": 29,
   "metadata": {},
   "outputs": [
    {
     "name": "stdout",
     "output_type": "stream",
     "text": [
      "================================\u001b[1m Human Message \u001b[0m=================================\n",
      "\n",
      "I have 30 minutes, what tasks can I get done?\n",
      "==================================\u001b[1m Ai Message \u001b[0m==================================\n",
      "\n",
      "Based on your current ToDo list and the 30 minutes you have available, here are the tasks you can realistically complete:\n",
      "\n",
      "1. **Call back City Toyota to schedule car service**  \n",
      "   - Estimated time: 15 minutes  \n",
      "   - This is well within your available time.  \n",
      "   - Solutions: Call City Toyota Service Department at (415) 555-1234, use the Toyota Owners portal/app, have your VIN ready, and ask about wait times or loaner vehicles.\n",
      "\n",
      "2. **Book swim lessons for your 1-year-old daughter**  \n",
      "   - Estimated time: 30 minutes  \n",
      "   - This fits exactly within your available window.  \n",
      "   - Solutions: Search for local swim schools like Aqua-Tots San Francisco, Goldfish Swim School – San Francisco, or YMCA locations (Chinatown or Mission Bay), check availability, read reviews from SF Parents or Nextdoor, and contact your chosen school to enroll.\n",
      "\n",
      "Would you like to tackle one of these now?\n"
     ]
    }
   ],
   "source": [
    "# We supply a thread ID for short-term (within-thread) memory\n",
    "# We supply a user ID for long-term (across-thread) memory\n",
    "config = {\"configurable\": {\"thread_id\": \"2\", \"user_id\": \"Lance\"}}\n",
    "\n",
    "# Chat with the chatbot\n",
    "input_messages = [HumanMessage(content=\"I have 30 minutes, what tasks can I get done?\")]\n",
    "\n",
    "# Run the graph\n",
    "for chunk in graph.stream({\"messages\": input_messages}, config, stream_mode=\"values\"):\n",
    "    chunk[\"messages\"][-1].pretty_print()"
   ]
  },
  {
   "cell_type": "code",
   "execution_count": 30,
   "metadata": {},
   "outputs": [
    {
     "name": "stdout",
     "output_type": "stream",
     "text": [
      "================================\u001b[1m Human Message \u001b[0m=================================\n",
      "\n",
      "Yes, give me some options to call for swim lessons.\n",
      "==================================\u001b[1m Ai Message \u001b[0m==================================\n",
      "\n",
      "Here are some great San Francisco swim schools that offer infant/toddler swim classes for your 1-year-old daughter:\n",
      "\n",
      "1. **Aqua-Tots San Francisco**  \n",
      "   - Website: [aquatots.com/locations/ca/san-francisco](https://www.aquatots.com/locations/ca/san-francisco)  \n",
      "   - Phone: (415) 555-2345  \n",
      "   - Offers classes specifically for babies as young as 6 months  \n",
      "\n",
      "2. **Goldfish Swim School – San Francisco (Marina District)**  \n",
      "   - Website: [goldfishswimschool.com/sanfrancisco](https://www.goldfishswimschool.com/sanfrancisco)  \n",
      "   - Phone: (415) 555-3456  \n",
      "   - Warm water pools and curriculum designed for young children  \n",
      "\n",
      "3. **YMCA of San Francisco – Chinatown or Mission Bay Locations**  \n",
      "   - Chinatown YMCA: (415) 555-4567  \n",
      "   - Mission Bay YMCA: (415) 555-5678  \n",
      "   - Website: [ymcasf.org](https://www.ymcasf.org)  \n",
      "   - Offers parent-child swim classes and is often more affordable  \n",
      "\n",
      "4. **Little Otter Swim School (Potrero Hill)**  \n",
      "   - Website: [littleotterswim.com](https://www.littleotterswim.com)  \n",
      "   - Phone: (415) 555-6789  \n",
      "   - Specializes in early childhood aquatics with small class sizes  \n",
      "\n",
      "Would you like help calling one of these, or do you want to check availability online first?\n"
     ]
    }
   ],
   "source": [
    "# Chat with the chatbot\n",
    "input_messages = [\n",
    "    HumanMessage(content=\"Yes, give me some options to call for swim lessons.\")\n",
    "]\n",
    "\n",
    "# Run the graph\n",
    "for chunk in graph.stream({\"messages\": input_messages}, config, stream_mode=\"values\"):\n",
    "    chunk[\"messages\"][-1].pretty_print()"
   ]
  },
  {
   "cell_type": "markdown",
   "metadata": {},
   "source": [
    "追踪：\n",
    "\n",
    "https://smith.langchain.com/public/84768705-be91-43e4-8a6f-f9d3cee93782/r\n",
    "\n",
    "## Studio\n",
    "\n",
    "![Screenshot 2024-11-04 at 1.00.19 PM.png](https://cdn.prod.website-files.com/65b8cd72835ceeacd4449a53/6732cfb05d9709862eba4e6c_Screenshot%202024-11-11%20at%207.46.40%E2%80%AFPM.png)\n"
   ]
  },
  {
   "cell_type": "markdown",
   "metadata": {},
   "source": [
    "## 疑问\n",
    "\n",
    "为什么不是由大模型直接选择执行的tool（update_todo/update_profile/update_instructions），而是需要中间夹一层update memory显式判断???\n",
    "\n",
    "应该修改task_mAIstro函数？？？"
   ]
  },
  {
   "cell_type": "markdown",
   "metadata": {},
   "source": []
  }
 ],
 "metadata": {
  "kernelspec": {
   "display_name": "py311",
   "language": "python",
   "name": "python3"
  },
  "language_info": {
   "codemirror_mode": {
    "name": "ipython",
    "version": 3
   },
   "file_extension": ".py",
   "mimetype": "text/x-python",
   "name": "python",
   "nbconvert_exporter": "python",
   "pygments_lexer": "ipython3",
   "version": "3.11.13"
  }
 },
 "nbformat": 4,
 "nbformat_minor": 4
}
