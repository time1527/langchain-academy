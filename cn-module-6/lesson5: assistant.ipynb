{
 "cells": [
  {
   "cell_type": "markdown",
   "metadata": {},
   "source": [
    "# 助理\n",
    "\n",
    "[助理](https://langchain-ai.github.io/langgraph/concepts/assistants/#resources) 让开发者可以快速、轻松地修改或版本化智能体，方便实验。\n",
    "\n",
    "## 为图形提供配置\n",
    "\n",
    "我们的 `task_maistro` 图已经配置好可以使用助理了！\n",
    "\n",
    "它包含一个 `configuration.py` 文件，并在图中加载。\n",
    "\n",
    "我们在图节点中访问可配置字段（`user_id`、`todo_category`、`task_maistro_role`）。\n",
    "\n",
    "## 创建助理\n",
    "\n",
    "那么，在我们持续构建的 `task_maistro` 应用里，助理的实际用途是什么？\n",
    "\n",
    "对我来说，就是能针对不同类型的任务拥有独立的 ToDo 列表。\n",
    "\n",
    "例如，我希望有一个助理负责个人任务，另一个助理负责工作任务。\n",
    "\n",
    "这些都可以通过 `todo_category` 和 `task_maistro_role` 这两个可配置字段轻松实现。\n",
    "\n",
    "![Screenshot 2024-11-18 at 9.35.55 AM.png](https://cdn.prod.website-files.com/65b8cd72835ceeacd4449a53/673d50597f4e9eae9abf4869_Screenshot%202024-11-19%20at%206.57.01%E2%80%AFPM.png)\n"
   ]
  },
  {
   "cell_type": "code",
   "execution_count": 1,
   "metadata": {},
   "outputs": [],
   "source": [
    "%%capture --no-stderr\n",
    "%pip install -U langgraph_sdk"
   ]
  },
  {
   "cell_type": "markdown",
   "metadata": {},
   "source": [
    "这是我们在部署图时创建的默认助理。\n"
   ]
  },
  {
   "cell_type": "code",
   "execution_count": null,
   "metadata": {},
   "outputs": [],
   "source": [
    "from langgraph_sdk import get_client\n",
    "\n",
    "url_for_cli_deployment = \"http://localhost:8123\"\n",
    "client = get_client(url=url_for_cli_deployment)"
   ]
  },
  {
   "cell_type": "markdown",
   "metadata": {},
   "source": [
    "### 个人助理\n",
    "\n",
    "这是我用来管理个人任务的助理。\n"
   ]
  },
  {
   "cell_type": "code",
   "execution_count": null,
   "metadata": {},
   "outputs": [
    {
     "name": "stdout",
     "output_type": "stream",
     "text": [
      "{'assistant_id': 'ea9469fe-4e70-4778-8943-6ac883def421', 'graph_id': 'task_maistro', 'created_at': '2025-09-30T15:07:31.725820+00:00', 'updated_at': '2025-09-30T15:07:31.725820+00:00', 'config': {'configurable': {'todo_category': 'personal'}}, 'metadata': {}, 'version': 1, 'name': 'Untitled', 'description': None, 'context': {'todo_category': 'personal'}}\n"
     ]
    }
   ],
   "source": [
    "personal_assistant = await client.assistants.create(\n",
    "    # \"task_maistro\" is the name of a graph we deployed\n",
    "    \"task_maistro\",\n",
    "    config={\"configurable\": {\"todo_category\": \"personal\"}},\n",
    ")\n",
    "print(personal_assistant)"
   ]
  },
  {
   "cell_type": "markdown",
   "metadata": {},
   "source": [
    "让我们更新这个助理，把我的 `user_id` 也写进去，方便使用，[同时创建一个新版本](https://langchain-ai.github.io/langgraph/cloud/how-tos/assistant_versioning/#create-a-new-version-for-your-assistant)。\n"
   ]
  },
  {
   "cell_type": "code",
   "execution_count": null,
   "metadata": {},
   "outputs": [
    {
     "name": "stdout",
     "output_type": "stream",
     "text": [
      "{'assistant_id': 'ea9469fe-4e70-4778-8943-6ac883def421', 'graph_id': 'task_maistro', 'created_at': '2025-09-30T15:07:40.692875+00:00', 'updated_at': '2025-09-30T15:07:40.692875+00:00', 'config': {'configurable': {'user_id': 'lance', 'todo_category': 'personal', 'task_maistro_role': 'You are a friendly and organized personal task assistant. Your main focus is helping users stay on top of their personal tasks and commitments. Specifically:\\n\\n- Help track and organize personal tasks\\n- When providing a \\'todo summary\\':\\n  1. List all current tasks grouped by deadline (overdue, today, this week, future)\\n  2. Highlight any tasks missing deadlines and gently encourage adding them\\n  3. Note any tasks that seem important but lack time estimates\\n- Proactively ask for deadlines when new tasks are added without them\\n- Maintain a supportive tone while helping the user stay accountable\\n- Help prioritize tasks based on deadlines and importance\\n\\nYour communication style should be encouraging and helpful, never judgmental. \\n\\nWhen tasks are missing deadlines, respond with something like \"I notice [task] doesn\\'t have a deadline yet. Would you like to add one to help us track it better?'}}, 'metadata': {}, 'version': 2, 'name': 'Untitled', 'description': None, 'context': {'user_id': 'lance', 'todo_category': 'personal', 'task_maistro_role': 'You are a friendly and organized personal task assistant. Your main focus is helping users stay on top of their personal tasks and commitments. Specifically:\\n\\n- Help track and organize personal tasks\\n- When providing a \\'todo summary\\':\\n  1. List all current tasks grouped by deadline (overdue, today, this week, future)\\n  2. Highlight any tasks missing deadlines and gently encourage adding them\\n  3. Note any tasks that seem important but lack time estimates\\n- Proactively ask for deadlines when new tasks are added without them\\n- Maintain a supportive tone while helping the user stay accountable\\n- Help prioritize tasks based on deadlines and importance\\n\\nYour communication style should be encouraging and helpful, never judgmental. \\n\\nWhen tasks are missing deadlines, respond with something like \"I notice [task] doesn\\'t have a deadline yet. Would you like to add one to help us track it better?'}}\n"
     ]
    }
   ],
   "source": [
    "task_maistro_role = \"\"\"You are a friendly and organized personal task assistant. Your main focus is helping users stay on top of their personal tasks and commitments. Specifically:\n",
    "\n",
    "- Help track and organize personal tasks\n",
    "- When providing a 'todo summary':\n",
    "  1. List all current tasks grouped by deadline (overdue, today, this week, future)\n",
    "  2. Highlight any tasks missing deadlines and gently encourage adding them\n",
    "  3. Note any tasks that seem important but lack time estimates\n",
    "- Proactively ask for deadlines when new tasks are added without them\n",
    "- Maintain a supportive tone while helping the user stay accountable\n",
    "- Help prioritize tasks based on deadlines and importance\n",
    "\n",
    "Your communication style should be encouraging and helpful, never judgmental. \n",
    "\n",
    "When tasks are missing deadlines, respond with something like \"I notice [task] doesn't have a deadline yet. Would you like to add one to help us track it better?\"\"\"\n",
    "\n",
    "configurations = {\n",
    "    \"todo_category\": \"personal\",\n",
    "    \"user_id\": \"lance\",\n",
    "    \"task_maistro_role\": task_maistro_role,\n",
    "}\n",
    "\n",
    "personal_assistant = await client.assistants.update(\n",
    "    personal_assistant[\"assistant_id\"], config={\"configurable\": configurations}\n",
    ")\n",
    "print(personal_assistant)"
   ]
  },
  {
   "cell_type": "markdown",
   "metadata": {},
   "source": [
    "### 工作助理\n",
    "\n",
    "现在来创建一个工作助理。我会用它来管理工作任务。\n"
   ]
  },
  {
   "cell_type": "code",
   "execution_count": null,
   "metadata": {},
   "outputs": [
    {
     "name": "stdout",
     "output_type": "stream",
     "text": [
      "{'assistant_id': '0d80b71d-dd0c-413e-bbed-3622de7ff4dd', 'graph_id': 'task_maistro', 'created_at': '2025-09-30T15:07:48.986010+00:00', 'updated_at': '2025-09-30T15:07:48.986010+00:00', 'config': {'configurable': {'user_id': 'lance', 'todo_category': 'work', 'task_maistro_role': 'You are a focused and efficient work task assistant. \\n\\nYour main focus is helping users manage their work commitments with realistic timeframes. \\n\\nSpecifically:\\n\\n- Help track and organize work tasks\\n- When providing a \\'todo summary\\':\\n  1. List all current tasks grouped by deadline (overdue, today, this week, future)\\n  2. Highlight any tasks missing deadlines and gently encourage adding them\\n  3. Note any tasks that seem important but lack time estimates\\n- When discussing new tasks, suggest that the user provide realistic time-frames based on task type:\\n  • Developer Relations features: typically 1 day\\n  • Course lesson reviews/feedback: typically 2 days\\n  • Documentation sprints: typically 3 days\\n- Help prioritize tasks based on deadlines and team dependencies\\n- Maintain a professional tone while helping the user stay accountable\\n\\nYour communication style should be supportive but practical. \\n\\nWhen tasks are missing deadlines, respond with something like \"I notice [task] doesn\\'t have a deadline yet. Based on similar tasks, this might take [suggested timeframe]. Would you like to set a deadline with this in mind?'}}, 'metadata': {}, 'version': 1, 'name': 'Untitled', 'description': None, 'context': {'user_id': 'lance', 'todo_category': 'work', 'task_maistro_role': 'You are a focused and efficient work task assistant. \\n\\nYour main focus is helping users manage their work commitments with realistic timeframes. \\n\\nSpecifically:\\n\\n- Help track and organize work tasks\\n- When providing a \\'todo summary\\':\\n  1. List all current tasks grouped by deadline (overdue, today, this week, future)\\n  2. Highlight any tasks missing deadlines and gently encourage adding them\\n  3. Note any tasks that seem important but lack time estimates\\n- When discussing new tasks, suggest that the user provide realistic time-frames based on task type:\\n  • Developer Relations features: typically 1 day\\n  • Course lesson reviews/feedback: typically 2 days\\n  • Documentation sprints: typically 3 days\\n- Help prioritize tasks based on deadlines and team dependencies\\n- Maintain a professional tone while helping the user stay accountable\\n\\nYour communication style should be supportive but practical. \\n\\nWhen tasks are missing deadlines, respond with something like \"I notice [task] doesn\\'t have a deadline yet. Based on similar tasks, this might take [suggested timeframe]. Would you like to set a deadline with this in mind?'}}\n"
     ]
    }
   ],
   "source": [
    "task_maistro_role = \"\"\"You are a focused and efficient work task assistant. \n",
    "\n",
    "Your main focus is helping users manage their work commitments with realistic timeframes. \n",
    "\n",
    "Specifically:\n",
    "\n",
    "- Help track and organize work tasks\n",
    "- When providing a 'todo summary':\n",
    "  1. List all current tasks grouped by deadline (overdue, today, this week, future)\n",
    "  2. Highlight any tasks missing deadlines and gently encourage adding them\n",
    "  3. Note any tasks that seem important but lack time estimates\n",
    "- When discussing new tasks, suggest that the user provide realistic time-frames based on task type:\n",
    "  • Developer Relations features: typically 1 day\n",
    "  • Course lesson reviews/feedback: typically 2 days\n",
    "  • Documentation sprints: typically 3 days\n",
    "- Help prioritize tasks based on deadlines and team dependencies\n",
    "- Maintain a professional tone while helping the user stay accountable\n",
    "\n",
    "Your communication style should be supportive but practical. \n",
    "\n",
    "When tasks are missing deadlines, respond with something like \"I notice [task] doesn't have a deadline yet. Based on similar tasks, this might take [suggested timeframe]. Would you like to set a deadline with this in mind?\"\"\"\n",
    "\n",
    "configurations = {\n",
    "    \"todo_category\": \"work\",\n",
    "    \"user_id\": \"lance\",\n",
    "    \"task_maistro_role\": task_maistro_role,\n",
    "}\n",
    "\n",
    "work_assistant = await client.assistants.create(\n",
    "    # \"task_maistro\" is the name of a graph we deployed\n",
    "    \"task_maistro\",\n",
    "    config={\"configurable\": configurations},\n",
    ")\n",
    "print(work_assistant)"
   ]
  },
  {
   "cell_type": "markdown",
   "metadata": {},
   "source": [
    "## 使用助理\n",
    "\n",
    "助理会被保存到部署中的 `Postgres`。\n",
    "\n",
    "这样我们就能通过 SDK 轻松[搜索](https://langchain-ai.github.io/langgraph/cloud/how-tos/configuration_cloud/)助理。\n"
   ]
  },
  {
   "cell_type": "code",
   "execution_count": null,
   "metadata": {},
   "outputs": [
    {
     "name": "stdout",
     "output_type": "stream",
     "text": [
      "{'assistant_id': '0d80b71d-dd0c-413e-bbed-3622de7ff4dd', 'version': 1, 'config': {'configurable': {'user_id': 'lance', 'todo_category': 'work', 'task_maistro_role': 'You are a focused and efficient work task assistant. \\n\\nYour main focus is helping users manage their work commitments with realistic timeframes. \\n\\nSpecifically:\\n\\n- Help track and organize work tasks\\n- When providing a \\'todo summary\\':\\n  1. List all current tasks grouped by deadline (overdue, today, this week, future)\\n  2. Highlight any tasks missing deadlines and gently encourage adding them\\n  3. Note any tasks that seem important but lack time estimates\\n- When discussing new tasks, suggest that the user provide realistic time-frames based on task type:\\n  • Developer Relations features: typically 1 day\\n  • Course lesson reviews/feedback: typically 2 days\\n  • Documentation sprints: typically 3 days\\n- Help prioritize tasks based on deadlines and team dependencies\\n- Maintain a professional tone while helping the user stay accountable\\n\\nYour communication style should be supportive but practical. \\n\\nWhen tasks are missing deadlines, respond with something like \"I notice [task] doesn\\'t have a deadline yet. Based on similar tasks, this might take [suggested timeframe]. Would you like to set a deadline with this in mind?'}}}\n",
      "{'assistant_id': 'ea9469fe-4e70-4778-8943-6ac883def421', 'version': 2, 'config': {'configurable': {'user_id': 'lance', 'todo_category': 'personal', 'task_maistro_role': 'You are a friendly and organized personal task assistant. Your main focus is helping users stay on top of their personal tasks and commitments. Specifically:\\n\\n- Help track and organize personal tasks\\n- When providing a \\'todo summary\\':\\n  1. List all current tasks grouped by deadline (overdue, today, this week, future)\\n  2. Highlight any tasks missing deadlines and gently encourage adding them\\n  3. Note any tasks that seem important but lack time estimates\\n- Proactively ask for deadlines when new tasks are added without them\\n- Maintain a supportive tone while helping the user stay accountable\\n- Help prioritize tasks based on deadlines and importance\\n\\nYour communication style should be encouraging and helpful, never judgmental. \\n\\nWhen tasks are missing deadlines, respond with something like \"I notice [task] doesn\\'t have a deadline yet. Would you like to add one to help us track it better?'}}}\n",
      "{'assistant_id': 'ea4ebafa-a81d-5063-a5fa-67c755d98a21', 'version': 1, 'config': {}}\n"
     ]
    }
   ],
   "source": [
    "assistants = await client.assistants.search()\n",
    "for assistant in assistants:\n",
    "    print(\n",
    "        {\n",
    "            \"assistant_id\": assistant[\"assistant_id\"],\n",
    "            \"version\": assistant[\"version\"],\n",
    "            \"config\": assistant[\"config\"],\n",
    "        }\n",
    "    )"
   ]
  },
  {
   "cell_type": "markdown",
   "metadata": {},
   "source": [
    "利用 SDK 可以很方便地管理助理。例如，我们可以删除不再使用的助理。\n",
    "> 视频中的语法略有不同，下方的更新代码会先创建一个备用助理，再将其删除。\n"
   ]
  },
  {
   "cell_type": "code",
   "execution_count": null,
   "metadata": {},
   "outputs": [
    {
     "name": "stdout",
     "output_type": "stream",
     "text": [
      "before delete: {'assistant_id': 6dc0beac-0f47-43f0-9633-b4b2f8f93580}\n",
      "before delete: {'assistant_id': 0d80b71d-dd0c-413e-bbed-3622de7ff4dd}\n",
      "before delete: {'assistant_id': ea9469fe-4e70-4778-8943-6ac883def421}\n",
      "before delete: {'assistant_id': ea4ebafa-a81d-5063-a5fa-67c755d98a21}\n",
      "\n",
      "after delete: {'assistant_id': 6dc0beac-0f47-43f0-9633-b4b2f8f93580 }\n",
      "after delete: {'assistant_id': 0d80b71d-dd0c-413e-bbed-3622de7ff4dd }\n",
      "after delete: {'assistant_id': ea9469fe-4e70-4778-8943-6ac883def421 }\n"
     ]
    }
   ],
   "source": [
    "# create a temporary assitant\n",
    "temp_assistant = await client.assistants.create(\n",
    "    \"task_maistro\", config={\"configurable\": configurations}\n",
    ")\n",
    "\n",
    "assistants = await client.assistants.search()\n",
    "for assistant in assistants:\n",
    "    print(f\"before delete: {{'assistant_id': {assistant['assistant_id']}}}\")\n",
    "\n",
    "# delete our temporary assistant\n",
    "await client.assistants.delete(assistants[-1][\"assistant_id\"])\n",
    "print()\n",
    "\n",
    "assistants = await client.assistants.search()\n",
    "for assistant in assistants:\n",
    "    print(f\"after delete: {{'assistant_id': {assistant['assistant_id']} }}\")"
   ]
  },
  {
   "cell_type": "markdown",
   "metadata": {},
   "source": [
    "设置我要使用的 `personal` 与 `work` 助理 ID。\n"
   ]
  },
  {
   "cell_type": "code",
   "execution_count": null,
   "metadata": {},
   "outputs": [],
   "source": [
    "work_assistant_id = assistants[0][\"assistant_id\"]\n",
    "personal_assistant_id = assistants[1][\"assistant_id\"]"
   ]
  },
  {
   "cell_type": "markdown",
   "metadata": {},
   "source": [
    "### 工作助理\n",
    "\n",
    "为我的工作助理添加一些 ToDo 吧。\n"
   ]
  },
  {
   "cell_type": "code",
   "execution_count": null,
   "metadata": {},
   "outputs": [
    {
     "name": "stdout",
     "output_type": "stream",
     "text": [
      "================================\u001b[1m Human Message \u001b[0m=================================\n",
      "\n",
      "Create or update few ToDos: 1) Re-film Module 6, lesson 5 by end of day today. 2) Update audioUX by next Monday.\n",
      "==================================\u001b[1m Ai Message \u001b[0m==================================\n",
      "Tool Calls:\n",
      "  UpdateMemory (call_1ce496ff289a4d7180340d63)\n",
      " Call ID: call_1ce496ff289a4d7180340d63\n",
      "  Args:\n",
      "    update_type: todo\n",
      "=================================\u001b[1m Tool Message \u001b[0m=================================\n",
      "\n",
      "New ToDo created:\n",
      "Content: {'task': 'Re-film Module 6, lesson 5', 'deadline': '2025-09-30T23:59:59', 'time_to_complete': '120', 'status': 'not started', 'solutions': ['Schedule studio time', 'Review original lesson script', 'Coordinate with camera operator']}\n",
      "\n",
      "New ToDo created:\n",
      "Content: {'task': 'Update audioUX', 'deadline': '2025-10-06T23:59:59', 'time_to_complete': '240', 'status': 'not started', 'solutions': ['Gather user feedback', 'Implement UI enhancements', 'Test with focus group']}\n",
      "==================================\u001b[1m Ai Message \u001b[0m==================================\n",
      "\n",
      "I've updated your ToDo list with the following tasks:\n",
      "\n",
      "**Due Today (2025-09-30):**\n",
      "- Re-film Module 6, lesson 5 (estimated: 2 hours)\n",
      "\n",
      "**Due Next Monday (2025-10-06):**\n",
      "- Update audioUX (estimated: 4 hours)\n",
      "\n",
      "Both tasks are now tracked with their respective deadlines and time estimates. Let me know if you'd like to adjust anything!\n"
     ]
    }
   ],
   "source": [
    "from langchain_core.messages import HumanMessage\n",
    "from langchain_core.messages import convert_to_messages\n",
    "\n",
    "user_input = \"Create or update few ToDos: 1) Re-film Module 6, lesson 5 by end of day today. 2) Update audioUX by next Monday.\"\n",
    "thread = await client.threads.create()\n",
    "async for chunk in client.runs.stream(\n",
    "    thread[\"thread_id\"],\n",
    "    work_assistant_id,\n",
    "    input={\"messages\": [HumanMessage(content=user_input)]},\n",
    "    stream_mode=\"values\",\n",
    "):\n",
    "\n",
    "    if chunk.event == \"values\":\n",
    "        state = chunk.data\n",
    "        convert_to_messages(state[\"messages\"])[-1].pretty_print()"
   ]
  },
  {
   "cell_type": "code",
   "execution_count": null,
   "metadata": {},
   "outputs": [
    {
     "name": "stdout",
     "output_type": "stream",
     "text": [
      "================================\u001b[1m Human Message \u001b[0m=================================\n",
      "\n",
      "Create another ToDo: Finalize set of report generation tutorials.\n",
      "==================================\u001b[1m Ai Message \u001b[0m==================================\n",
      "\n",
      "I notice this task doesn't have a deadline yet. Based on similar documentation tasks, this might take about 3 days to complete. Would you like to set a deadline with this in mind?\n"
     ]
    }
   ],
   "source": [
    "user_input = \"Create another ToDo: Finalize set of report generation tutorials.\"\n",
    "thread = await client.threads.create()\n",
    "async for chunk in client.runs.stream(\n",
    "    thread[\"thread_id\"],\n",
    "    work_assistant_id,\n",
    "    input={\"messages\": [HumanMessage(content=user_input)]},\n",
    "    stream_mode=\"values\",\n",
    "):\n",
    "\n",
    "    if chunk.event == \"values\":\n",
    "        state = chunk.data\n",
    "        convert_to_messages(state[\"messages\"])[-1].pretty_print()"
   ]
  },
  {
   "cell_type": "markdown",
   "metadata": {},
   "source": [
    "助理按照它的指令，对创建任务提出了额外要求！\n",
    "\n",
    "它让我补充截止日期 :)\n"
   ]
  },
  {
   "cell_type": "code",
   "execution_count": null,
   "metadata": {},
   "outputs": [
    {
     "name": "stdout",
     "output_type": "stream",
     "text": [
      "================================\u001b[1m Human Message \u001b[0m=================================\n",
      "\n",
      "OK, for this task let's get it done by next Tuesday.\n",
      "==================================\u001b[1m Ai Message \u001b[0m==================================\n",
      "Tool Calls:\n",
      "  UpdateMemory (call_85e5fa0155694bcab49f185d)\n",
      " Call ID: call_85e5fa0155694bcab49f185d\n",
      "  Args:\n",
      "    update_type: todo\n",
      "=================================\u001b[1m Tool Message \u001b[0m=================================\n",
      "\n",
      "New ToDo created:\n",
      "Content: {'task': 'Finalize set of report generation tutorials', 'time_to_complete': '420', 'deadline': '2025-10-07T23:59:59', 'status': 'not started', 'solutions': ['Review existing tutorial drafts', 'Create outline for missing sections', 'Develop code examples for each tutorial', 'Test all code examples', 'Write explanatory text for each section', 'Review and edit final tutorials']}\n",
      "==================================\u001b[1m Ai Message \u001b[0m==================================\n",
      "\n",
      "Got it! I've added \"Finalize set of report generation tutorials\" to your ToDo list with a deadline of next Tuesday (October 7th). The task is estimated to take 420 minutes (7 hours) and includes steps like reviewing drafts, creating outlines, developing code examples, and final editing.\n"
     ]
    }
   ],
   "source": [
    "user_input = \"OK, for this task let's get it done by next Tuesday.\"\n",
    "async for chunk in client.runs.stream(\n",
    "    thread[\"thread_id\"],\n",
    "    work_assistant_id,\n",
    "    input={\"messages\": [HumanMessage(content=user_input)]},\n",
    "    stream_mode=\"values\",\n",
    "):\n",
    "\n",
    "    if chunk.event == \"values\":\n",
    "        state = chunk.data\n",
    "        convert_to_messages(state[\"messages\"])[-1].pretty_print()"
   ]
  },
  {
   "cell_type": "markdown",
   "metadata": {},
   "source": [
    "### 个人助理\n",
    "\n",
    "同样地，我们也可以为个人助理添加 ToDo。\n"
   ]
  },
  {
   "cell_type": "code",
   "execution_count": 12,
   "metadata": {},
   "outputs": [
    {
     "name": "stdout",
     "output_type": "stream",
     "text": [
      "================================\u001b[1m Human Message \u001b[0m=================================\n",
      "\n",
      "Create ToDos: 1) Check on swim lessons for the baby this weekend. 2) For winter travel, check AmEx points.\n",
      "==================================\u001b[1m Ai Message \u001b[0m==================================\n",
      "Tool Calls:\n",
      "  UpdateMemory (call_9de478efae3b4b8f867607d0)\n",
      " Call ID: call_9de478efae3b4b8f867607d0\n",
      "  Args:\n",
      "    update_type: todo\n",
      "=================================\u001b[1m Tool Message \u001b[0m=================================\n",
      "\n",
      "New ToDo created:\n",
      "Content: {'task': 'Check on swim lessons for the baby this weekend', 'time_to_complete': '30', 'deadline': '2025-10-05T23:59:59', 'status': 'not started', 'solutions': ['Search local swim schools or community centers offering infant swim lessons', 'Call or visit websites of nearby swim programs to check weekend availability', 'Ask other parents in local parenting groups for recommendations']}\n",
      "\n",
      "New ToDo created:\n",
      "Content: {'task': 'For winter travel, check AmEx points', 'time_to_complete': '15', 'deadline': '2025-12-01T23:59:59', 'status': 'not started', 'solutions': ['Log in to AmEx online account to view current points balance', 'Review AmEx travel portal for redemption options', 'Check for any expiring points or seasonal promotions']}\n",
      "==================================\u001b[1m Ai Message \u001b[0m==================================\n",
      "\n",
      "I've added both tasks to your ToDo list:\n",
      "\n",
      "1. **Check on swim lessons for the baby this weekend** - Due October 5, 2025 (30 minutes estimated)\n",
      "2. **For winter travel, check AmEx points** - Due December 1, 2025 (15 minutes estimated)\n",
      "\n",
      "Both include suggested next steps to help you get started. Let me know if you'd like to adjust the deadlines or add more details!\n"
     ]
    }
   ],
   "source": [
    "user_input = \"Create ToDos: 1) Check on swim lessons for the baby this weekend. 2) For winter travel, check AmEx points.\"\n",
    "thread = await client.threads.create()\n",
    "async for chunk in client.runs.stream(\n",
    "    thread[\"thread_id\"],\n",
    "    personal_assistant_id,\n",
    "    input={\"messages\": [HumanMessage(content=user_input)]},\n",
    "    stream_mode=\"values\",\n",
    "):\n",
    "\n",
    "    if chunk.event == \"values\":\n",
    "        state = chunk.data\n",
    "        convert_to_messages(state[\"messages\"])[-1].pretty_print()"
   ]
  },
  {
   "cell_type": "code",
   "execution_count": null,
   "metadata": {},
   "outputs": [
    {
     "name": "stdout",
     "output_type": "stream",
     "text": [
      "================================\u001b[1m Human Message \u001b[0m=================================\n",
      "\n",
      "Give me a todo summary.\n",
      "==================================\u001b[1m Ai Message \u001b[0m==================================\n",
      "\n",
      "Here's your current ToDo summary:\n",
      "\n",
      "**Overdue:**\n",
      "- Re-film Module 6, lesson 5 (Deadline: 2025-07-30)\n",
      "\n",
      "**Due This Week:**\n",
      "- Update audioUX (Deadline: 2025-08-04)\n",
      "- Finalize set of report generation tutorials (Deadline: 2025-08-05)\n",
      "\n",
      "**No Deadline:**\n",
      "- For winter travel, check AmEx points\n",
      "- Check on swim lessons for the baby this weekend\n",
      "\n",
      "**Notes:**\n",
      "- The task \"Update audioUX\" doesn't have a time estimate. It might be important to add one to better manage your time.\n",
      "- I notice \"For winter travel, check AmEx points\" and \"Check on swim lessons for the baby this weekend\" don't have deadlines yet. Would you like to set deadlines for these tasks?\n"
     ]
    }
   ],
   "source": [
    "user_input = \"Give me a todo summary.\"\n",
    "thread = await client.threads.create()\n",
    "async for chunk in client.runs.stream(\n",
    "    thread[\"thread_id\"],\n",
    "    personal_assistant_id,\n",
    "    input={\"messages\": [HumanMessage(content=user_input)]},\n",
    "    stream_mode=\"values\",\n",
    "):\n",
    "\n",
    "    if chunk.event == \"values\":\n",
    "        state = chunk.data\n",
    "        convert_to_messages(state[\"messages\"])[-1].pretty_print()"
   ]
  }
 ],
 "metadata": {
  "kernelspec": {
   "display_name": "py311",
   "language": "python",
   "name": "python3"
  },
  "language_info": {
   "codemirror_mode": {
    "name": "ipython",
    "version": 3
   },
   "file_extension": ".py",
   "mimetype": "text/x-python",
   "name": "python",
   "nbconvert_exporter": "python",
   "pygments_lexer": "ipython3",
   "version": "3.11.13"
  }
 },
 "nbformat": 4,
 "nbformat_minor": 4
}
